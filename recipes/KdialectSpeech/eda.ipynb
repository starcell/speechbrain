{
 "cells": [
  {
   "cell_type": "code",
   "execution_count": 11,
   "metadata": {},
   "outputs": [],
   "source": [
    "import pandas as pd\n",
    "import librosa\n",
    "from pathlib import Path"
   ]
  },
  {
   "cell_type": "code",
   "execution_count": 12,
   "metadata": {},
   "outputs": [],
   "source": [
    "data_file = '/speechbrain/recipes/KdialectSpeech/Tokenizer/results/5K_subword_unigram_LM/gs/total.csv'\n",
    "train_data_file = '/speechbrain/recipes/KdialectSpeech/Tokenizer/results/5K_subword_unigram_LM/gs/train.csv'"
   ]
  },
  {
   "cell_type": "code",
   "execution_count": null,
   "metadata": {},
   "outputs": [],
   "source": [
    "Path(data_file).stem"
   ]
  },
  {
   "cell_type": "code",
   "execution_count": 13,
   "metadata": {},
   "outputs": [],
   "source": [
    "data_df = pd.read_csv(data_file)\n",
    "train_data_df = pd.read_csv(train_data_file)"
   ]
  },
  {
   "cell_type": "code",
   "execution_count": 14,
   "metadata": {},
   "outputs": [
    {
     "data": {
      "text/html": [
       "<div>\n",
       "<style scoped>\n",
       "    .dataframe tbody tr th:only-of-type {\n",
       "        vertical-align: middle;\n",
       "    }\n",
       "\n",
       "    .dataframe tbody tr th {\n",
       "        vertical-align: top;\n",
       "    }\n",
       "\n",
       "    .dataframe thead th {\n",
       "        text-align: right;\n",
       "    }\n",
       "</style>\n",
       "<table border=\"1\" class=\"dataframe\">\n",
       "  <thead>\n",
       "    <tr style=\"text-align: right;\">\n",
       "      <th></th>\n",
       "      <th>duration</th>\n",
       "    </tr>\n",
       "  </thead>\n",
       "  <tbody>\n",
       "    <tr>\n",
       "      <th>count</th>\n",
       "      <td>55875.000000</td>\n",
       "    </tr>\n",
       "    <tr>\n",
       "      <th>mean</th>\n",
       "      <td>7.732284</td>\n",
       "    </tr>\n",
       "    <tr>\n",
       "      <th>std</th>\n",
       "      <td>5.294101</td>\n",
       "    </tr>\n",
       "    <tr>\n",
       "      <th>min</th>\n",
       "      <td>0.100000</td>\n",
       "    </tr>\n",
       "    <tr>\n",
       "      <th>25%</th>\n",
       "      <td>4.409000</td>\n",
       "    </tr>\n",
       "    <tr>\n",
       "      <th>50%</th>\n",
       "      <td>6.539000</td>\n",
       "    </tr>\n",
       "    <tr>\n",
       "      <th>75%</th>\n",
       "      <td>9.418500</td>\n",
       "    </tr>\n",
       "    <tr>\n",
       "      <th>max</th>\n",
       "      <td>30.000000</td>\n",
       "    </tr>\n",
       "  </tbody>\n",
       "</table>\n",
       "</div>"
      ],
      "text/plain": [
       "           duration\n",
       "count  55875.000000\n",
       "mean       7.732284\n",
       "std        5.294101\n",
       "min        0.100000\n",
       "25%        4.409000\n",
       "50%        6.539000\n",
       "75%        9.418500\n",
       "max       30.000000"
      ]
     },
     "execution_count": 14,
     "metadata": {},
     "output_type": "execute_result"
    }
   ],
   "source": [
    "data_df.describe()"
   ]
  },
  {
   "cell_type": "code",
   "execution_count": null,
   "metadata": {},
   "outputs": [],
   "source": [
    "train_data_df.describe()"
   ]
  },
  {
   "cell_type": "code",
   "execution_count": 6,
   "metadata": {},
   "outputs": [
    {
     "data": {
      "text/plain": [
       "99.23965916666667"
      ]
     },
     "execution_count": 6,
     "metadata": {},
     "output_type": "execute_result"
    }
   ],
   "source": [
    "train_data_df.duration.sum()/3600"
   ]
  },
  {
   "cell_type": "code",
   "execution_count": 15,
   "metadata": {},
   "outputs": [],
   "source": [
    "sr_abnormal_list = []\n",
    "for file_path in data_df.wav:\n",
    "    frame_rate = librosa.get_samplerate(file_path)\n",
    "    if frame_rate != 16000:\n",
    "        # print(f'sample rate {frame_rate} : {file_path}')\n",
    "        name = Path(file_path).stem\n",
    "        # if '-' not in name:\n",
    "        #     print(name)\n",
    "        #     sr_abnormal_list.append(name)\n",
    "        \n",
    "        # sr_abnormal_list.append(name)\n",
    "        sr_abnormal_list.append(file_path)\n",
    "\n",
    "        # ar_abnormal = f'sample rate {frame_rate} : {file_path}'\n",
    "        # sr_abnormal_list.append(ar_abnormal)\n",
    "\n",
    "sr_abnormal_df = pd.DataFrame(sr_abnormal_list)\n",
    "sr_abnormal_df.to_csv('sr_48k_2.csv')"
   ]
  },
  {
   "cell_type": "code",
   "execution_count": 10,
   "metadata": {},
   "outputs": [
    {
     "data": {
      "text/plain": [
       "720"
      ]
     },
     "execution_count": 10,
     "metadata": {},
     "output_type": "execute_result"
    }
   ],
   "source": [
    "len(sr_abnormal_list)"
   ]
  },
  {
   "cell_type": "code",
   "execution_count": 9,
   "metadata": {},
   "outputs": [
    {
     "data": {
      "text/plain": [
       "['talk_set1_collectorgs63_speakergs346_speakergs347_2_0_138-0',\n",
       " 'talk_set1_collectorgs63_speakergs346_speakergs347_2_0_138-1',\n",
       " 'talk_set1_collectorgs63_speakergs346_speakergs347_2_0_138-2',\n",
       " 'talk_set1_collectorgs7_speakergs12_speakergs13_3_1_93-0',\n",
       " 'talk_set1_collectorgs7_speakergs12_speakergs13_3_1_93-1',\n",
       " 'talk_set1_collectorgs7_speakergs12_speakergs13_3_1_93-3',\n",
       " 'talk_set1_collectorgs7_speakergs12_speakergs13_3_1_93-4',\n",
       " 'talk_set1_collectorgs7_speakergs12_speakergs13_3_1_93-5',\n",
       " 'talk_set1_collectorgs7_speakergs12_speakergs13_3_1_93-6',\n",
       " 'talk_set1_collectorgs7_speakergs12_speakergs13_13_0_34-0',\n",
       " 'talk_set1_collectorgs7_speakergs12_speakergs13_13_0_34-1',\n",
       " 'talk_set1_collectorgs7_speakergs12_speakergs13_13_0_34-2',\n",
       " 'talk_set1_collectorgs7_speakergs12_speakergs13_13_0_34-3',\n",
       " 'talk_set1_collectorgs7_speakergs12_speakergs13_13_0_34-4',\n",
       " 'talk_set1_collectorgs7_speakergs11_collectorgs7_18_0_21-0',\n",
       " 'talk_set1_collectorgs7_speakergs11_collectorgs7_18_0_21-1',\n",
       " 'talk_set1_collectorgs7_speakergs12_speakergs13_2_0_95-0',\n",
       " 'talk_set1_collectorgs7_speakergs12_speakergs13_2_0_95-1',\n",
       " 'talk_set1_collectorgs7_speakergs12_speakergs13_2_0_95-2',\n",
       " 'talk_set1_collectorgs7_speakergs12_speakergs13_2_0_95-3',\n",
       " 'talk_set1_collectorgs7_speakergs12_speakergs13_2_0_95-4',\n",
       " 'talk_set1_collectorgs7_speakergs12_speakergs13_2_0_95-5',\n",
       " 'talk_set1_collectorgs7_speakergs12_speakergs13_2_0_95-6',\n",
       " 'talk_set1_collectorgs7_speakergs12_speakergs13_2_0_95-7',\n",
       " 'talk_set1_collectorgs7_speakergs12_speakergs13_2_0_95-8',\n",
       " 'talk_set1_collectorgs7_speakergs12_speakergs13_2_0_95-9',\n",
       " 'talk_set1_collectorgs7_speakergs12_speakergs13_2_0_95-10',\n",
       " 'talk_set1_collectorgs7_speakergs12_speakergs13_2_0_95-11',\n",
       " 'talk_set1_collectorgs7_speakergs12_speakergs13_12_0_131-2',\n",
       " 'talk_set1_collectorgs7_speakergs12_speakergs13_12_0_131-3',\n",
       " 'talk_set1_collectorgs7_speakergs12_speakergs13_12_0_131-4',\n",
       " 'talk_set1_collectorgs7_speakergs12_speakergs13_12_0_131-5',\n",
       " 'say_set1_collectorgs64_speakergs339_1_0_35-0',\n",
       " 'say_set1_collectorgs64_speakergs339_1_0_35-1',\n",
       " 'say_set1_collectorgs64_speakergs339_1_0_35-2',\n",
       " 'say_set1_collectorgs64_speakergs339_1_0_35-3',\n",
       " 'say_set1_collectorgs64_speakergs339_40_0_32-0',\n",
       " 'say_set1_collectorgs64_speakergs339_40_0_32-1',\n",
       " 'say_set1_collectorgs64_speakergs339_2_0_37-0',\n",
       " 'say_set1_collectorgs64_speakergs339_2_0_37-1',\n",
       " 'say_set1_collectorgs64_speakergs339_2_0_37-2',\n",
       " 'say_set1_collectorgs64_speakergs339_2_0_37-3',\n",
       " 'say_set1_collectorgs64_speakergs339_45_0_26-0',\n",
       " 'say_set1_collectorgs64_speakergs339_45_0_26-1',\n",
       " 'say_set1_collectorgs64_speakergs339_45_0_26-2',\n",
       " 'say_set1_collectorgs64_speakergs339_42_0_31-0',\n",
       " 'say_set1_collectorgs64_speakergs339_42_0_31-1',\n",
       " 'say_set1_collectorgs64_speakergs339_42_0_31-2',\n",
       " 'say_set1_collectorgs64_speakergs339_34_0_35-0',\n",
       " 'say_set1_collectorgs64_speakergs339_34_0_35-1',\n",
       " 'say_set1_collectorgs64_speakergs339_34_0_35-2',\n",
       " 'say_set1_collectorgs64_speakergs339_34_0_35-3',\n",
       " 'say_set1_collectorgs64_speakergs339_30_0_33-0',\n",
       " 'say_set1_collectorgs64_speakergs339_30_0_33-1',\n",
       " 'say_set1_collectorgs64_speakergs339_31_0_27-0',\n",
       " 'say_set1_collectorgs64_speakergs339_31_0_27-1',\n",
       " 'say_set1_collectorgs64_speakergs339_31_0_27-2',\n",
       " 'say_set1_collectorgs64_speakergs339_32_0_22-0',\n",
       " 'say_set1_collectorgs64_speakergs339_32_0_22-1',\n",
       " 'say_set1_collectorgs64_speakergs339_32_0_22-2',\n",
       " 'say_set1_collectorgs64_speakergs339_3_0_29-0',\n",
       " 'say_set1_collectorgs64_speakergs339_3_0_29-1',\n",
       " 'say_set1_collectorgs64_speakergs339_3_0_29-2',\n",
       " 'say_set1_collectorgs64_speakergs339_5_0_30',\n",
       " 'say_set1_collectorgs64_speakergs339_0_0_19-0',\n",
       " 'say_set1_collectorgs64_speakergs339_0_0_19-1',\n",
       " 'say_set1_collectorgs64_speakergs339_19_0_29-0',\n",
       " 'say_set1_collectorgs64_speakergs339_19_0_29-1',\n",
       " 'say_set1_collectorgs64_speakergs339_19_0_29-2',\n",
       " 'say_set1_collectorgs64_speakergs339_28_0_32',\n",
       " 'say_set1_collectorgs64_speakergs339_37_0_33-0',\n",
       " 'say_set1_collectorgs64_speakergs339_37_0_33-1',\n",
       " 'say_set1_collectorgs64_speakergs339_37_0_33-2',\n",
       " 'say_set1_collectorgs64_speakergs339_37_0_33-3',\n",
       " 'say_set1_collectorgs64_speakergs339_47_0_28-0',\n",
       " 'say_set1_collectorgs64_speakergs339_47_0_28-1',\n",
       " 'say_set1_collectorgs64_speakergs339_47_0_28-2',\n",
       " 'say_set1_collectorgs64_speakergs339_18_0_32-0',\n",
       " 'say_set1_collectorgs64_speakergs339_18_0_32-1',\n",
       " 'say_set1_collectorgs64_speakergs339_18_0_32-2',\n",
       " 'say_set1_collectorgs64_speakergs339_39_0_36-0',\n",
       " 'say_set1_collectorgs64_speakergs339_39_0_36-1',\n",
       " 'say_set1_collectorgs64_speakergs339_39_0_36-2',\n",
       " 'say_set1_collectorgs72_speakergs267_62_0_39-0',\n",
       " 'say_set1_collectorgs72_speakergs267_62_0_39-1',\n",
       " 'say_set1_collectorgs72_speakergs267_62_0_39-2',\n",
       " 'say_set1_collectorgs72_speakergs267_55_0_45-0',\n",
       " 'say_set1_collectorgs72_speakergs267_55_0_45-1',\n",
       " 'say_set1_collectorgs72_speakergs267_55_0_45-2',\n",
       " 'say_set1_collectorgs72_speakergs267_55_0_45-3',\n",
       " 'say_set1_collectorgs72_speakergs267_55_0_45-4',\n",
       " 'say_set1_collectorgs72_speakergs303_57_0_37-0',\n",
       " 'say_set1_collectorgs72_speakergs303_57_0_37-1',\n",
       " 'say_set1_collectorgs72_speakergs267_49_0_41-0',\n",
       " 'say_set1_collectorgs72_speakergs267_49_0_41-1',\n",
       " 'say_set1_collectorgs72_speakergs267_49_0_41-2',\n",
       " 'say_set1_collectorgs72_speakergs267_49_0_41-3',\n",
       " 'say_set1_collectorgs72_speakergs267_49_0_41-4',\n",
       " 'say_set1_collectorgs72_speakergs267_16_0_39-0',\n",
       " 'say_set1_collectorgs72_speakergs267_16_0_39-1']"
      ]
     },
     "execution_count": 9,
     "metadata": {},
     "output_type": "execute_result"
    }
   ],
   "source": [
    "sr_abnormal_list[:100]"
   ]
  },
  {
   "cell_type": "code",
   "execution_count": null,
   "metadata": {},
   "outputs": [],
   "source": [
    "sr_abnormal_list #[:10]"
   ]
  },
  {
   "cell_type": "code",
   "execution_count": null,
   "metadata": {},
   "outputs": [],
   "source": [
    "for sr_abnormal in sr_abnormal_list:\n",
    "    if '-' not in sr_abnormal:\n",
    "        print(sr_abnormal)"
   ]
  },
  {
   "cell_type": "code",
   "execution_count": null,
   "metadata": {},
   "outputs": [],
   "source": [
    "data_file_2 = '/speechbrain/recipes/KdialectSpeech/Tokenizer/results/2K_subword_unigram_LM/gs/train.csv'"
   ]
  },
  {
   "cell_type": "code",
   "execution_count": null,
   "metadata": {},
   "outputs": [],
   "source": [
    "data_df_2 = pd.read_csv(data_file_2)"
   ]
  },
  {
   "cell_type": "code",
   "execution_count": null,
   "metadata": {},
   "outputs": [],
   "source": [
    "data_df_2.describe()"
   ]
  }
 ],
 "metadata": {
  "kernelspec": {
   "display_name": "Python 3.8.12 ('base')",
   "language": "python",
   "name": "python3"
  },
  "language_info": {
   "codemirror_mode": {
    "name": "ipython",
    "version": 3
   },
   "file_extension": ".py",
   "mimetype": "text/x-python",
   "name": "python",
   "nbconvert_exporter": "python",
   "pygments_lexer": "ipython3",
   "version": "3.8.12"
  },
  "orig_nbformat": 4,
  "vscode": {
   "interpreter": {
    "hash": "d4d1e4263499bec80672ea0156c357c1ee493ec2b1c70f0acce89fc37c4a6abe"
   }
  }
 },
 "nbformat": 4,
 "nbformat_minor": 2
}
