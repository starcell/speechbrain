{
 "cells": [
  {
   "cell_type": "code",
   "execution_count": null,
   "metadata": {},
   "outputs": [],
   "source": [
    "# excel 파일에 저장된 대본의 문장을 모아서 토크나이저를 만든다.\n",
    "# excel 파일을 제대로 읽기 위해서 openpyxl을 설치\n",
    "# pip install openpyxl\n",
    "\n",
    "import pandas as pd\n",
    "from speechbrain.tokenizers.SentencePiece import SentencePiece\n",
    "import os\n",
    "import re"
   ]
  },
  {
   "cell_type": "code",
   "execution_count": null,
   "metadata": {},
   "outputs": [],
   "source": [
    "# speechbrain tokenizer prepare에 있는 nomalize 함수\n",
    "\n",
    "def normalize(string):\n",
    "    \"\"\"\n",
    "    This function normalizes a given string according to\n",
    "    the normalization rule\n",
    "    The normalization rule removes \"/\" indicating filler words,\n",
    "    removes \"+\" indicating repeated words,\n",
    "    removes all punctuation marks,\n",
    "    removes non-speech symbols,\n",
    "    and extracts orthographic transcriptions.\n",
    "\n",
    "    Arguments\n",
    "    ---------\n",
    "    string : str\n",
    "        The string to be normalized\n",
    "\n",
    "    Returns\n",
    "    -------\n",
    "    str\n",
    "        The string normalized according to the rules\n",
    "\n",
    "    \"\"\"\n",
    "    # extracts orthographic transcription\n",
    "    string = re.sub(r\"\\(([^)]*)\\)\\/\\(([^)]*)\\)\", r\"\\1\", string)\n",
    "    # removes non-speech symbols\n",
    "    string = re.sub(r\"n/|b/|o/|l/|u/\", \"\", string)\n",
    "    # removes punctuation marks\n",
    "    string = re.sub(r\"[+*/.?!,]\", \"\", string)\n",
    "    # removes extra spaces\n",
    "    string = re.sub(r\"\\s+\", \" \", string)\n",
    "    string = string.strip()\n",
    "\n",
    "    return string"
   ]
  },
  {
   "cell_type": "code",
   "execution_count": null,
   "metadata": {},
   "outputs": [],
   "source": [
    "# excel file 읽기, 시이트가 여러개 있는 경우 각각의 시이트를 차례로 읽어온다.\n",
    "# sheet_num 변수에 읽어올 이이트의 수를 저장, 0,1,...sheet_num-1 순서로 읽어온다.\n",
    "\n",
    "data_folder = '../raw_data'\n",
    "output_folder = 'results'\n",
    "file_name = '따라말하기_강원도_1~3세트_0924.xlsx'\n",
    "\n",
    "data_file_path = os.path.join(data_folder, file_name)\n",
    "\n",
    "sheet_num = 3\n",
    "\n",
    "for i in range(sheet_num):\n",
    "    # globals()['df_{}'.format(i)] = pd.read_excel(file_name, sheet_name=i, engine='openpyxl') # 아래와 동일\n",
    "    globals()[f'df_{i}'] = pd.read_excel(data_file_path, sheet_name=i, engine='openpyxl') # df_0, df_1, df_2 에 각각의 내용을 저장"
   ]
  },
  {
   "cell_type": "code",
   "execution_count": null,
   "metadata": {},
   "outputs": [],
   "source": [
    "total_df = pd.concat([\n",
    "    df_0[['주제', '방언 표기', '표준어 표기']],\n",
    "    df_1[['주제', '방언 표기', '표준어 표기']],\n",
    "    df_2[['주제', '방언 표기', '표준어 표기']]])"
   ]
  },
  {
   "cell_type": "code",
   "execution_count": null,
   "metadata": {},
   "outputs": [],
   "source": [
    "total_df['wrd'] = total_df['방언 표기'].apply(normalize)"
   ]
  },
  {
   "cell_type": "code",
   "execution_count": null,
   "metadata": {},
   "outputs": [],
   "source": [
    "total_df"
   ]
  },
  {
   "cell_type": "code",
   "execution_count": null,
   "metadata": {},
   "outputs": [],
   "source": [
    "# total_df.columns = ['subject', 'wrd', 'standard']"
   ]
  },
  {
   "cell_type": "code",
   "execution_count": null,
   "metadata": {},
   "outputs": [],
   "source": [
    "csv_file_name = 'gw.csv'\n",
    "output_path = os.path.join(output_folder, csv_file_name)\n",
    "\n",
    "total_df.to_csv(output_path)"
   ]
  },
  {
   "cell_type": "code",
   "execution_count": null,
   "metadata": {},
   "outputs": [],
   "source": [
    "model_dir = '../models/token'\n",
    "\n",
    "sp = SentencePiece(\n",
    "    model_dir=model_dir,\n",
    "    vocab_size=1500,\n",
    "    annotation_train=output_path,\n",
    "    annotation_read='wrd',\n",
    "    model_type='unigram',\n",
    "    character_coverage=1.0,\n",
    "    bos_id=1,\n",
    "    eos_id=2\n",
    ")"
   ]
  },
  {
   "cell_type": "code",
   "execution_count": null,
   "metadata": {},
   "outputs": [],
   "source": []
  }
 ],
 "metadata": {
  "kernelspec": {
   "display_name": "Python 3.8.12 ('base')",
   "language": "python",
   "name": "python3"
  },
  "language_info": {
   "name": "python",
   "version": "3.8.12"
  },
  "orig_nbformat": 4,
  "vscode": {
   "interpreter": {
    "hash": "d4d1e4263499bec80672ea0156c357c1ee493ec2b1c70f0acce89fc37c4a6abe"
   }
  }
 },
 "nbformat": 4,
 "nbformat_minor": 2
}
