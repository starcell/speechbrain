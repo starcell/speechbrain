{
 "cells": [
  {
   "cell_type": "code",
   "execution_count": null,
   "metadata": {},
   "outputs": [],
   "source": [
    "from sentencepiece import SentencePieceProcessor"
   ]
  },
  {
   "cell_type": "code",
   "execution_count": null,
   "metadata": {},
   "outputs": [],
   "source": [
    "tokenizer = SentencePieceProcessor()"
   ]
  },
  {
   "cell_type": "code",
   "execution_count": null,
   "metadata": {},
   "outputs": [],
   "source": [
    "model_file = \"results/5K_subword_unigram_LM/gs/5000_unigram.model\"\n",
    "tokenizer.load(model_file)"
   ]
  },
  {
   "cell_type": "code",
   "execution_count": null,
   "metadata": {},
   "outputs": [],
   "source": [
    "# DecodeIds : 정수 시퀀스로부터 문장으로 변환합니다.\n",
    "tokens_eos = [  86,    5,    3, 2316, 2111,   14, 1821,   10,    3, 4741,   74,   22,\n",
    "          119, 1268,   17,   56,  197,    4, 1722,   27, 1666,  197,    4, 1722,\n",
    "         1551,   46,    2]\n",
    "\n",
    "tokenizer.DecodeIds(tokens_eos)"
   ]
  },
  {
   "cell_type": "code",
   "execution_count": null,
   "metadata": {},
   "outputs": [],
   "source": [
    "tokens_eos = [1535,  219,   92, 1244,   17,  801,  801, 1363,    9,   44, 2016,    4,\n",
    "         1244,   17,  801, 1363,  414,   31,    3, 4742, 4693,   12,   32, 1694,\n",
    "           20,  953,    3, 4742, 4693,   10,  221, 1001,   18,   25,    6, 1837,\n",
    "           43,    3, 4795,   12, 3698, 1535,  651, 1405,   66,   77, 1670, 1014,\n",
    "           33,  209, 2967,   14, 1197,   17,  801,  691,  801, 1363,  414,   31,\n",
    "         1475,   12, 2428,   12,  124,  979, 1135, 3707,    7,   54,  454,   25,\n",
    "         1405,   66,  492, 1535,    6,  979,  832,  832, 1787,   39,    3, 4742,\n",
    "         4693,   10,  297,  197, 1014,   34,   20,    3,  517,  517,  164,  296,\n",
    "            2]\n",
    "\n",
    "tokenizer.DecodeIds(tokens_eos)"
   ]
  }
 ],
 "metadata": {
  "kernelspec": {
   "display_name": "Python 3.8.12 ('base')",
   "language": "python",
   "name": "python3"
  },
  "language_info": {
   "name": "python",
   "version": "3.8.12"
  },
  "orig_nbformat": 4,
  "vscode": {
   "interpreter": {
    "hash": "d4d1e4263499bec80672ea0156c357c1ee493ec2b1c70f0acce89fc37c4a6abe"
   }
  }
 },
 "nbformat": 4,
 "nbformat_minor": 2
}
