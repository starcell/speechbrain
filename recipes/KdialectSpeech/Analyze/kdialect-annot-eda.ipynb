{
 "cells": [
  {
   "cell_type": "code",
   "execution_count": 1,
   "metadata": {},
   "outputs": [
    {
     "name": "stderr",
     "output_type": "stream",
     "text": [
      "Duplicate key in file PosixPath('/opt/conda/lib/python3.8/site-packages/matplotlib/mpl-data/matplotlibrc'), line 257 ('font.family: NanumGothic')\n"
     ]
    }
   ],
   "source": [
    "import pandas as pd\n",
    "\n",
    "# 그래프에서 한글을 표시하기 위해 한글 폰트 필요\n",
    "# 아래는 리눅스용이므로 위도우에서 사용할 경우 안될 수 있습니다. 그러면 윈도우에서의 설정 방법을 찾아서 해야 합니다.\n",
    "# apt-get install -y fonts-nanum\n",
    "\n",
    "# https://dasom.net/108\n",
    "\n",
    "import matplotlib.pyplot as plt\n",
    "plt.rc('axes', unicode_minus=False)\n",
    "plt.rcParams[\"font.family\"] = \"NanumGothic\""
   ]
  },
  {
   "cell_type": "code",
   "execution_count": 2,
   "metadata": {},
   "outputs": [],
   "source": [
    "# 모든 행을 보기위한 설정\n",
    "pd.set_option('display.max_rows', None)"
   ]
  },
  {
   "cell_type": "code",
   "execution_count": 3,
   "metadata": {},
   "outputs": [],
   "source": [
    "data_file = \"kdialect_annot_utter_type.csv\"\n",
    "annot_df = pd.read_csv(data_file)"
   ]
  },
  {
   "cell_type": "code",
   "execution_count": 4,
   "metadata": {},
   "outputs": [
    {
     "data": {
      "text/html": [
       "<div>\n",
       "<style scoped>\n",
       "    .dataframe tbody tr th:only-of-type {\n",
       "        vertical-align: middle;\n",
       "    }\n",
       "\n",
       "    .dataframe tbody tr th {\n",
       "        vertical-align: top;\n",
       "    }\n",
       "\n",
       "    .dataframe thead th {\n",
       "        text-align: right;\n",
       "    }\n",
       "</style>\n",
       "<table border=\"1\" class=\"dataframe\">\n",
       "  <thead>\n",
       "    <tr style=\"text-align: right;\">\n",
       "      <th></th>\n",
       "      <th>birth_year</th>\n",
       "    </tr>\n",
       "  </thead>\n",
       "  <tbody>\n",
       "    <tr>\n",
       "      <th>count</th>\n",
       "      <td>1.325878e+06</td>\n",
       "    </tr>\n",
       "    <tr>\n",
       "      <th>mean</th>\n",
       "      <td>1.954827e+03</td>\n",
       "    </tr>\n",
       "    <tr>\n",
       "      <th>std</th>\n",
       "      <td>1.365340e+01</td>\n",
       "    </tr>\n",
       "    <tr>\n",
       "      <th>min</th>\n",
       "      <td>1.052000e+03</td>\n",
       "    </tr>\n",
       "    <tr>\n",
       "      <th>25%</th>\n",
       "      <td>1.949000e+03</td>\n",
       "    </tr>\n",
       "    <tr>\n",
       "      <th>50%</th>\n",
       "      <td>1.955000e+03</td>\n",
       "    </tr>\n",
       "    <tr>\n",
       "      <th>75%</th>\n",
       "      <td>1.961000e+03</td>\n",
       "    </tr>\n",
       "    <tr>\n",
       "      <th>max</th>\n",
       "      <td>1.999000e+03</td>\n",
       "    </tr>\n",
       "  </tbody>\n",
       "</table>\n",
       "</div>"
      ],
      "text/plain": [
       "         birth_year\n",
       "count  1.325878e+06\n",
       "mean   1.954827e+03\n",
       "std    1.365340e+01\n",
       "min    1.052000e+03\n",
       "25%    1.949000e+03\n",
       "50%    1.955000e+03\n",
       "75%    1.961000e+03\n",
       "max    1.999000e+03"
      ]
     },
     "execution_count": 4,
     "metadata": {},
     "output_type": "execute_result"
    }
   ],
   "source": [
    "# annot_df.dtypes\n",
    "# annot_df.info\n",
    "annot_df.describe()\n",
    "# annot_df.describe"
   ]
  },
  {
   "cell_type": "code",
   "execution_count": 5,
   "metadata": {},
   "outputs": [
    {
     "data": {
      "text/plain": [
       "1052.0       47\n",
       "1630.0       56\n",
       "1647.0      424\n",
       "1651.0      191\n",
       "1653.0      213\n",
       "1656.0       55\n",
       "1660.0      143\n",
       "1664.0       42\n",
       "1921.0       25\n",
       "1924.0        1\n",
       "1929.0      226\n",
       "1930.0      595\n",
       "1931.0      791\n",
       "1932.0      385\n",
       "1933.0     1148\n",
       "1934.0     1651\n",
       "1935.0     4178\n",
       "1936.0     5462\n",
       "1937.0     6059\n",
       "1938.0     8823\n",
       "1939.0    13664\n",
       "1940.0    13661\n",
       "1941.0    16114\n",
       "1942.0    28778\n",
       "1943.0    28419\n",
       "1944.0    31309\n",
       "1945.0    27422\n",
       "1946.0    34087\n",
       "1947.0    46965\n",
       "1948.0    44639\n",
       "1949.0    55968\n",
       "1950.0    56114\n",
       "1951.0    50657\n",
       "1952.0    69544\n",
       "1953.0    56424\n",
       "1954.0    48367\n",
       "1955.0    58343\n",
       "1956.0    52555\n",
       "1957.0    58906\n",
       "1958.0    44297\n",
       "1959.0    46515\n",
       "1960.0    52384\n",
       "1961.0    52069\n",
       "1962.0    30083\n",
       "1963.0    22372\n",
       "1964.0    29336\n",
       "1965.0    28668\n",
       "1966.0    24663\n",
       "1967.0    20483\n",
       "1968.0    23258\n",
       "1969.0    28721\n",
       "1970.0    30074\n",
       "1971.0    27956\n",
       "1972.0    27189\n",
       "1973.0    13635\n",
       "1974.0      417\n",
       "1975.0      162\n",
       "1976.0       27\n",
       "1978.0      194\n",
       "1979.0       98\n",
       "1980.0       16\n",
       "1982.0      353\n",
       "1983.0        3\n",
       "1986.0       51\n",
       "1987.0       46\n",
       "1994.0      160\n",
       "1996.0      156\n",
       "1999.0       41\n",
       "Name: birth_year, dtype: int64"
      ]
     },
     "execution_count": 5,
     "metadata": {},
     "output_type": "execute_result"
    }
   ],
   "source": [
    "annot_df[\"birth_year\"].value_counts().sort_index()"
   ]
  },
  {
   "cell_type": "code",
   "execution_count": 5,
   "metadata": {},
   "outputs": [],
   "source": [
    "say_talk_df = annot_df[(annot_df[\"utterance_type\"] == \"say\") | (annot_df[\"utterance_type\"] == \"talk\")]"
   ]
  },
  {
   "cell_type": "code",
   "execution_count": 6,
   "metadata": {},
   "outputs": [
    {
     "data": {
      "text/html": [
       "<div>\n",
       "<style scoped>\n",
       "    .dataframe tbody tr th:only-of-type {\n",
       "        vertical-align: middle;\n",
       "    }\n",
       "\n",
       "    .dataframe tbody tr th {\n",
       "        vertical-align: top;\n",
       "    }\n",
       "\n",
       "    .dataframe thead th {\n",
       "        text-align: right;\n",
       "    }\n",
       "</style>\n",
       "<table border=\"1\" class=\"dataframe\">\n",
       "  <thead>\n",
       "    <tr style=\"text-align: right;\">\n",
       "      <th></th>\n",
       "      <th>json_file_name</th>\n",
       "      <th>utterance_type</th>\n",
       "      <th>speaker_id</th>\n",
       "      <th>residence_province</th>\n",
       "      <th>gender</th>\n",
       "      <th>birth_year</th>\n",
       "      <th>sentence_id</th>\n",
       "      <th>intent_type</th>\n",
       "      <th>intent_category</th>\n",
       "      <th>emotion_type</th>\n",
       "      <th>grammar_type</th>\n",
       "    </tr>\n",
       "  </thead>\n",
       "  <tbody>\n",
       "    <tr>\n",
       "      <th>0</th>\n",
       "      <td>say_set2_collectorjl122_speakerjl1996_16_1_36</td>\n",
       "      <td>say</td>\n",
       "      <td>speakerjl1996</td>\n",
       "      <td>jl</td>\n",
       "      <td>f</td>\n",
       "      <td>1950.0</td>\n",
       "      <td>1.0</td>\n",
       "      <td>REP</td>\n",
       "      <td>추측</td>\n",
       "      <td>irrelevant</td>\n",
       "      <td>DEC</td>\n",
       "    </tr>\n",
       "    <tr>\n",
       "      <th>1</th>\n",
       "      <td>say_set2_collectorjl122_speakerjl1996_16_1_36</td>\n",
       "      <td>say</td>\n",
       "      <td>speakerjl1996</td>\n",
       "      <td>jl</td>\n",
       "      <td>f</td>\n",
       "      <td>1950.0</td>\n",
       "      <td>2.0</td>\n",
       "      <td>DES</td>\n",
       "      <td>객관적경험</td>\n",
       "      <td>irrelevant</td>\n",
       "      <td>DEC</td>\n",
       "    </tr>\n",
       "    <tr>\n",
       "      <th>2</th>\n",
       "      <td>say_set2_collectorjl122_speakerjl1996_16_1_36</td>\n",
       "      <td>say</td>\n",
       "      <td>speakerjl1996</td>\n",
       "      <td>jl</td>\n",
       "      <td>f</td>\n",
       "      <td>1950.0</td>\n",
       "      <td>3.0</td>\n",
       "      <td>REP</td>\n",
       "      <td>판단</td>\n",
       "      <td>irrelevant</td>\n",
       "      <td>DEC</td>\n",
       "    </tr>\n",
       "    <tr>\n",
       "      <th>3</th>\n",
       "      <td>say_set2_collectorjl122_speakerjl1996_16_1_36</td>\n",
       "      <td>say</td>\n",
       "      <td>speakerjl1996</td>\n",
       "      <td>jl</td>\n",
       "      <td>f</td>\n",
       "      <td>1950.0</td>\n",
       "      <td>4.0</td>\n",
       "      <td>DES</td>\n",
       "      <td>객관적경험</td>\n",
       "      <td>irrelevant</td>\n",
       "      <td>DEC</td>\n",
       "    </tr>\n",
       "    <tr>\n",
       "      <th>4</th>\n",
       "      <td>say_set1_collectorgw198_speakergw1713_21_0_11</td>\n",
       "      <td>say</td>\n",
       "      <td>speakergw1713</td>\n",
       "      <td>gw</td>\n",
       "      <td>f</td>\n",
       "      <td>1962.0</td>\n",
       "      <td>1.0</td>\n",
       "      <td>DES</td>\n",
       "      <td>객관적경험</td>\n",
       "      <td>irrelevant</td>\n",
       "      <td>DEC</td>\n",
       "    </tr>\n",
       "  </tbody>\n",
       "</table>\n",
       "</div>"
      ],
      "text/plain": [
       "                                  json_file_name utterance_type  \\\n",
       "0  say_set2_collectorjl122_speakerjl1996_16_1_36            say   \n",
       "1  say_set2_collectorjl122_speakerjl1996_16_1_36            say   \n",
       "2  say_set2_collectorjl122_speakerjl1996_16_1_36            say   \n",
       "3  say_set2_collectorjl122_speakerjl1996_16_1_36            say   \n",
       "4  say_set1_collectorgw198_speakergw1713_21_0_11            say   \n",
       "\n",
       "      speaker_id residence_province gender  birth_year sentence_id  \\\n",
       "0  speakerjl1996                 jl      f      1950.0         1.0   \n",
       "1  speakerjl1996                 jl      f      1950.0         2.0   \n",
       "2  speakerjl1996                 jl      f      1950.0         3.0   \n",
       "3  speakerjl1996                 jl      f      1950.0         4.0   \n",
       "4  speakergw1713                 gw      f      1962.0         1.0   \n",
       "\n",
       "  intent_type intent_category emotion_type grammar_type  \n",
       "0         REP              추측   irrelevant          DEC  \n",
       "1         DES           객관적경험   irrelevant          DEC  \n",
       "2         REP              판단   irrelevant          DEC  \n",
       "3         DES           객관적경험   irrelevant          DEC  \n",
       "4         DES           객관적경험   irrelevant          DEC  "
      ]
     },
     "execution_count": 6,
     "metadata": {},
     "output_type": "execute_result"
    }
   ],
   "source": [
    "say_talk_df.head()"
   ]
  },
  {
   "cell_type": "code",
   "execution_count": null,
   "metadata": {},
   "outputs": [],
   "source": [
    "say_talk_df.describe()"
   ]
  },
  {
   "cell_type": "code",
   "execution_count": null,
   "metadata": {},
   "outputs": [],
   "source": [
    "# 연령대\n",
    "# 30대 : 1982 ~ 1991\n",
    "# 40대 : 1972 ~ 1981\n",
    "# 50대 : 1962 ~ 1971\n",
    "# 60대 : 1952 ~ 1961\n",
    "# 70대 : 1942 ~ 1951\n",
    "# 80대 : 1932 ~ 1941\n",
    "# 90대 : 1922 ~ 1931\n",
    "\n",
    "annot_30_df = say_talk_df[(1982 <= annot_df[\"birth_year\"]) & (annot_df[\"birth_year\"] <= 1991)]\n",
    "annot_40_df = say_talk_df[(1972 <= annot_df[\"birth_year\"]) & (annot_df[\"birth_year\"] <= 1981)]\n",
    "annot_50_df = say_talk_df[(1962 <= annot_df[\"birth_year\"]) & (annot_df[\"birth_year\"] <= 1971)]\n",
    "annot_60_df = say_talk_df[(1952 <= annot_df[\"birth_year\"]) & (annot_df[\"birth_year\"] <= 1961)]\n",
    "annot_70_df = say_talk_df[(1942 <= annot_df[\"birth_year\"]) & (annot_df[\"birth_year\"] <= 1951)]\n",
    "annot_80_df = say_talk_df[(1932 <= annot_df[\"birth_year\"]) & (annot_df[\"birth_year\"] <= 1941)]\n",
    "annot_90_df = say_talk_df[(1922 <= annot_df[\"birth_year\"]) & (annot_df[\"birth_year\"] <= 1931)]\n",
    "\n",
    "# ages = [\"30\", \"40\", \"50\", \"60\", \"70\", \"80\", \"90\"]\n",
    "# tag_type = [\"intent\", \"category\", \"emotion\", \"grammar\"]"
   ]
  },
  {
   "cell_type": "code",
   "execution_count": null,
   "metadata": {},
   "outputs": [],
   "source": [
    "say_talk_df[\"birth_year\"].value_counts().sort_index()"
   ]
  },
  {
   "cell_type": "code",
   "execution_count": null,
   "metadata": {},
   "outputs": [],
   "source": [
    "say_talk_df[\"gender\"].value_counts().sort_index()"
   ]
  },
  {
   "cell_type": "code",
   "execution_count": null,
   "metadata": {},
   "outputs": [],
   "source": [
    "say_talk_df[\"gender\"].value_counts().sort_index().plot(kind=\"bar\")"
   ]
  },
  {
   "cell_type": "code",
   "execution_count": null,
   "metadata": {},
   "outputs": [],
   "source": []
  }
 ],
 "metadata": {
  "kernelspec": {
   "display_name": "base",
   "language": "python",
   "name": "python3"
  },
  "language_info": {
   "codemirror_mode": {
    "name": "ipython",
    "version": 3
   },
   "file_extension": ".py",
   "mimetype": "text/x-python",
   "name": "python",
   "nbconvert_exporter": "python",
   "pygments_lexer": "ipython3",
   "version": "3.8.12"
  },
  "orig_nbformat": 4,
  "vscode": {
   "interpreter": {
    "hash": "d4d1e4263499bec80672ea0156c357c1ee493ec2b1c70f0acce89fc37c4a6abe"
   }
  }
 },
 "nbformat": 4,
 "nbformat_minor": 2
}
