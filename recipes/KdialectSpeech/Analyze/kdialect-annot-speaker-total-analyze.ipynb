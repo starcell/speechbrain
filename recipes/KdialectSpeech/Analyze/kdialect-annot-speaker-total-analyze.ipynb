{
 "cells": [
  {
   "cell_type": "code",
   "execution_count": 1,
   "metadata": {},
   "outputs": [],
   "source": [
    "import pandas as pd"
   ]
  },
  {
   "cell_type": "code",
   "execution_count": 21,
   "metadata": {},
   "outputs": [],
   "source": [
    "# 그래프에서 한글을 표시하기 위해 한글 폰트 필요\n",
    "# 아래는 리눅스용이므로 위도우에서 사용할 경우 안될 수 있습니다. 그러면 윈도우에서의 설정 방법을 찾아서 해야 합니다.\n",
    "# apt-get install -y fonts-nanum\n",
    "# https://dasom.net/108\n",
    "\n",
    "import matplotlib.pyplot as plt\n",
    "plt.rc('axes', unicode_minus=False)\n",
    "plt.rcParams[\"font.family\"] = \"NanumGothic\""
   ]
  },
  {
   "cell_type": "code",
   "execution_count": 3,
   "metadata": {},
   "outputs": [],
   "source": [
    "# plt.text(0.3, 0.3, '한글', size=100)"
   ]
  },
  {
   "cell_type": "code",
   "execution_count": 4,
   "metadata": {},
   "outputs": [],
   "source": [
    "data_file_1 = \"annot_csvs/gw_speaker.csv\"\n",
    "data_file_2 = \"annot_csvs/gs_speaker.csv\"\n",
    "data_file_3 = \"annot_csvs/cc_speaker.csv\"\n",
    "data_file_4 = \"annot_csvs/jl_speaker.csv\"\n",
    "data_file_5 = \"annot_csvs/jj_speaker.csv\"\n",
    "\n",
    "annot_df_1 = pd.read_csv(data_file_1)\n",
    "annot_df_2 = pd.read_csv(data_file_2)\n",
    "annot_df_3 = pd.read_csv(data_file_3)\n",
    "annot_df_4 = pd.read_csv(data_file_4)\n",
    "annot_df_5 = pd.read_csv(data_file_5)"
   ]
  },
  {
   "cell_type": "code",
   "execution_count": 5,
   "metadata": {},
   "outputs": [],
   "source": [
    "annot_df = pd.concat([annot_df_1, annot_df_2, annot_df_3, annot_df_4, annot_df_5])"
   ]
  },
  {
   "cell_type": "code",
   "execution_count": 6,
   "metadata": {},
   "outputs": [
    {
     "data": {
      "text/html": [
       "<div>\n",
       "<style scoped>\n",
       "    .dataframe tbody tr th:only-of-type {\n",
       "        vertical-align: middle;\n",
       "    }\n",
       "\n",
       "    .dataframe tbody tr th {\n",
       "        vertical-align: top;\n",
       "    }\n",
       "\n",
       "    .dataframe thead th {\n",
       "        text-align: right;\n",
       "    }\n",
       "</style>\n",
       "<table border=\"1\" class=\"dataframe\">\n",
       "  <thead>\n",
       "    <tr style=\"text-align: right;\">\n",
       "      <th></th>\n",
       "      <th>Unnamed: 0</th>\n",
       "      <th>birth_year</th>\n",
       "    </tr>\n",
       "  </thead>\n",
       "  <tbody>\n",
       "    <tr>\n",
       "      <th>count</th>\n",
       "      <td>13397.000000</td>\n",
       "      <td>13397.000000</td>\n",
       "    </tr>\n",
       "    <tr>\n",
       "      <th>mean</th>\n",
       "      <td>9074.528477</td>\n",
       "      <td>1957.161155</td>\n",
       "    </tr>\n",
       "    <tr>\n",
       "      <th>std</th>\n",
       "      <td>18593.190753</td>\n",
       "      <td>13.403936</td>\n",
       "    </tr>\n",
       "    <tr>\n",
       "      <th>min</th>\n",
       "      <td>0.000000</td>\n",
       "      <td>1052.000000</td>\n",
       "    </tr>\n",
       "    <tr>\n",
       "      <th>25%</th>\n",
       "      <td>755.000000</td>\n",
       "      <td>1950.000000</td>\n",
       "    </tr>\n",
       "    <tr>\n",
       "      <th>50%</th>\n",
       "      <td>2397.000000</td>\n",
       "      <td>1956.000000</td>\n",
       "    </tr>\n",
       "    <tr>\n",
       "      <th>75%</th>\n",
       "      <td>8121.000000</td>\n",
       "      <td>1966.000000</td>\n",
       "    </tr>\n",
       "    <tr>\n",
       "      <th>max</th>\n",
       "      <td>184015.000000</td>\n",
       "      <td>1974.000000</td>\n",
       "    </tr>\n",
       "  </tbody>\n",
       "</table>\n",
       "</div>"
      ],
      "text/plain": [
       "          Unnamed: 0    birth_year\n",
       "count   13397.000000  13397.000000\n",
       "mean     9074.528477   1957.161155\n",
       "std     18593.190753     13.403936\n",
       "min         0.000000   1052.000000\n",
       "25%       755.000000   1950.000000\n",
       "50%      2397.000000   1956.000000\n",
       "75%      8121.000000   1966.000000\n",
       "max    184015.000000   1974.000000"
      ]
     },
     "execution_count": 6,
     "metadata": {},
     "output_type": "execute_result"
    }
   ],
   "source": [
    "annot_df.describe()"
   ]
  },
  {
   "cell_type": "code",
   "execution_count": 7,
   "metadata": {},
   "outputs": [],
   "source": [
    "annot_df.to_csv(\"annot_csvs/total_speaker.csv\")"
   ]
  },
  {
   "cell_type": "code",
   "execution_count": 8,
   "metadata": {},
   "outputs": [
    {
     "data": {
      "text/plain": [
       "f    9731\n",
       "m    3666\n",
       "Name: gender, dtype: int64"
      ]
     },
     "execution_count": 8,
     "metadata": {},
     "output_type": "execute_result"
    }
   ],
   "source": [
    "annot_df[\"gender\"].value_counts()"
   ]
  },
  {
   "cell_type": "code",
   "execution_count": 9,
   "metadata": {},
   "outputs": [
    {
     "data": {
      "text/plain": [
       "<AxesSubplot:title={'center':'전체 화자 성별'}>"
      ]
     },
     "execution_count": 9,
     "metadata": {},
     "output_type": "execute_result"
    },
    {
     "data": {
      "image/png": "[encoded data removed]",
      "text/plain": [
       "<Figure size 432x288 with 1 Axes>"
      ]
     },
     "metadata": {
      "needs_background": "light"
     },
     "output_type": "display_data"
    }
   ],
   "source": [
    "annot_df[\"gender\"].value_counts().plot(kind=\"bar\", title=\"전체 화자 성별\")"
   ]
  },
  {
   "cell_type": "code",
   "execution_count": 10,
   "metadata": {},
   "outputs": [
    {
     "data": {
      "text/plain": [
       "Unnamed: 0             7934\n",
       "speaker_id            12828\n",
       "residence_province        5\n",
       "gender                    2\n",
       "birth_year               51\n",
       "dtype: int64"
      ]
     },
     "execution_count": 10,
     "metadata": {},
     "output_type": "execute_result"
    }
   ],
   "source": [
    "# gw_annot_df.nunique().speaker_id\n",
    "annot_df.nunique()   "
   ]
  },
  {
   "cell_type": "code",
   "execution_count": 78,
   "metadata": {},
   "outputs": [
    {
     "data": {
      "text/plain": [
       "1933.0      1\n",
       "1934.0      5\n",
       "1941.0      2\n",
       "1944.0      5\n",
       "1945.0      3\n",
       "1946.0      3\n",
       "1947.0      7\n",
       "1948.0      7\n",
       "1949.0      4\n",
       "1950.0      3\n",
       "1951.0      4\n",
       "1952.0      7\n",
       "1953.0      5\n",
       "1954.0      4\n",
       "1955.0     16\n",
       "1956.0     17\n",
       "1957.0     39\n",
       "1958.0     20\n",
       "1959.0     15\n",
       "1960.0     46\n",
       "1961.0     58\n",
       "1962.0     20\n",
       "1963.0     21\n",
       "1964.0     58\n",
       "1965.0     27\n",
       "1966.0     56\n",
       "1967.0     40\n",
       "1968.0     44\n",
       "1969.0     38\n",
       "1970.0     55\n",
       "1971.0     39\n",
       "1972.0     81\n",
       "1973.0    133\n",
       "Name: birth_year, dtype: int64"
      ]
     },
     "execution_count": 78,
     "metadata": {},
     "output_type": "execute_result"
    }
   ],
   "source": [
    "annot_df_5[\"birth_year\"].value_counts().sort_index()"
   ]
  },
  {
   "cell_type": "code",
   "execution_count": 15,
   "metadata": {},
   "outputs": [],
   "source": [
    "# 연령대\n",
    "# 30대 : 1982 ~ 1991\n",
    "# 40대 : 1972 ~ 1981\n",
    "# 50대 : 1962 ~ 1971\n",
    "# 60대 : 1952 ~ 1961\n",
    "# 70대 : 1942 ~ 1951\n",
    "# 80대 : 1932 ~ 1941\n",
    "# 90대 이상 :  ~ 1931\n",
    "### 90대 : 1922 ~ 1931\n",
    "\n",
    "# annot_30_df = annot_df[(1982 <= annot_df[\"birth_year\"]) & (annot_df[\"birth_year\"] <= 1991)]\n",
    "annot_40_df = annot_df[(1972 <= annot_df[\"birth_year\"]) & (annot_df[\"birth_year\"] <= 1981)]\n",
    "annot_50_df = annot_df[(1962 <= annot_df[\"birth_year\"]) & (annot_df[\"birth_year\"] <= 1971)]\n",
    "annot_60_df = annot_df[(1952 <= annot_df[\"birth_year\"]) & (annot_df[\"birth_year\"] <= 1961)]\n",
    "annot_70_df = annot_df[(1942 <= annot_df[\"birth_year\"]) & (annot_df[\"birth_year\"] <= 1951)]\n",
    "annot_80_df = annot_df[(1932 <= annot_df[\"birth_year\"]) & (annot_df[\"birth_year\"] <= 1941)]\n",
    "annot_90_df = annot_df[(annot_df[\"birth_year\"] <= 1931)]\n",
    "# annot_90_df = gw_annot_df[(1922 <= gw_annot_df[\"birth_year\"]) & (gs_annot_df[\"birth_year\"] <= 1931)]\n",
    "\n",
    "# ages = [\"30\", \"40\", \"50\", \"60\", \"70\", \"80\", \"90\"]\n",
    "# tag_type = [\"intent\", \"category\", \"emotion\", \"grammar\"]"
   ]
  },
  {
   "cell_type": "code",
   "execution_count": 69,
   "metadata": {},
   "outputs": [],
   "source": [
    "m40 = annot_40_df[\"gender\"].value_counts().m\n",
    "f40 = annot_40_df[\"gender\"].value_counts().f\n",
    "\n",
    "# gs_m40 = annot_40_df[annot_40_df[\"residence_province\"]==\"gs\"][\"gender\"].value_counts().m\n",
    "# gs_f40 = annot_40_df[\"gender\"].value_counts().f\n",
    "\n",
    "m50 = annot_50_df[\"gender\"].value_counts().m\n",
    "f50 = annot_50_df[\"gender\"].value_counts().f\n",
    "\n",
    "m60 = annot_60_df[\"gender\"].value_counts().m\n",
    "f60 = annot_60_df[\"gender\"].value_counts().f\n",
    "\n",
    "m70 = annot_70_df[\"gender\"].value_counts().m\n",
    "f70 = annot_70_df[\"gender\"].value_counts().f\n",
    "\n",
    "m80 = annot_80_df[\"gender\"].value_counts().m\n",
    "f80 = annot_80_df[\"gender\"].value_counts().f\n",
    "\n",
    "m90 = annot_90_df[\"gender\"].value_counts().m\n",
    "f90 = annot_90_df[\"gender\"].value_counts().f"
   ]
  },
  {
   "cell_type": "code",
   "execution_count": 35,
   "metadata": {},
   "outputs": [],
   "source": [
    "index = [40, 50, 60, 70, 80, 90]\n",
    "columns = {\"m\":[m40, m50, m60, m70, m80, m90],\n",
    "           \"f\":[f40, f50, f60, f70, f80, f90]}"
   ]
  },
  {
   "cell_type": "code",
   "execution_count": 42,
   "metadata": {},
   "outputs": [],
   "source": [
    "#강원도\n",
    "gw_m40 = annot_40_df[annot_40_df[\"residence_province\"]==\"gw\"][\"gender\"].value_counts().m\n",
    "gw_f40 = annot_40_df[annot_40_df[\"residence_province\"]==\"gw\"][\"gender\"].value_counts().f\n",
    "\n",
    "gw_m50 = annot_50_df[annot_50_df[\"residence_province\"]==\"gw\"][\"gender\"].value_counts().m\n",
    "gw_f50 = annot_50_df[annot_50_df[\"residence_province\"]==\"gw\"][\"gender\"].value_counts().f\n",
    "\n",
    "gw_m60 = annot_60_df[annot_60_df[\"residence_province\"]==\"gw\"][\"gender\"].value_counts().m\n",
    "gw_f60 = annot_60_df[annot_60_df[\"residence_province\"]==\"gw\"][\"gender\"].value_counts().f\n",
    "\n",
    "gw_m70 = annot_70_df[annot_70_df[\"residence_province\"]==\"gw\"][\"gender\"].value_counts().m\n",
    "gw_f70 = annot_70_df[annot_70_df[\"residence_province\"]==\"gw\"][\"gender\"].value_counts().f\n",
    "\n",
    "gw_m80 = annot_80_df[annot_80_df[\"residence_province\"]==\"gw\"][\"gender\"].value_counts().m\n",
    "gw_f80 = annot_80_df[annot_80_df[\"residence_province\"]==\"gw\"][\"gender\"].value_counts().f\n",
    "\n",
    "if annot_90_df[annot_90_df[\"residence_province\"]==\"gw\"][\"gender\"].value_counts().empty:\n",
    "    gw_m90 = 0\n",
    "    gw_f90 = 0\n",
    "else:\n",
    "    gw_m90 = annot_90_df[annot_90_df[\"residence_province\"]==\"gw\"][\"gender\"].value_counts().m\n",
    "    gw_f90 = annot_90_df[annot_90_df[\"residence_province\"]==\"gw\"][\"gender\"].value_counts().f"
   ]
  },
  {
   "cell_type": "code",
   "execution_count": 48,
   "metadata": {},
   "outputs": [],
   "source": [
    "#경상도\n",
    "gs_m40 = annot_40_df[annot_40_df[\"residence_province\"]==\"gs\"][\"gender\"].value_counts().m\n",
    "gs_f40 = annot_40_df[annot_40_df[\"residence_province\"]==\"gs\"][\"gender\"].value_counts().f\n",
    "\n",
    "gs_m50 = annot_50_df[annot_50_df[\"residence_province\"]==\"gs\"][\"gender\"].value_counts().m\n",
    "gs_f50 = annot_50_df[annot_50_df[\"residence_province\"]==\"gs\"][\"gender\"].value_counts().f\n",
    "\n",
    "gs_m60 = annot_60_df[annot_60_df[\"residence_province\"]==\"gs\"][\"gender\"].value_counts().m\n",
    "gs_f60 = annot_60_df[annot_60_df[\"residence_province\"]==\"gs\"][\"gender\"].value_counts().f\n",
    "\n",
    "gs_m70 = annot_70_df[annot_70_df[\"residence_province\"]==\"gs\"][\"gender\"].value_counts().m\n",
    "gs_f70 = annot_70_df[annot_70_df[\"residence_province\"]==\"gs\"][\"gender\"].value_counts().f\n",
    "\n",
    "gs_m80 = annot_80_df[annot_80_df[\"residence_province\"]==\"gs\"][\"gender\"].value_counts().m\n",
    "gs_f80 = annot_80_df[annot_80_df[\"residence_province\"]==\"gs\"][\"gender\"].value_counts().f\n",
    "\n",
    "if annot_90_df[annot_90_df[\"residence_province\"]==\"gs\"][\"gender\"].value_counts().empty:\n",
    "    gs_m90 = 0\n",
    "    gs_f90 = 0\n",
    "else:\n",
    "    gs_m90 = annot_90_df[annot_90_df[\"residence_province\"]==\"gs\"][\"gender\"].value_counts().m\n",
    "    gs_f90 = annot_90_df[annot_90_df[\"residence_province\"]==\"gs\"][\"gender\"].value_counts().f"
   ]
  },
  {
   "cell_type": "code",
   "execution_count": 49,
   "metadata": {},
   "outputs": [],
   "source": [
    "#충청도\n",
    "cc_m40 = annot_40_df[annot_40_df[\"residence_province\"]==\"cc\"][\"gender\"].value_counts().m\n",
    "cc_f40 = annot_40_df[annot_40_df[\"residence_province\"]==\"cc\"][\"gender\"].value_counts().f\n",
    "\n",
    "cc_m50 = annot_50_df[annot_50_df[\"residence_province\"]==\"cc\"][\"gender\"].value_counts().m\n",
    "cc_f50 = annot_50_df[annot_50_df[\"residence_province\"]==\"cc\"][\"gender\"].value_counts().f\n",
    "\n",
    "cc_m60 = annot_60_df[annot_60_df[\"residence_province\"]==\"cc\"][\"gender\"].value_counts().m\n",
    "cc_f60 = annot_60_df[annot_60_df[\"residence_province\"]==\"cc\"][\"gender\"].value_counts().f\n",
    "\n",
    "cc_m70 = annot_70_df[annot_70_df[\"residence_province\"]==\"cc\"][\"gender\"].value_counts().m\n",
    "cc_f70 = annot_70_df[annot_70_df[\"residence_province\"]==\"cc\"][\"gender\"].value_counts().f\n",
    "\n",
    "cc_m80 = annot_80_df[annot_80_df[\"residence_province\"]==\"cc\"][\"gender\"].value_counts().m\n",
    "cc_f80 = annot_80_df[annot_80_df[\"residence_province\"]==\"cc\"][\"gender\"].value_counts().f\n",
    "\n",
    "if annot_90_df[annot_90_df[\"residence_province\"]==\"cc\"][\"gender\"].value_counts().empty:\n",
    "    cc_m90 = 0\n",
    "    cc_f90 = 0\n",
    "else:\n",
    "    cc_m90 = annot_90_df[annot_90_df[\"residence_province\"]==\"cc\"][\"gender\"].value_counts().m\n",
    "    cc_f90 = annot_90_df[annot_90_df[\"residence_province\"]==\"cc\"][\"gender\"].value_counts().f"
   ]
  },
  {
   "cell_type": "code",
   "execution_count": 50,
   "metadata": {},
   "outputs": [],
   "source": [
    "#전라도\n",
    "jl_m40 = annot_40_df[annot_40_df[\"residence_province\"]==\"jl\"][\"gender\"].value_counts().m\n",
    "jl_f40 = annot_40_df[annot_40_df[\"residence_province\"]==\"jl\"][\"gender\"].value_counts().f\n",
    "\n",
    "jl_m50 = annot_50_df[annot_50_df[\"residence_province\"]==\"jl\"][\"gender\"].value_counts().m\n",
    "jl_f50 = annot_50_df[annot_50_df[\"residence_province\"]==\"jl\"][\"gender\"].value_counts().f\n",
    "\n",
    "jl_m60 = annot_60_df[annot_60_df[\"residence_province\"]==\"jl\"][\"gender\"].value_counts().m\n",
    "jl_f60 = annot_60_df[annot_60_df[\"residence_province\"]==\"jl\"][\"gender\"].value_counts().f\n",
    "\n",
    "jl_m70 = annot_70_df[annot_70_df[\"residence_province\"]==\"jl\"][\"gender\"].value_counts().m\n",
    "jl_f70 = annot_70_df[annot_70_df[\"residence_province\"]==\"jl\"][\"gender\"].value_counts().f\n",
    "\n",
    "jl_m80 = annot_80_df[annot_80_df[\"residence_province\"]==\"jl\"][\"gender\"].value_counts().m\n",
    "jl_f80 = annot_80_df[annot_80_df[\"residence_province\"]==\"jl\"][\"gender\"].value_counts().f\n",
    "\n",
    "if annot_90_df[annot_90_df[\"residence_province\"]==\"jl\"][\"gender\"].value_counts().empty:\n",
    "    jl_m90 = 0\n",
    "    jl_f90 = 0\n",
    "else:\n",
    "    jl_m90 = annot_90_df[annot_90_df[\"residence_province\"]==\"jl\"][\"gender\"].value_counts().m\n",
    "    jl_f90 = annot_90_df[annot_90_df[\"residence_province\"]==\"jl\"][\"gender\"].value_counts().f"
   ]
  },
  {
   "cell_type": "code",
   "execution_count": 65,
   "metadata": {},
   "outputs": [],
   "source": [
    "#제주도\n",
    "jj_m40 = annot_40_df[annot_40_df[\"residence_province\"]==\"jj\"][\"gender\"].value_counts().m\n",
    "jj_f40 = annot_40_df[annot_40_df[\"residence_province\"]==\"jj\"][\"gender\"].value_counts().f\n",
    "\n",
    "jj_m50 = annot_50_df[annot_50_df[\"residence_province\"]==\"jj\"][\"gender\"].value_counts().m\n",
    "jj_f50 = annot_50_df[annot_50_df[\"residence_province\"]==\"jj\"][\"gender\"].value_counts().f\n",
    "\n",
    "jj_m60 = annot_60_df[annot_60_df[\"residence_province\"]==\"jj\"][\"gender\"].value_counts().m\n",
    "jj_f60 = annot_60_df[annot_60_df[\"residence_province\"]==\"jj\"][\"gender\"].value_counts().f\n",
    "\n",
    "jj_m70 = annot_70_df[annot_70_df[\"residence_province\"]==\"jj\"][\"gender\"].value_counts().m\n",
    "jj_f70 = annot_70_df[annot_70_df[\"residence_province\"]==\"jj\"][\"gender\"].value_counts().f\n",
    "\n",
    "if annot_80_df[annot_80_df[\"residence_province\"]==\"jj\"][\"gender\"].value_counts().empty:\n",
    "    jj_m80 = 0\n",
    "    jj_f80 = 0\n",
    "else:\n",
    "    if hasattr(annot_80_df[annot_80_df[\"residence_province\"]==\"jj\"][\"gender\"].value_counts(), \"m\"):\n",
    "        jj_m80 = annot_80_df[annot_80_df[\"residence_province\"]==\"jj\"][\"gender\"].value_counts().m\n",
    "    else:\n",
    "        jj_m80 = 0\n",
    "    if hasattr(annot_80_df[annot_80_df[\"residence_province\"]==\"jj\"][\"gender\"].value_counts(), \"f\"):\n",
    "        jj_f80 = annot_80_df[annot_80_df[\"residence_province\"]==\"jj\"][\"gender\"].value_counts().f\n",
    "    else:\n",
    "        jj_f80 = 0\n",
    "\n",
    "if annot_90_df[annot_90_df[\"residence_province\"]==\"jj\"][\"gender\"].value_counts().empty:\n",
    "    jj_m90 = 0\n",
    "    jj_f90 = 0\n",
    "else:\n",
    "    jj_m90 = annot_90_df[annot_90_df[\"residence_province\"]==\"jj\"][\"gender\"].value_counts().m\n",
    "    jj_f90 = annot_90_df[annot_90_df[\"residence_province\"]==\"jj\"][\"gender\"].value_counts().f"
   ]
  },
  {
   "cell_type": "code",
   "execution_count": 70,
   "metadata": {},
   "outputs": [],
   "source": [
    "index = [40, 50, 60, 70, 80, 90]\n",
    "columns = {\n",
    "            \"m\":[m40, m50, m60, m70, m80, m90],\n",
    "            \"f\":[f40, f50, f60, f70, f80, f90],\n",
    "            \"gw_m\":[gw_m40, gw_m50, gw_m60, gw_m70, gw_m80, gw_m90],\n",
    "            \"gw_f\":[gw_f40, gw_f50, gw_f60, gw_f70, gw_f80, gw_f90],\n",
    "            \"gs_m\":[gs_m40, gs_m50, gs_m60, gs_m70, gs_m80, gs_m90],\n",
    "            \"gs_f\":[gs_f40, gs_f50, gs_f60, gs_f70, gs_f80, gs_f90],\n",
    "            \"cc_m\":[cc_m40, cc_m50, cc_m60, cc_m70, cc_m80, cc_m90],\n",
    "            \"cc_f\":[cc_f40, cc_f50, cc_f60, cc_f70, cc_f80, cc_f90],\n",
    "            \"jl_m\":[jl_m40, jl_m50, jl_m60, jl_m70, jl_m80, jl_m90],\n",
    "            \"jl_f\":[jl_f40, jl_f50, jl_f60, jl_f70, jl_f80, jl_f90],\n",
    "            \"jj_m\":[jj_m40, jj_m50, jj_m60, jj_m70, jj_m80, jj_m90],\n",
    "            \"jj_f\":[jj_f40, jj_f50, jj_f60, jj_f70, jj_f80, jj_f90]\n",
    "           }"
   ]
  },
  {
   "cell_type": "code",
   "execution_count": 40,
   "metadata": {},
   "outputs": [
    {
     "data": {
      "text/plain": [
       "44"
      ]
     },
     "execution_count": 40,
     "metadata": {},
     "output_type": "execute_result"
    }
   ],
   "source": [
    "gw_f40"
   ]
  },
  {
   "cell_type": "code",
   "execution_count": 72,
   "metadata": {},
   "outputs": [],
   "source": [
    "stat_df = pd.DataFrame(columns, index=index)"
   ]
  },
  {
   "cell_type": "code",
   "execution_count": 73,
   "metadata": {},
   "outputs": [
    {
     "data": {
      "text/html": [
       "<div>\n",
       "<style scoped>\n",
       "    .dataframe tbody tr th:only-of-type {\n",
       "        vertical-align: middle;\n",
       "    }\n",
       "\n",
       "    .dataframe tbody tr th {\n",
       "        vertical-align: top;\n",
       "    }\n",
       "\n",
       "    .dataframe thead th {\n",
       "        text-align: right;\n",
       "    }\n",
       "</style>\n",
       "<table border=\"1\" class=\"dataframe\">\n",
       "  <thead>\n",
       "    <tr style=\"text-align: right;\">\n",
       "      <th></th>\n",
       "      <th>m</th>\n",
       "      <th>f</th>\n",
       "      <th>gw_m</th>\n",
       "      <th>gw_f</th>\n",
       "      <th>gs_m</th>\n",
       "      <th>gs_f</th>\n",
       "      <th>cc_m</th>\n",
       "      <th>cc_f</th>\n",
       "      <th>jl_m</th>\n",
       "      <th>jl_f</th>\n",
       "      <th>jj_m</th>\n",
       "      <th>jj_f</th>\n",
       "    </tr>\n",
       "  </thead>\n",
       "  <tbody>\n",
       "    <tr>\n",
       "      <th>40</th>\n",
       "      <td>657</td>\n",
       "      <td>1423</td>\n",
       "      <td>14</td>\n",
       "      <td>44</td>\n",
       "      <td>11</td>\n",
       "      <td>38</td>\n",
       "      <td>260</td>\n",
       "      <td>500</td>\n",
       "      <td>347</td>\n",
       "      <td>652</td>\n",
       "      <td>25</td>\n",
       "      <td>189</td>\n",
       "    </tr>\n",
       "    <tr>\n",
       "      <th>50</th>\n",
       "      <td>548</td>\n",
       "      <td>1849</td>\n",
       "      <td>110</td>\n",
       "      <td>488</td>\n",
       "      <td>41</td>\n",
       "      <td>297</td>\n",
       "      <td>136</td>\n",
       "      <td>438</td>\n",
       "      <td>201</td>\n",
       "      <td>288</td>\n",
       "      <td>60</td>\n",
       "      <td>338</td>\n",
       "    </tr>\n",
       "    <tr>\n",
       "      <th>60</th>\n",
       "      <td>1198</td>\n",
       "      <td>3453</td>\n",
       "      <td>329</td>\n",
       "      <td>847</td>\n",
       "      <td>358</td>\n",
       "      <td>1086</td>\n",
       "      <td>156</td>\n",
       "      <td>600</td>\n",
       "      <td>296</td>\n",
       "      <td>752</td>\n",
       "      <td>59</td>\n",
       "      <td>168</td>\n",
       "    </tr>\n",
       "    <tr>\n",
       "      <th>70</th>\n",
       "      <td>1008</td>\n",
       "      <td>2558</td>\n",
       "      <td>153</td>\n",
       "      <td>245</td>\n",
       "      <td>421</td>\n",
       "      <td>1220</td>\n",
       "      <td>173</td>\n",
       "      <td>462</td>\n",
       "      <td>253</td>\n",
       "      <td>603</td>\n",
       "      <td>8</td>\n",
       "      <td>28</td>\n",
       "    </tr>\n",
       "    <tr>\n",
       "      <th>80</th>\n",
       "      <td>252</td>\n",
       "      <td>440</td>\n",
       "      <td>33</td>\n",
       "      <td>52</td>\n",
       "      <td>123</td>\n",
       "      <td>184</td>\n",
       "      <td>46</td>\n",
       "      <td>55</td>\n",
       "      <td>50</td>\n",
       "      <td>141</td>\n",
       "      <td>0</td>\n",
       "      <td>8</td>\n",
       "    </tr>\n",
       "    <tr>\n",
       "      <th>90</th>\n",
       "      <td>3</td>\n",
       "      <td>8</td>\n",
       "      <td>0</td>\n",
       "      <td>0</td>\n",
       "      <td>0</td>\n",
       "      <td>0</td>\n",
       "      <td>2</td>\n",
       "      <td>5</td>\n",
       "      <td>1</td>\n",
       "      <td>3</td>\n",
       "      <td>0</td>\n",
       "      <td>0</td>\n",
       "    </tr>\n",
       "  </tbody>\n",
       "</table>\n",
       "</div>"
      ],
      "text/plain": [
       "       m     f  gw_m  gw_f  gs_m  gs_f  cc_m  cc_f  jl_m  jl_f  jj_m  jj_f\n",
       "40   657  1423    14    44    11    38   260   500   347   652    25   189\n",
       "50   548  1849   110   488    41   297   136   438   201   288    60   338\n",
       "60  1198  3453   329   847   358  1086   156   600   296   752    59   168\n",
       "70  1008  2558   153   245   421  1220   173   462   253   603     8    28\n",
       "80   252   440    33    52   123   184    46    55    50   141     0     8\n",
       "90     3     8     0     0     0     0     2     5     1     3     0     0"
      ]
     },
     "execution_count": 73,
     "metadata": {},
     "output_type": "execute_result"
    }
   ],
   "source": [
    "stat_df"
   ]
  },
  {
   "cell_type": "code",
   "execution_count": 23,
   "metadata": {},
   "outputs": [
    {
     "data": {
      "text/plain": [
       "<AxesSubplot:title={'center':'전체 40대 성별'}>"
      ]
     },
     "execution_count": 23,
     "metadata": {},
     "output_type": "execute_result"
    },
    {
     "data": {
      "image/png": "[encoded data removed]",
      "text/plain": [
       "<Figure size 432x288 with 1 Axes>"
      ]
     },
     "metadata": {
      "needs_background": "light"
     },
     "output_type": "display_data"
    }
   ],
   "source": [
    "annot_40_df[\"gender\"].value_counts().plot(kind=\"bar\", title=\"전체 40대 성별\")"
   ]
  },
  {
   "cell_type": "code",
   "execution_count": 26,
   "metadata": {},
   "outputs": [
    {
     "data": {
      "text/plain": [
       "<AxesSubplot:title={'center':'강원 40대 성별'}>"
      ]
     },
     "execution_count": 26,
     "metadata": {},
     "output_type": "execute_result"
    },
    {
     "data": {
      "image/png": "[encoded data removed]",
      "text/plain": [
       "<Figure size 432x288 with 1 Axes>"
      ]
     },
     "metadata": {
      "needs_background": "light"
     },
     "output_type": "display_data"
    }
   ],
   "source": [
    "annot_40_df[annot_40_df[\"residence_province\"] == \"gw\"][\"gender\"].value_counts().plot(kind=\"bar\", title=\"강원 40대 성별\")"
   ]
  },
  {
   "cell_type": "code",
   "execution_count": 27,
   "metadata": {},
   "outputs": [
    {
     "data": {
      "text/plain": [
       "<AxesSubplot:title={'center':'경상 40대 성별'}>"
      ]
     },
     "execution_count": 27,
     "metadata": {},
     "output_type": "execute_result"
    },
    {
     "data": {
      "image/png": "[encoded data removed]",
      "text/plain": [
       "<Figure size 432x288 with 1 Axes>"
      ]
     },
     "metadata": {
      "needs_background": "light"
     },
     "output_type": "display_data"
    }
   ],
   "source": [
    "annot_40_df[annot_40_df[\"residence_province\"] == \"gs\"][\"gender\"].value_counts().plot(kind=\"bar\", title=\"경상 40대 성별\")"
   ]
  },
  {
   "cell_type": "code",
   "execution_count": 29,
   "metadata": {},
   "outputs": [
    {
     "data": {
      "text/plain": [
       "<AxesSubplot:title={'center':'충청 40대 성별'}>"
      ]
     },
     "execution_count": 29,
     "metadata": {},
     "output_type": "execute_result"
    },
    {
     "data": {
      "image/png": "[encoded data removed]",
      "text/plain": [
       "<Figure size 432x288 with 1 Axes>"
      ]
     },
     "metadata": {
      "needs_background": "light"
     },
     "output_type": "display_data"
    }
   ],
   "source": [
    "annot_40_df[annot_40_df[\"residence_province\"] == \"cc\"][\"gender\"].value_counts().plot(kind=\"bar\", title=\"충청 40대 성별\")"
   ]
  },
  {
   "cell_type": "code",
   "execution_count": 30,
   "metadata": {},
   "outputs": [
    {
     "data": {
      "text/plain": [
       "<AxesSubplot:title={'center':'전라 40대 성별'}>"
      ]
     },
     "execution_count": 30,
     "metadata": {},
     "output_type": "execute_result"
    },
    {
     "data": {
      "image/png": "[encoded data removed]",
      "text/plain": [
       "<Figure size 432x288 with 1 Axes>"
      ]
     },
     "metadata": {
      "needs_background": "light"
     },
     "output_type": "display_data"
    }
   ],
   "source": [
    "annot_40_df[annot_40_df[\"residence_province\"] == \"jl\"][\"gender\"].value_counts().plot(kind=\"bar\", title=\"전라 40대 성별\")"
   ]
  },
  {
   "cell_type": "code",
   "execution_count": 31,
   "metadata": {},
   "outputs": [
    {
     "data": {
      "text/plain": [
       "<AxesSubplot:title={'center':'제주 40대 성별'}>"
      ]
     },
     "execution_count": 31,
     "metadata": {},
     "output_type": "execute_result"
    },
    {
     "data": {
      "image/png": "[encoded data removed]",
      "text/plain": [
       "<Figure size 432x288 with 1 Axes>"
      ]
     },
     "metadata": {
      "needs_background": "light"
     },
     "output_type": "display_data"
    }
   ],
   "source": [
    "annot_40_df[annot_40_df[\"residence_province\"] == \"jj\"][\"gender\"].value_counts().plot(kind=\"bar\", title=\"제주 40대 성별\")"
   ]
  },
  {
   "cell_type": "code",
   "execution_count": 17,
   "metadata": {},
   "outputs": [
    {
     "data": {
      "text/plain": [
       "Unnamed: 0            2021\n",
       "speaker_id            2377\n",
       "residence_province       5\n",
       "gender                   2\n",
       "birth_year              10\n",
       "dtype: int64"
      ]
     },
     "execution_count": 17,
     "metadata": {},
     "output_type": "execute_result"
    }
   ],
   "source": [
    "annot_50_df.nunique()"
   ]
  },
  {
   "cell_type": "code",
   "execution_count": 22,
   "metadata": {},
   "outputs": [],
   "source": [
    "# 30대\n",
    "stat_30_intent_df = pd.DataFrame()\n",
    "stat_30_intent_df[\"intent_m\"] = (annot_30_df[annot_30_df[\"gender\"] == \"m\"])[\"intent_type\"].value_counts().sort_index()\n",
    "stat_30_intent_df[\"intent_f\"] = (annot_30_df[annot_30_df[\"gender\"] == \"f\"])[\"intent_type\"].value_counts().sort_index()\n",
    "\n",
    "stat_30_category_df = pd.DataFrame()\n",
    "stat_30_category_df[\"category_m\"] = (annot_30_df[annot_30_df[\"gender\"] == \"m\"])[\"intent_category\"].value_counts().sort_index()\n",
    "stat_30_category_df[\"category_f\"] = (annot_30_df[annot_30_df[\"gender\"] == \"f\"])[\"intent_category\"].value_counts().sort_index()\n",
    "\n",
    "stat_30_emotion_df = pd.DataFrame()\n",
    "stat_30_emotion_df[\"emotion_m\"] = (annot_30_df[annot_30_df[\"gender\"] == \"m\"])[\"emotion_type\"].value_counts().sort_index()\n",
    "stat_30_emotion_df[\"emotion_f\"] = (annot_30_df[annot_30_df[\"gender\"] == \"f\"])[\"emotion_type\"].value_counts().sort_index()\n",
    "\n",
    "stat_30_grammar_df = pd.DataFrame()\n",
    "stat_30_grammar_df[\"grammar_m\"] = (annot_30_df[annot_30_df[\"gender\"] == \"m\"])[\"grammar_type\"].value_counts().sort_index()\n",
    "stat_30_grammar_df[\"grammar_f\"] = (annot_30_df[annot_30_df[\"gender\"] == \"f\"])[\"grammar_type\"].value_counts().sort_index()\n",
    "\n",
    "# 40대\n",
    "stat_40_intent_df = pd.DataFrame()\n",
    "stat_40_intent_df[\"intent_m\"] = (annot_40_df[annot_40_df[\"gender\"] == \"m\"])[\"intent_type\"].value_counts().sort_index()\n",
    "stat_40_intent_df[\"intent_f\"] = (annot_40_df[annot_40_df[\"gender\"] == \"f\"])[\"intent_type\"].value_counts().sort_index()\n",
    "\n",
    "stat_40_category_df = pd.DataFrame()\n",
    "stat_40_category_df[\"category_m\"] = (annot_40_df[annot_40_df[\"gender\"] == \"m\"])[\"intent_category\"].value_counts().sort_index()\n",
    "stat_40_category_df[\"category_f\"] = (annot_40_df[annot_40_df[\"gender\"] == \"f\"])[\"intent_category\"].value_counts().sort_index()\n",
    "\n",
    "stat_40_emotion_df = pd.DataFrame()\n",
    "stat_40_emotion_df[\"emotion_m\"] = (annot_40_df[annot_40_df[\"gender\"] == \"m\"])[\"emotion_type\"].value_counts().sort_index()\n",
    "stat_40_emotion_df[\"emotion_f\"] = (annot_40_df[annot_40_df[\"gender\"] == \"f\"])[\"emotion_type\"].value_counts().sort_index()\n",
    "\n",
    "stat_40_grammar_df = pd.DataFrame()\n",
    "stat_40_grammar_df[\"grammar_m\"] = (annot_40_df[annot_40_df[\"gender\"] == \"m\"])[\"grammar_type\"].value_counts().sort_index()\n",
    "stat_40_grammar_df[\"grammar_f\"] = (annot_40_df[annot_40_df[\"gender\"] == \"f\"])[\"grammar_type\"].value_counts().sort_index()\n",
    "\n",
    "# 50대\n",
    "stat_50_intent_df = pd.DataFrame()\n",
    "stat_50_intent_df[\"intent_m\"] = (annot_50_df[annot_50_df[\"gender\"] == \"m\"])[\"intent_type\"].value_counts().sort_index()\n",
    "stat_50_intent_df[\"intent_f\"] = (annot_50_df[annot_50_df[\"gender\"] == \"f\"])[\"intent_type\"].value_counts().sort_index()\n",
    "\n",
    "stat_50_category_df = pd.DataFrame()\n",
    "stat_50_category_df[\"category_m\"] = (annot_50_df[annot_50_df[\"gender\"] == \"m\"])[\"intent_category\"].value_counts().sort_index()\n",
    "stat_50_category_df[\"category_f\"] = (annot_50_df[annot_50_df[\"gender\"] == \"f\"])[\"intent_category\"].value_counts().sort_index()\n",
    "\n",
    "stat_50_emotion_df = pd.DataFrame()\n",
    "stat_50_emotion_df[\"emotion_m\"] = (annot_50_df[annot_50_df[\"gender\"] == \"m\"])[\"emotion_type\"].value_counts().sort_index()\n",
    "stat_50_emotion_df[\"emotion_f\"] = (annot_50_df[annot_50_df[\"gender\"] == \"f\"])[\"emotion_type\"].value_counts().sort_index()\n",
    "\n",
    "stat_50_grammar_df = pd.DataFrame()\n",
    "stat_50_grammar_df[\"grammar_m\"] = (annot_50_df[annot_50_df[\"gender\"] == \"m\"])[\"grammar_type\"].value_counts().sort_index()\n",
    "stat_50_grammar_df[\"grammar_f\"] = (annot_50_df[annot_50_df[\"gender\"] == \"f\"])[\"grammar_type\"].value_counts().sort_index()\n",
    "\n",
    "# 60대\n",
    "stat_60_intent_df = pd.DataFrame()\n",
    "stat_60_intent_df[\"intent_m\"] = (annot_60_df[annot_60_df[\"gender\"] == \"m\"])[\"intent_type\"].value_counts().sort_index()\n",
    "stat_60_intent_df[\"intent_f\"] = (annot_60_df[annot_60_df[\"gender\"] == \"f\"])[\"intent_type\"].value_counts().sort_index()\n",
    "\n",
    "stat_60_category_df = pd.DataFrame()\n",
    "stat_60_category_df[\"category_m\"] = (annot_60_df[annot_60_df[\"gender\"] == \"m\"])[\"intent_category\"].value_counts().sort_index()\n",
    "stat_60_category_df[\"category_f\"] = (annot_60_df[annot_60_df[\"gender\"] == \"f\"])[\"intent_category\"].value_counts().sort_index()\n",
    "\n",
    "stat_60_emotion_df = pd.DataFrame()\n",
    "stat_60_emotion_df[\"emotion_m\"] = (annot_60_df[annot_60_df[\"gender\"] == \"m\"])[\"emotion_type\"].value_counts().sort_index()\n",
    "stat_60_emotion_df[\"emotion_f\"] = (annot_60_df[annot_60_df[\"gender\"] == \"f\"])[\"emotion_type\"].value_counts().sort_index()\n",
    "\n",
    "stat_60_grammar_df = pd.DataFrame()\n",
    "stat_60_grammar_df[\"grammar_m\"] = (annot_60_df[annot_60_df[\"gender\"] == \"m\"])[\"grammar_type\"].value_counts().sort_index()\n",
    "stat_60_grammar_df[\"grammar_f\"] = (annot_60_df[annot_60_df[\"gender\"] == \"f\"])[\"grammar_type\"].value_counts().sort_index()\n",
    "\n",
    "# 70대\n",
    "stat_70_intent_df = pd.DataFrame()\n",
    "stat_70_intent_df[\"intent_m\"] = (annot_70_df[annot_70_df[\"gender\"] == \"m\"])[\"intent_type\"].value_counts().sort_index()\n",
    "stat_70_intent_df[\"intent_f\"] = (annot_70_df[annot_70_df[\"gender\"] == \"f\"])[\"intent_type\"].value_counts().sort_index()\n",
    "\n",
    "stat_70_category_df = pd.DataFrame()\n",
    "stat_70_category_df[\"category_m\"] = (annot_70_df[annot_70_df[\"gender\"] == \"m\"])[\"intent_category\"].value_counts().sort_index()\n",
    "stat_70_category_df[\"category_f\"] = (annot_70_df[annot_70_df[\"gender\"] == \"f\"])[\"intent_category\"].value_counts().sort_index()\n",
    "\n",
    "stat_70_emotion_df = pd.DataFrame()\n",
    "stat_70_emotion_df[\"emotion_m\"] = (annot_70_df[annot_70_df[\"gender\"] == \"m\"])[\"emotion_type\"].value_counts().sort_index()\n",
    "stat_70_emotion_df[\"emotion_f\"] = (annot_70_df[annot_70_df[\"gender\"] == \"f\"])[\"emotion_type\"].value_counts().sort_index()\n",
    "\n",
    "stat_70_grammar_df = pd.DataFrame()\n",
    "stat_70_grammar_df[\"grammar_m\"] = (annot_70_df[annot_70_df[\"gender\"] == \"m\"])[\"grammar_type\"].value_counts().sort_index()\n",
    "stat_70_grammar_df[\"grammar_f\"] = (annot_70_df[annot_70_df[\"gender\"] == \"f\"])[\"grammar_type\"].value_counts().sort_index()\n",
    "\n",
    "# 80대\n",
    "stat_80_intent_df = pd.DataFrame()\n",
    "stat_80_intent_df[\"intent_m\"] = (annot_80_df[annot_80_df[\"gender\"] == \"m\"])[\"intent_type\"].value_counts().sort_index()\n",
    "stat_80_intent_df[\"intent_f\"] = (annot_80_df[annot_80_df[\"gender\"] == \"f\"])[\"intent_type\"].value_counts().sort_index()\n",
    "\n",
    "stat_80_category_df = pd.DataFrame()\n",
    "stat_80_category_df[\"category_m\"] = (annot_80_df[annot_80_df[\"gender\"] == \"m\"])[\"intent_category\"].value_counts().sort_index()\n",
    "stat_80_category_df[\"category_f\"] = (annot_80_df[annot_80_df[\"gender\"] == \"f\"])[\"intent_category\"].value_counts().sort_index()\n",
    "\n",
    "stat_80_emotion_df = pd.DataFrame()\n",
    "stat_80_emotion_df[\"emotion_m\"] = (annot_80_df[annot_80_df[\"gender\"] == \"m\"])[\"emotion_type\"].value_counts().sort_index()\n",
    "stat_80_emotion_df[\"emotion_f\"] = (annot_80_df[annot_80_df[\"gender\"] == \"f\"])[\"emotion_type\"].value_counts().sort_index()\n",
    "\n",
    "stat_80_grammar_df = pd.DataFrame()\n",
    "stat_80_grammar_df[\"grammar_m\"] = (annot_80_df[annot_80_df[\"gender\"] == \"m\"])[\"grammar_type\"].value_counts().sort_index()\n",
    "stat_80_grammar_df[\"grammar_f\"] = (annot_80_df[annot_80_df[\"gender\"] == \"f\"])[\"grammar_type\"].value_counts().sort_index()\n",
    "\n",
    "# 90대\n",
    "stat_90_intent_df = pd.DataFrame()\n",
    "stat_90_intent_df[\"intent_m\"] = (annot_90_df[annot_90_df[\"gender\"] == \"m\"])[\"intent_type\"].value_counts().sort_index()\n",
    "stat_90_intent_df[\"intent_f\"] = (annot_90_df[annot_90_df[\"gender\"] == \"f\"])[\"intent_type\"].value_counts().sort_index()\n",
    "\n",
    "stat_90_category_df = pd.DataFrame()\n",
    "stat_90_category_df[\"category_m\"] = (annot_90_df[annot_90_df[\"gender\"] == \"m\"])[\"intent_category\"].value_counts().sort_index()\n",
    "stat_90_category_df[\"category_f\"] = (annot_90_df[annot_90_df[\"gender\"] == \"f\"])[\"intent_category\"].value_counts().sort_index()\n",
    "\n",
    "stat_90_emotion_df = pd.DataFrame()\n",
    "stat_90_emotion_df[\"emotion_m\"] = (annot_90_df[annot_90_df[\"gender\"] == \"m\"])[\"emotion_type\"].value_counts().sort_index()\n",
    "stat_90_emotion_df[\"emotion_f\"] = (annot_90_df[annot_90_df[\"gender\"] == \"f\"])[\"emotion_type\"].value_counts().sort_index()\n",
    "\n",
    "stat_90_grammar_df = pd.DataFrame()\n",
    "stat_90_grammar_df[\"grammar_m\"] = (annot_90_df[annot_90_df[\"gender\"] == \"m\"])[\"grammar_type\"].value_counts().sort_index()\n",
    "stat_90_grammar_df[\"grammar_f\"] = (annot_90_df[annot_90_df[\"gender\"] == \"f\"])[\"grammar_type\"].value_counts().sort_index()"
   ]
  }
 ],
 "metadata": {
  "kernelspec": {
   "display_name": "base",
   "language": "python",
   "name": "python3"
  },
  "language_info": {
   "codemirror_mode": {
    "name": "ipython",
    "version": 3
   },
   "file_extension": ".py",
   "mimetype": "text/x-python",
   "name": "python",
   "nbconvert_exporter": "python",
   "pygments_lexer": "ipython3",
   "version": "3.8.12"
  },
  "orig_nbformat": 4,
  "vscode": {
   "interpreter": {
    "hash": "d4d1e4263499bec80672ea0156c357c1ee493ec2b1c70f0acce89fc37c4a6abe"
   }
  }
 },
 "nbformat": 4,
 "nbformat_minor": 2
}
