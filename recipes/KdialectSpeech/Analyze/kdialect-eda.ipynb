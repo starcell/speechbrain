{
 "cells": [
  {
   "cell_type": "code",
   "execution_count": 2,
   "metadata": {},
   "outputs": [
    {
     "name": "stderr",
     "output_type": "stream",
     "text": [
      "Duplicate key in file PosixPath('/opt/conda/lib/python3.8/site-packages/matplotlib/mpl-data/matplotlibrc'), line 257 ('font.family: NanumGothic')\n"
     ]
    }
   ],
   "source": [
    "import pandas as pd\n",
    "\n",
    "# 그래프에서 한글을 표시하기 위해 한글 폰트 필요\n",
    "# 아래는 리눅스용이므로 위도우에서 사용할 경우 안될 수 있습니다. 그러면 윈도우에서의 설정 방법을 찾아서 해야 합니다.\n",
    "# apt-get install -y fonts-nanum\n",
    "\n",
    "# https://dasom.net/108\n",
    "\n",
    "import matplotlib.pyplot as plt\n",
    "plt.rc('axes', unicode_minus=False)\n",
    "plt.rcParams[\"font.family\"] = \"NanumGothic\""
   ]
  },
  {
   "cell_type": "code",
   "execution_count": 3,
   "metadata": {},
   "outputs": [],
   "source": [
    "# 모든 행을 보기위한 설정\n",
    "pd.set_option('display.max_rows', None)"
   ]
  },
  {
   "cell_type": "code",
   "execution_count": 6,
   "metadata": {},
   "outputs": [],
   "source": [
    "total_file = \"/data/MTDATA/fn-2-018/manifest/total/total.csv\"\n",
    "total_df = pd.read_csv(total_file)\n",
    "\n",
    "gw_file = \"/data/MTDATA/fn-2-018/manifest/gw/total.csv\"\n",
    "gw_df = pd.read_csv(gw_file)\n",
    "\n",
    "gs_file = \"/data/MTDATA/fn-2-018/manifest/gs/total.csv\"\n",
    "gs_df = pd.read_csv(gs_file)\n",
    "\n",
    "jl_file = \"/data/MTDATA/fn-2-018/manifest/jl/total.csv\"\n",
    "jl_df = pd.read_csv(jl_file)\n",
    "\n",
    "jj_file = \"/data/MTDATA/fn-2-018/manifest/jj/total.csv\"\n",
    "jj_df = pd.read_csv(jj_file)\n",
    "\n",
    "cc_file = \"/data/MTDATA/fn-2-018/manifest/cc/total.csv\"\n",
    "cc_df = pd.read_csv(cc_file)"
   ]
  },
  {
   "cell_type": "code",
   "execution_count": 4,
   "metadata": {},
   "outputs": [
    {
     "data": {
      "text/html": [
       "<div>\n",
       "<style scoped>\n",
       "    .dataframe tbody tr th:only-of-type {\n",
       "        vertical-align: middle;\n",
       "    }\n",
       "\n",
       "    .dataframe tbody tr th {\n",
       "        vertical-align: top;\n",
       "    }\n",
       "\n",
       "    .dataframe thead th {\n",
       "        text-align: right;\n",
       "    }\n",
       "</style>\n",
       "<table border=\"1\" class=\"dataframe\">\n",
       "  <thead>\n",
       "    <tr style=\"text-align: right;\">\n",
       "      <th></th>\n",
       "      <th>duration</th>\n",
       "    </tr>\n",
       "  </thead>\n",
       "  <tbody>\n",
       "    <tr>\n",
       "      <th>count</th>\n",
       "      <td>1.357036e+06</td>\n",
       "    </tr>\n",
       "    <tr>\n",
       "      <th>mean</th>\n",
       "      <td>8.079943e+00</td>\n",
       "    </tr>\n",
       "    <tr>\n",
       "      <th>std</th>\n",
       "      <td>6.566307e+00</td>\n",
       "    </tr>\n",
       "    <tr>\n",
       "      <th>min</th>\n",
       "      <td>-7.200000e-01</td>\n",
       "    </tr>\n",
       "    <tr>\n",
       "      <th>25%</th>\n",
       "      <td>3.930000e+00</td>\n",
       "    </tr>\n",
       "    <tr>\n",
       "      <th>50%</th>\n",
       "      <td>6.519000e+00</td>\n",
       "    </tr>\n",
       "    <tr>\n",
       "      <th>75%</th>\n",
       "      <td>1.002000e+01</td>\n",
       "    </tr>\n",
       "    <tr>\n",
       "      <th>max</th>\n",
       "      <td>3.183510e+02</td>\n",
       "    </tr>\n",
       "  </tbody>\n",
       "</table>\n",
       "</div>"
      ],
      "text/plain": [
       "           duration\n",
       "count  1.357036e+06\n",
       "mean   8.079943e+00\n",
       "std    6.566307e+00\n",
       "min   -7.200000e-01\n",
       "25%    3.930000e+00\n",
       "50%    6.519000e+00\n",
       "75%    1.002000e+01\n",
       "max    3.183510e+02"
      ]
     },
     "execution_count": 4,
     "metadata": {},
     "output_type": "execute_result"
    }
   ],
   "source": [
    "total_df.describe()"
   ]
  },
  {
   "cell_type": "code",
   "execution_count": 5,
   "metadata": {},
   "outputs": [
    {
     "data": {
      "text/html": [
       "<div>\n",
       "<style scoped>\n",
       "    .dataframe tbody tr th:only-of-type {\n",
       "        vertical-align: middle;\n",
       "    }\n",
       "\n",
       "    .dataframe tbody tr th {\n",
       "        vertical-align: top;\n",
       "    }\n",
       "\n",
       "    .dataframe thead th {\n",
       "        text-align: right;\n",
       "    }\n",
       "</style>\n",
       "<table border=\"1\" class=\"dataframe\">\n",
       "  <thead>\n",
       "    <tr style=\"text-align: right;\">\n",
       "      <th></th>\n",
       "      <th>ID</th>\n",
       "      <th>duration</th>\n",
       "      <th>wav</th>\n",
       "      <th>province_code</th>\n",
       "      <th>wrd</th>\n",
       "    </tr>\n",
       "  </thead>\n",
       "  <tbody>\n",
       "    <tr>\n",
       "      <th>0</th>\n",
       "      <td>total-talk_set1_collectorgs217_speakergs2272_s...</td>\n",
       "      <td>1.059</td>\n",
       "      <td>/data/MTDATA/fn-2-018/root/people/talk/gs/coll...</td>\n",
       "      <td>total</td>\n",
       "      <td>용돈이 더 좋다</td>\n",
       "    </tr>\n",
       "    <tr>\n",
       "      <th>1</th>\n",
       "      <td>total-talk_set1_collectorgs217_speakergs2272_s...</td>\n",
       "      <td>9.940</td>\n",
       "      <td>/data/MTDATA/fn-2-018/root/people/talk/gs/coll...</td>\n",
       "      <td>total</td>\n",
       "      <td>선물은 잘못 사가 오니까 마음에 안 들더라고 또 마음에 안 들고 용돈을 주면 내 마...</td>\n",
       "    </tr>\n",
       "    <tr>\n",
       "      <th>2</th>\n",
       "      <td>total-talk_set1_collectorgs217_speakergs2272_s...</td>\n",
       "      <td>1.970</td>\n",
       "      <td>/data/MTDATA/fn-2-018/root/people/talk/gs/coll...</td>\n",
       "      <td>total</td>\n",
       "      <td>그렇죠 용돈이 좋죠</td>\n",
       "    </tr>\n",
       "    <tr>\n",
       "      <th>3</th>\n",
       "      <td>total-talk_set1_collectorgs217_speakergs2272_s...</td>\n",
       "      <td>4.430</td>\n",
       "      <td>/data/MTDATA/fn-2-018/root/people/talk/gs/coll...</td>\n",
       "      <td>total</td>\n",
       "      <td>그래야 내가 사고 싶은 거를 사는 게 나으니까 용돈이 더 좋죠</td>\n",
       "    </tr>\n",
       "    <tr>\n",
       "      <th>4</th>\n",
       "      <td>total-talk_set1_collectorgs217_speakergs2272_s...</td>\n",
       "      <td>7.330</td>\n",
       "      <td>/data/MTDATA/fn-2-018/root/people/talk/gs/coll...</td>\n",
       "      <td>total</td>\n",
       "      <td>선물 뭐 받을 때 기분은 좋은데 있는 게 또 있을 수도 있고 그러니까 용돈이 더 좋다</td>\n",
       "    </tr>\n",
       "  </tbody>\n",
       "</table>\n",
       "</div>"
      ],
      "text/plain": [
       "                                                  ID  duration  \\\n",
       "0  total-talk_set1_collectorgs217_speakergs2272_s...     1.059   \n",
       "1  total-talk_set1_collectorgs217_speakergs2272_s...     9.940   \n",
       "2  total-talk_set1_collectorgs217_speakergs2272_s...     1.970   \n",
       "3  total-talk_set1_collectorgs217_speakergs2272_s...     4.430   \n",
       "4  total-talk_set1_collectorgs217_speakergs2272_s...     7.330   \n",
       "\n",
       "                                                 wav province_code  \\\n",
       "0  /data/MTDATA/fn-2-018/root/people/talk/gs/coll...         total   \n",
       "1  /data/MTDATA/fn-2-018/root/people/talk/gs/coll...         total   \n",
       "2  /data/MTDATA/fn-2-018/root/people/talk/gs/coll...         total   \n",
       "3  /data/MTDATA/fn-2-018/root/people/talk/gs/coll...         total   \n",
       "4  /data/MTDATA/fn-2-018/root/people/talk/gs/coll...         total   \n",
       "\n",
       "                                                 wrd  \n",
       "0                                           용돈이 더 좋다  \n",
       "1  선물은 잘못 사가 오니까 마음에 안 들더라고 또 마음에 안 들고 용돈을 주면 내 마...  \n",
       "2                                         그렇죠 용돈이 좋죠  \n",
       "3                 그래야 내가 사고 싶은 거를 사는 게 나으니까 용돈이 더 좋죠  \n",
       "4    선물 뭐 받을 때 기분은 좋은데 있는 게 또 있을 수도 있고 그러니까 용돈이 더 좋다  "
      ]
     },
     "execution_count": 5,
     "metadata": {},
     "output_type": "execute_result"
    }
   ],
   "source": [
    "total_df.head()"
   ]
  },
  {
   "cell_type": "code",
   "execution_count": 7,
   "metadata": {},
   "outputs": [
    {
     "name": "stdout",
     "output_type": "stream",
     "text": [
      "토탈 시간 합계 : 3045.7704791666665\n",
      "강원 시간 합계 : 544.0464611111111\n",
      "경상 시간 합계 : 793.1324330555557\n",
      "전라 시간 합계 : 878.9721022222219\n",
      "제주 시간 합계 : 157.2564122222222\n",
      "충청 시간 합계 : 672.3630705555557\n"
     ]
    }
   ],
   "source": [
    "print(f'토탈 시간 합계 : {total_df.duration.sum()/3600}')\n",
    "print(f'강원 시간 합계 : {gw_df.duration.sum()/3600}')\n",
    "print(f'경상 시간 합계 : {gs_df.duration.sum()/3600}')\n",
    "print(f'전라 시간 합계 : {jl_df.duration.sum()/3600}')\n",
    "print(f'제주 시간 합계 : {jj_df.duration.sum()/3600}')\n",
    "print(f'충청 시간 합계 : {cc_df.duration.sum()/3600}')"
   ]
  },
  {
   "cell_type": "code",
   "execution_count": 24,
   "metadata": {},
   "outputs": [],
   "source": [
    "total_short_100 = total_df.sort_values(by=['duration']).head(100)\n",
    "# total_short_100\n",
    "\n",
    "total_short_100_file = \"/data/MTDATA/fn-2-018/manifest/total/total_short_100.csv\"\n",
    "total_short_100.to_csv(\"/data/MTDATA/fn-2-018/manifest/total/total_short_100.csv\", index=False)"
   ]
  },
  {
   "cell_type": "code",
   "execution_count": 25,
   "metadata": {},
   "outputs": [],
   "source": [
    "total_long_100 = total_df.sort_values(by=['duration'], ascending=False).head(100)\n",
    "# total_long_100\n",
    "total_long_100_file = \"/data/MTDATA/fn-2-018/manifest/total/total_long_100.csv\"\n",
    "total_long_100.to_csv(\"/data/MTDATA/fn-2-018/manifest/total/total_long_100.csv\", index=False)"
   ]
  },
  {
   "cell_type": "code",
   "execution_count": 23,
   "metadata": {},
   "outputs": [],
   "source": [
    "total_random_100 = total_df.sample(n=100, # number of items from axis to return.\n",
    "          random_state=7774) # seed for random number generator for reproducibility"
   ]
  },
  {
   "cell_type": "code",
   "execution_count": 11,
   "metadata": {},
   "outputs": [
    {
     "data": {
      "text/html": [
       "<div>\n",
       "<style scoped>\n",
       "    .dataframe tbody tr th:only-of-type {\n",
       "        vertical-align: middle;\n",
       "    }\n",
       "\n",
       "    .dataframe tbody tr th {\n",
       "        vertical-align: top;\n",
       "    }\n",
       "\n",
       "    .dataframe thead th {\n",
       "        text-align: right;\n",
       "    }\n",
       "</style>\n",
       "<table border=\"1\" class=\"dataframe\">\n",
       "  <thead>\n",
       "    <tr style=\"text-align: right;\">\n",
       "      <th></th>\n",
       "      <th>ID</th>\n",
       "      <th>duration</th>\n",
       "      <th>wav</th>\n",
       "      <th>province_code</th>\n",
       "      <th>wrd</th>\n",
       "    </tr>\n",
       "  </thead>\n",
       "  <tbody>\n",
       "    <tr>\n",
       "      <th>397325</th>\n",
       "      <td>total-say_set1_collectorgs65_speakergs2211_27_...</td>\n",
       "      <td>5.599</td>\n",
       "      <td>/data/MTDATA/fn-2-018/root/person/say/gs/colle...</td>\n",
       "      <td>total</td>\n",
       "      <td>그래 누가 어디 가서 이야기 아들이라 카더라고요 그래 낳아 보니 진짜 아들이더라고예</td>\n",
       "    </tr>\n",
       "    <tr>\n",
       "      <th>206458</th>\n",
       "      <td>total-talk_set1_collectorjl186_speakerjl2307_s...</td>\n",
       "      <td>3.589</td>\n",
       "      <td>/data/MTDATA/fn-2-018/root/people/talk/jl/coll...</td>\n",
       "      <td>total</td>\n",
       "      <td>그먼 좋기는 좋지만은 나는 현찰이 필요하요야</td>\n",
       "    </tr>\n",
       "    <tr>\n",
       "      <th>425627</th>\n",
       "      <td>total-say_set1_collectorgs384_speakergs3749_15...</td>\n",
       "      <td>4.530</td>\n",
       "      <td>/data/MTDATA/fn-2-018/root/person/say/gs/colle...</td>\n",
       "      <td>total</td>\n",
       "      <td>꽃보다 단풍이 더 좋은 것 겉더라 꽃도 좋아하는데</td>\n",
       "    </tr>\n",
       "    <tr>\n",
       "      <th>334724</th>\n",
       "      <td>total-say_set1_collectorgs436_speakergs4107_64...</td>\n",
       "      <td>4.610</td>\n",
       "      <td>/data/MTDATA/fn-2-018/root/person/say/gs/colle...</td>\n",
       "      <td>total</td>\n",
       "      <td>옛날에는 뜨거운 물 사용할라면은 힘들었어요</td>\n",
       "    </tr>\n",
       "    <tr>\n",
       "      <th>800537</th>\n",
       "      <td>total-say_set3_collectorjl124_speakerjl1249_40...</td>\n",
       "      <td>12.511</td>\n",
       "      <td>/data/MTDATA/fn-2-018/root/person/say/jl/colle...</td>\n",
       "      <td>total</td>\n",
       "      <td>그러니까 이 년도 안된 에어컨이 중고상에 내놓으라니까 한 육 칠십 만 원밖에 안 되...</td>\n",
       "    </tr>\n",
       "    <tr>\n",
       "      <th>1004435</th>\n",
       "      <td>total-say_set1_collectorgw197_speakergw1410_47...</td>\n",
       "      <td>14.609</td>\n",
       "      <td>/data/MTDATA/fn-2-018/root/person/say/gw/colle...</td>\n",
       "      <td>total</td>\n",
       "      <td>가장 힘든 거야 뭐 내가 볼 때 가장 힘들 때가 여름에 무더울 때 김 내고 이럴 때...</td>\n",
       "    </tr>\n",
       "    <tr>\n",
       "      <th>419430</th>\n",
       "      <td>total-say_set1_collectorgs348_speakergs2670_41...</td>\n",
       "      <td>3.350</td>\n",
       "      <td>/data/MTDATA/fn-2-018/root/person/say/gs/colle...</td>\n",
       "      <td>total</td>\n",
       "      <td>물려 입는 것에 대해 좋다꼬 생각합니다</td>\n",
       "    </tr>\n",
       "  </tbody>\n",
       "</table>\n",
       "</div>"
      ],
      "text/plain": [
       "                                                        ID  duration  \\\n",
       "397325   total-say_set1_collectorgs65_speakergs2211_27_...     5.599   \n",
       "206458   total-talk_set1_collectorjl186_speakerjl2307_s...     3.589   \n",
       "425627   total-say_set1_collectorgs384_speakergs3749_15...     4.530   \n",
       "334724   total-say_set1_collectorgs436_speakergs4107_64...     4.610   \n",
       "800537   total-say_set3_collectorjl124_speakerjl1249_40...    12.511   \n",
       "1004435  total-say_set1_collectorgw197_speakergw1410_47...    14.609   \n",
       "419430   total-say_set1_collectorgs348_speakergs2670_41...     3.350   \n",
       "\n",
       "                                                       wav province_code  \\\n",
       "397325   /data/MTDATA/fn-2-018/root/person/say/gs/colle...         total   \n",
       "206458   /data/MTDATA/fn-2-018/root/people/talk/jl/coll...         total   \n",
       "425627   /data/MTDATA/fn-2-018/root/person/say/gs/colle...         total   \n",
       "334724   /data/MTDATA/fn-2-018/root/person/say/gs/colle...         total   \n",
       "800537   /data/MTDATA/fn-2-018/root/person/say/jl/colle...         total   \n",
       "1004435  /data/MTDATA/fn-2-018/root/person/say/gw/colle...         total   \n",
       "419430   /data/MTDATA/fn-2-018/root/person/say/gs/colle...         total   \n",
       "\n",
       "                                                       wrd  \n",
       "397325      그래 누가 어디 가서 이야기 아들이라 카더라고요 그래 낳아 보니 진짜 아들이더라고예  \n",
       "206458                            그먼 좋기는 좋지만은 나는 현찰이 필요하요야  \n",
       "425627                         꽃보다 단풍이 더 좋은 것 겉더라 꽃도 좋아하는데  \n",
       "334724                             옛날에는 뜨거운 물 사용할라면은 힘들었어요  \n",
       "800537   그러니까 이 년도 안된 에어컨이 중고상에 내놓으라니까 한 육 칠십 만 원밖에 안 되...  \n",
       "1004435  가장 힘든 거야 뭐 내가 볼 때 가장 힘들 때가 여름에 무더울 때 김 내고 이럴 때...  \n",
       "419430                               물려 입는 것에 대해 좋다꼬 생각합니다  "
      ]
     },
     "execution_count": 11,
     "metadata": {},
     "output_type": "execute_result"
    }
   ],
   "source": [
    "total_df.sample(frac=0.000005, # fraction of axis items to return.\n",
    "          random_state=7774)"
   ]
  },
  {
   "cell_type": "code",
   "execution_count": 12,
   "metadata": {},
   "outputs": [
    {
     "data": {
      "text/plain": [
       "397325     5.599\n",
       "206458     3.589\n",
       "425627     4.530\n",
       "334724     4.610\n",
       "800537    12.511\n",
       "Name: duration, dtype: float64"
      ]
     },
     "execution_count": 12,
     "metadata": {},
     "output_type": "execute_result"
    }
   ],
   "source": [
    "total_df['duration'].sample(n=5, random_state=7774)"
   ]
  },
  {
   "cell_type": "code",
   "execution_count": null,
   "metadata": {},
   "outputs": [],
   "source": [
    "say_talk_df[\"gender\"].value_counts().sort_index().plot(kind=\"bar\")"
   ]
  },
  {
   "cell_type": "code",
   "execution_count": null,
   "metadata": {},
   "outputs": [],
   "source": []
  }
 ],
 "metadata": {
  "kernelspec": {
   "display_name": "base",
   "language": "python",
   "name": "python3"
  },
  "language_info": {
   "codemirror_mode": {
    "name": "ipython",
    "version": 3
   },
   "file_extension": ".py",
   "mimetype": "text/x-python",
   "name": "python",
   "nbconvert_exporter": "python",
   "pygments_lexer": "ipython3",
   "version": "3.8.12"
  },
  "orig_nbformat": 4,
  "vscode": {
   "interpreter": {
    "hash": "d4d1e4263499bec80672ea0156c357c1ee493ec2b1c70f0acce89fc37c4a6abe"
   }
  }
 },
 "nbformat": 4,
 "nbformat_minor": 2
}
