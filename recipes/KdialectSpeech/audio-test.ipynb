{
 "cells": [
  {
   "cell_type": "code",
   "execution_count": 6,
   "metadata": {},
   "outputs": [],
   "source": [
    "import os\n",
    "import glob\n",
    "from pathlib import Path\n",
    "import shutil\n",
    "import argparse\n",
    "import librosa\n",
    "import soundfile as sf\n",
    "from pydub import AudioSegment\n",
    "import wave"
   ]
  },
  {
   "cell_type": "code",
   "execution_count": 1,
   "metadata": {},
   "outputs": [],
   "source": [
    "audio_file_1 = '/data/MTDATA/fn-2018/root/people/talk/gs/collectorgs217/talk_set1_collectorgs217_speakergs2272_speakergs2273_20_0_46-8.wav'"
   ]
  },
  {
   "cell_type": "code",
   "execution_count": 7,
   "metadata": {},
   "outputs": [
    {
     "data": {
      "text/plain": [
       "<wave.Wave_read at 0x7f5e99b55e20>"
      ]
     },
     "execution_count": 7,
     "metadata": {},
     "output_type": "execute_result"
    }
   ],
   "source": [
    "wave.open(audio_file_1)"
   ]
  },
  {
   "cell_type": "code",
   "execution_count": 4,
   "metadata": {},
   "outputs": [
    {
     "data": {
      "text/plain": [
       "False"
      ]
     },
     "execution_count": 4,
     "metadata": {},
     "output_type": "execute_result"
    }
   ],
   "source": [
    "isinstance(audio_file_1, sf.SoundFile)"
   ]
  },
  {
   "cell_type": "code",
   "execution_count": 5,
   "metadata": {},
   "outputs": [
    {
     "name": "stdout",
     "output_type": "stream",
     "text": [
      "sr_1 : 22050\n"
     ]
    }
   ],
   "source": [
    "# librosa로 오디오 읽어오기 sample rate\n",
    "\n",
    "\n",
    "y_1, sr_1 = librosa.load(audio_file_1) # sr을 지정하지 않으면 자동 resample 22050\n",
    "print(f'sr_1 : {sr_1}')"
   ]
  },
  {
   "cell_type": "code",
   "execution_count": null,
   "metadata": {},
   "outputs": [],
   "source": [
    "audio_file_1 = 'audio/talk_set1_collectorgs15_speakergs37_speakergs38_9_0_82-16k.wav'\n",
    "y_1, sr_1 = librosa.load(audio_file_1, sr=16000)\n",
    "print(f'sr_1 : {sr_1}')"
   ]
  },
  {
   "cell_type": "code",
   "execution_count": null,
   "metadata": {},
   "outputs": [],
   "source": [
    "audio_file_2 = 'audio/talk_set1_collectorgs15_speakergs37_speakergs38_9_0_82-48k.wav'\n",
    "y_2, sr_2 = librosa.load(audio_file_2, sr=48000)\n",
    "print(f'sr_2 : {sr_2}')"
   ]
  },
  {
   "cell_type": "code",
   "execution_count": null,
   "metadata": {},
   "outputs": [],
   "source": [
    "# 오디오 파일의 sample rate 읽기\n",
    "\n",
    "frame_rate = librosa.get_samplerate(audio_file_1)\n",
    "frame_rate"
   ]
  },
  {
   "cell_type": "code",
   "execution_count": null,
   "metadata": {},
   "outputs": [],
   "source": [
    "# 오디오 파일 자르기\n",
    "\n",
    "audio_file_2 = 'audio/talk_set1_collectorgs15_speakergs37_speakergs38_9_0_82-48k.wav'\n",
    "audio = AudioSegment.from_wav(audio_file_2)\n",
    "\n",
    "# pydub does things in miliseconds\n",
    "thirty_sec = 30 * 1000\n",
    "one_min = 1 * 60 * 1000\n",
    "\n",
    "first_30_sec = audio[:thirty_sec]\n",
    "first_1_min = audio[:one_min]\n",
    "\n",
    "out_file = 'test_30sec.wav'\n",
    "out_path = os.path.join('audio/', out_file)\n",
    "first_30_sec.export(out_path, format=\"wav\")"
   ]
  },
  {
   "cell_type": "code",
   "execution_count": null,
   "metadata": {},
   "outputs": [],
   "source": [
    "from collections import Counter"
   ]
  },
  {
   "cell_type": "code",
   "execution_count": null,
   "metadata": {},
   "outputs": [],
   "source": [
    "c = Counter()"
   ]
  },
  {
   "cell_type": "code",
   "execution_count": null,
   "metadata": {},
   "outputs": [],
   "source": []
  }
 ],
 "metadata": {
  "kernelspec": {
   "display_name": "Python 3.8.12 ('base')",
   "language": "python",
   "name": "python3"
  },
  "language_info": {
   "codemirror_mode": {
    "name": "ipython",
    "version": 3
   },
   "file_extension": ".py",
   "mimetype": "text/x-python",
   "name": "python",
   "nbconvert_exporter": "python",
   "pygments_lexer": "ipython3",
   "version": "3.8.12"
  },
  "orig_nbformat": 4,
  "vscode": {
   "interpreter": {
    "hash": "d4d1e4263499bec80672ea0156c357c1ee493ec2b1c70f0acce89fc37c4a6abe"
   }
  }
 },
 "nbformat": 4,
 "nbformat_minor": 2
}
