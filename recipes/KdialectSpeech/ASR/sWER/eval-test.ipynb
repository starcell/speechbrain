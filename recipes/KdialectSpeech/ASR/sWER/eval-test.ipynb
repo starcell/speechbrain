{
 "cells": [
  {
   "cell_type": "code",
   "execution_count": 18,
   "metadata": {},
   "outputs": [],
   "source": [
    "import torch\n",
    "import speechbrain as sb\n",
    "from speechbrain.utils.edit_distance import wer_details_for_batch"
   ]
  },
  {
   "cell_type": "code",
   "execution_count": 2,
   "metadata": {},
   "outputs": [],
   "source": [
    "class SimpleBrain(sb.core.Brain):\n",
    "  def compute_forward(self, batch, stage):\n",
    "    return self.modules.model(batch[\"input\"])\n",
    "\n",
    "    \n",
    "  def compute_objectives(self, predictions, batch, stage):\n",
    "    return torch.nn.functional.l1_loss(predictions, batch[\"target\"])"
   ]
  },
  {
   "cell_type": "code",
   "execution_count": 3,
   "metadata": {},
   "outputs": [
    {
     "data": {
      "text/plain": [
       "1672829680.00965"
      ]
     },
     "execution_count": 3,
     "metadata": {},
     "output_type": "execute_result"
    }
   ],
   "source": [
    "import time\n",
    "time.time()"
   ]
  },
  {
   "cell_type": "code",
   "execution_count": 4,
   "metadata": {},
   "outputs": [],
   "source": [
    "table = [['I', 'I', 'I', 'I'],\n",
    "         ['D', '=', 'I', 'I'],\n",
    "         ['D', 'D', '=', 'I'],\n",
    "         ['D', 'D', 'D', 'S']]"
   ]
  },
  {
   "cell_type": "code",
   "execution_count": 5,
   "metadata": {},
   "outputs": [
    {
     "data": {
      "text/plain": [
       "4"
      ]
     },
     "execution_count": 5,
     "metadata": {},
     "output_type": "execute_result"
    }
   ],
   "source": [
    "len(table)"
   ]
  },
  {
   "cell_type": "code",
   "execution_count": 6,
   "metadata": {},
   "outputs": [],
   "source": [
    "a = [1,2,3]\n",
    "b = [1,2,4]"
   ]
  },
  {
   "cell_type": "code",
   "execution_count": 7,
   "metadata": {},
   "outputs": [],
   "source": [
    "prev_row = [j for j in range(len(b) + 1)]"
   ]
  },
  {
   "cell_type": "code",
   "execution_count": 8,
   "metadata": {},
   "outputs": [],
   "source": [
    "curr_row = [0] * (len(b) + 1)"
   ]
  },
  {
   "cell_type": "code",
   "execution_count": 9,
   "metadata": {},
   "outputs": [
    {
     "data": {
      "text/plain": [
       "[0, 0, 0, 0]"
      ]
     },
     "execution_count": 9,
     "metadata": {},
     "output_type": "execute_result"
    }
   ],
   "source": [
    "curr_row"
   ]
  },
  {
   "cell_type": "code",
   "execution_count": 10,
   "metadata": {},
   "outputs": [],
   "source": [
    "table = [\n",
    "    [\"=\" for j in range(len(b) + 1)]\n",
    "    for i in range(len(a) + 1)\n",
    "]"
   ]
  },
  {
   "cell_type": "code",
   "execution_count": 11,
   "metadata": {},
   "outputs": [],
   "source": [
    "for i in range(len(a) + 1):\n",
    "    table[i][0] = \"D\"\n",
    "for j in range(len(b) + 1):\n",
    "    table[0][j] = \"I\"\n",
    "table[0][0] = \"=\""
   ]
  },
  {
   "cell_type": "code",
   "execution_count": 12,
   "metadata": {},
   "outputs": [
    {
     "data": {
      "text/plain": [
       "[['=', 'I', 'I', 'I'],\n",
       " ['D', '=', '=', '='],\n",
       " ['D', '=', '=', '='],\n",
       " ['D', '=', '=', '=']]"
      ]
     },
     "execution_count": 12,
     "metadata": {},
     "output_type": "execute_result"
    }
   ],
   "source": [
    "table"
   ]
  },
  {
   "cell_type": "code",
   "execution_count": 13,
   "metadata": {},
   "outputs": [
    {
     "name": "stdout",
     "output_type": "stream",
     "text": [
      "1 1\n",
      "2 2\n",
      "3 4\n"
     ]
    }
   ],
   "source": [
    "for i, v in enumerate(b, start=1):\n",
    "    print(i, v)"
   ]
  },
  {
   "cell_type": "code",
   "execution_count": 14,
   "metadata": {},
   "outputs": [
    {
     "data": {
      "text/plain": [
       "tensor([1.])"
      ]
     },
     "execution_count": 14,
     "metadata": {},
     "output_type": "execute_result"
    }
   ],
   "source": [
    "torch.ones(1)"
   ]
  },
  {
   "cell_type": "code",
   "execution_count": 15,
   "metadata": {},
   "outputs": [],
   "source": [
    "i2l = {0: 'a', 1: 'b'}"
   ]
  },
  {
   "cell_type": "code",
   "execution_count": 16,
   "metadata": {},
   "outputs": [],
   "source": [
    "ind2lab = lambda batch: [[i2l[int(x)] for x in seq] for seq in batch]"
   ]
  },
  {
   "cell_type": "code",
   "execution_count": 17,
   "metadata": {},
   "outputs": [
    {
     "data": {
      "text/plain": [
       "'a'"
      ]
     },
     "execution_count": 17,
     "metadata": {},
     "output_type": "execute_result"
    }
   ],
   "source": [
    "i2l[0]"
   ]
  },
  {
   "cell_type": "code",
   "execution_count": 19,
   "metadata": {},
   "outputs": [
    {
     "data": {
      "text/plain": [
       "[['a', 'a', 'b'], ['a', 'b', 'b']]"
      ]
     },
     "execution_count": 19,
     "metadata": {},
     "output_type": "execute_result"
    }
   ],
   "source": [
    "ind2lab([[0, 0, 1], [0, 1, 1]])"
   ]
  },
  {
   "cell_type": "code",
   "execution_count": 20,
   "metadata": {},
   "outputs": [],
   "source": [
    "ids = [['utt1'], ['utt2']]\n",
    "refs = [[['a','b','c']], [['d','e']]]\n",
    "hyps = [[['a','b','d']], [['d','e']]]"
   ]
  },
  {
   "cell_type": "code",
   "execution_count": 22,
   "metadata": {},
   "outputs": [],
   "source": [
    "a_zip = zip(ids, refs, hyps)"
   ]
  },
  {
   "cell_type": "code",
   "execution_count": null,
   "metadata": {},
   "outputs": [],
   "source": [
    "for i, r, h in a_zip:\n",
    "    print(i, r, h)"
   ]
  },
  {
   "cell_type": "code",
   "execution_count": 23,
   "metadata": {},
   "outputs": [],
   "source": [
    "wer_details = []"
   ]
  },
  {
   "cell_type": "code",
   "execution_count": 24,
   "metadata": {},
   "outputs": [],
   "source": [
    "for ids_batch, refs_batch, hyps_batch in zip(ids, refs, hyps):\n",
    "    details = wer_details_for_batch(ids_batch, refs_batch, hyps_batch)\n",
    "    wer_details.extend(details)"
   ]
  },
  {
   "cell_type": "code",
   "execution_count": 25,
   "metadata": {},
   "outputs": [
    {
     "data": {
      "text/plain": [
       "[{'key': 'utt1',\n",
       "  'scored': True,\n",
       "  'hyp_absent': False,\n",
       "  'hyp_empty': False,\n",
       "  'num_edits': 1,\n",
       "  'num_ref_tokens': 3,\n",
       "  'WER': 33.333333333333336,\n",
       "  'insertions': 0,\n",
       "  'deletions': 0,\n",
       "  'substitutions': 1,\n",
       "  'alignment': None,\n",
       "  'ref_tokens': None,\n",
       "  'hyp_tokens': None},\n",
       " {'key': 'utt2',\n",
       "  'scored': True,\n",
       "  'hyp_absent': False,\n",
       "  'hyp_empty': False,\n",
       "  'num_edits': 0,\n",
       "  'num_ref_tokens': 2,\n",
       "  'WER': 0.0,\n",
       "  'insertions': 0,\n",
       "  'deletions': 0,\n",
       "  'substitutions': 0,\n",
       "  'alignment': None,\n",
       "  'ref_tokens': None,\n",
       "  'hyp_tokens': None}]"
      ]
     },
     "execution_count": 25,
     "metadata": {},
     "output_type": "execute_result"
    }
   ],
   "source": [
    "wer_details"
   ]
  }
 ],
 "metadata": {
  "kernelspec": {
   "display_name": "base",
   "language": "python",
   "name": "python3"
  },
  "language_info": {
   "codemirror_mode": {
    "name": "ipython",
    "version": 3
   },
   "file_extension": ".py",
   "mimetype": "text/x-python",
   "name": "python",
   "nbconvert_exporter": "python",
   "pygments_lexer": "ipython3",
   "version": "3.8.12 | packaged by conda-forge | (default, Oct 12 2021, 21:59:51) \n[GCC 9.4.0]"
  },
  "orig_nbformat": 4,
  "vscode": {
   "interpreter": {
    "hash": "d4d1e4263499bec80672ea0156c357c1ee493ec2b1c70f0acce89fc37c4a6abe"
   }
  }
 },
 "nbformat": 4,
 "nbformat_minor": 2
}
