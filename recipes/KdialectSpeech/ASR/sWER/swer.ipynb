{
 "cells": [
  {
   "cell_type": "code",
   "execution_count": 1,
   "metadata": {},
   "outputs": [],
   "source": [
    "# 원본은 내 pc(Dell)의 deepcell-speechbrain-2 Docker에 있음\n",
    "\n",
    "import speechbrain\n",
    "from speechbrain.utils.edit_distance import wer_details_for_batch\n",
    "import pandas as pd\n",
    "import numpy as np"
   ]
  },
  {
   "cell_type": "code",
   "execution_count": 10,
   "metadata": {},
   "outputs": [
    {
     "name": "stdout",
     "output_type": "stream",
     "text": [
      "['나', '는', '_어', '제', '_치', '킨', '을', '_먹', '었', '다']\n"
     ]
    }
   ],
   "source": [
    "# 음절 단위 토큰화, 빈칸을 _로 표시\n",
    "\n",
    "def char_tokenizer(s):\n",
    "    result = []\n",
    "    flag = False\n",
    "    for c in s:\n",
    "        if c == ' ':\n",
    "            flag = True\n",
    "            continue\n",
    "\n",
    "        if flag == True:\n",
    "            c = '_' + c\n",
    "            flag = False\n",
    "\n",
    "        result.append(c)\n",
    "        \n",
    "    return result\n",
    "\n",
    "print(char_tokenizer('나는 어제 치킨을 먹었다'))"
   ]
  },
  {
   "cell_type": "code",
   "execution_count": 3,
   "metadata": {},
   "outputs": [],
   "source": [
    "def remove_space_symbol(s):\n",
    "    return s.replace(' ', '')\n",
    "    \n",
    "# print(remove_space_symbol(ref))"
   ]
  },
  {
   "cell_type": "code",
   "execution_count": 7,
   "metadata": {},
   "outputs": [],
   "source": [
    "def get_norm_text(ref , hyp):\n",
    "    refs = char_tokenizer(ref)\n",
    "    hyps = char_tokenizer(hyp)\n",
    "\n",
    "    ref_nospace = ref.replace(' ', '')\n",
    "    hyp_nospace = hyp.replace(' ', '')\n",
    "\n",
    "    rlen = len(refs)\n",
    "    hlen = len(hyps)\n",
    "\n",
    "    scores =  np.zeros((hlen+1, rlen+1), dtype=np.int32)\n",
    "\n",
    "    # initialize, 공란을 무시하고 음절의 거리 매트릭스 만들기\n",
    "    for r in range(rlen+1):\n",
    "        scores[0, r] = r\n",
    "    for h in range(1, hlen+1):\n",
    "        scores[h, 0] = scores[h-1, 0] + 1\n",
    "        for r in range(1, rlen+1):\n",
    "            sub_or_cor = scores[h-1, r-1] + (0 if ref_nospace[r-1] == hyp_nospace[h-1] else 1)\n",
    "\n",
    "            insert = scores[h-1, r] + 1\n",
    "            delete = scores[h, r-1] + 1\n",
    "\n",
    "            scores[h, r] = min(sub_or_cor, insert, delete)\n",
    "    # print(scores)\n",
    "\n",
    "    # traceback and compute alignment\n",
    "    h, r = hlen, rlen\n",
    "    ref_norm, hyp_norm = [], []\n",
    "\n",
    "    while r > 0 or h > 0:\n",
    "        if h == 0:\n",
    "            last_r = r - 1\n",
    "        elif r == 0:\n",
    "            last_h = h - 1\n",
    "            last_r = r\n",
    "        else:\n",
    "            sub_or_cor = scores[h-1, r-1] + (0 if ref_nospace[r-1] == hyp_nospace[h-1] else 1)\n",
    "            insert = scores[h-1, r] + 1\n",
    "            delete = scores[h, r-1] + 1\n",
    "\n",
    "            if sub_or_cor < min(insert, delete):\n",
    "                last_h, last_r = h - 1, r - 1\n",
    "            else:\n",
    "                last_h, last_r = (h-1, r) if insert < delete else (h, r-1)\n",
    "\n",
    "            c_hyp = hyps[last_h] if last_h == h-1 else ''\n",
    "            c_ref = refs[last_r] if last_r == r-1 else ''\n",
    "\n",
    "            h, r = last_h, last_r\n",
    "\n",
    "            # do word-spacing normalization\n",
    "            if c_hyp.replace('_', '') == c_ref.replace('_', ''):\n",
    "                c_hyp = c_ref\n",
    "\n",
    "        ref_norm.append(c_ref)\n",
    "        hyp_norm.append(c_hyp)\n",
    "    \n",
    "    return ref_norm[::-1], hyp_norm[::-1]"
   ]
  },
  {
   "cell_type": "code",
   "execution_count": 8,
   "metadata": {},
   "outputs": [],
   "source": [
    "ref = '나는 어제 양념 치킨을 먹었다' # 양념 이란 단어가 ref에만 있으므로 처리에 문제가 있다. \n",
    "hyp = '나는어제  치킨을먹었다'\n",
    "\n",
    "# ref = '음성인식 평가 방법을 소개합니다'\n",
    "# hyp = '어 음성 인식 평가방버블 소개합니다'\n",
    "# -> 어 음성인식 평가 방버블 소개합니다\n",
    "\n",
    "# ref = '음성인식 방법을 소개합니다'\n",
    "# hyp = '음성 인식 방버블 소개합니다'"
   ]
  },
  {
   "cell_type": "code",
   "execution_count": 11,
   "metadata": {},
   "outputs": [],
   "source": [
    "ref_n, hyp_n = get_norm_text(ref, hyp)"
   ]
  },
  {
   "cell_type": "code",
   "execution_count": 12,
   "metadata": {},
   "outputs": [
    {
     "data": {
      "text/plain": [
       "['나', '는', '_어', '제', '', '', '_치', '킨', '을', '_먹', '었', '다']"
      ]
     },
     "execution_count": 12,
     "metadata": {},
     "output_type": "execute_result"
    }
   ],
   "source": [
    "hyp_n"
   ]
  },
  {
   "cell_type": "code",
   "execution_count": 13,
   "metadata": {},
   "outputs": [
    {
     "data": {
      "text/plain": [
       "['나', '는', '_어', '제', '_양', '념', '_치', '킨', '을', '_먹', '었', '다']"
      ]
     },
     "execution_count": 13,
     "metadata": {},
     "output_type": "execute_result"
    }
   ],
   "source": [
    "ref_n"
   ]
  },
  {
   "cell_type": "code",
   "execution_count": 8,
   "metadata": {},
   "outputs": [
    {
     "name": "stdout",
     "output_type": "stream",
     "text": [
      "나는 어제 양념 치킨을 먹었다\n"
     ]
    }
   ],
   "source": [
    "# map(function, iterable)\n",
    "# '구분자'.join(리스트)\n",
    "\n",
    "result = ''.join(map(str, ref_n)).replace('_', ' ')\n",
    "print(result)"
   ]
  },
  {
   "cell_type": "code",
   "execution_count": 9,
   "metadata": {},
   "outputs": [
    {
     "name": "stdout",
     "output_type": "stream",
     "text": [
      "나는 어제 치킨을 먹었다\n"
     ]
    }
   ],
   "source": [
    "result = ''.join(map(str, hyp_n)).replace('_', ' ')\n",
    "print(result)"
   ]
  },
  {
   "cell_type": "code",
   "execution_count": 14,
   "metadata": {},
   "outputs": [],
   "source": [
    "def get_swords(ref , hyp):\n",
    "    refs = char_tokenizer(ref)\n",
    "    hyps = char_tokenizer(hyp)\n",
    "    ref_nospace = ref.replace(' ', '')\n",
    "    hyp_nospace = hyp.replace(' ', '')\n",
    "    rlen = len(refs)\n",
    "    hlen = len(hyps)\n",
    "    scores =  np.zeros((hlen+1, rlen+1), dtype=np.int32)\n",
    "\n",
    "    # initialize, 공란을 무시하고 음절의 거리 매트릭스 만들기\n",
    "    for r in range(rlen+1):\n",
    "        scores[0, r] = r\n",
    "    for h in range(1, hlen+1):\n",
    "        scores[h, 0] = scores[h-1, 0] + 1\n",
    "        for r in range(1, rlen+1):\n",
    "            sub_or_cor = scores[h-1, r-1] + (0 if ref_nospace[r-1] == hyp_nospace[h-1] else 1)\n",
    "            insert = scores[h-1, r] + 1\n",
    "            delete = scores[h, r-1] + 1\n",
    "            scores[h, r] = min(sub_or_cor, insert, delete)\n",
    "\n",
    "    # traceback and compute alignment\n",
    "    h, r = hlen, rlen\n",
    "    ref_norm, hyp_norm = [], []\n",
    "\n",
    "    while r > 0 or h > 0:\n",
    "        if h == 0:\n",
    "            last_r = r - 1\n",
    "        elif r == 0:\n",
    "            last_h = h - 1\n",
    "            last_r = r\n",
    "        else:\n",
    "            sub_or_cor = scores[h-1, r-1] + (0 if ref_nospace[r-1] == hyp_nospace[h-1] else 1)\n",
    "            insert = scores[h-1, r] + 1\n",
    "            delete = scores[h, r-1] + 1\n",
    "\n",
    "            if sub_or_cor < min(insert, delete):\n",
    "                last_h, last_r = h - 1, r - 1\n",
    "            else:\n",
    "                last_h, last_r = (h-1, r) if insert < delete else (h, r-1)\n",
    "\n",
    "            c_hyp = hyps[last_h] if last_h == h-1 else ''\n",
    "            c_ref = refs[last_r] if last_r == r-1 else ''\n",
    "            h, r = last_h, last_r\n",
    "\n",
    "            # do word-spacing normalization\n",
    "            if c_hyp.replace('_', '') == c_ref.replace('_', ''):\n",
    "                c_hyp = c_ref\n",
    "\n",
    "        ref_norm.append(c_ref)\n",
    "        hyp_norm.append(c_hyp)\n",
    "\n",
    "    # ref_norm[::-1], hyp_norm[::-1]\n",
    "    shyp = ''.join(map(str, hyp_norm[::-1])).replace('_', ' ')\n",
    "    return shyp"
   ]
  },
  {
   "cell_type": "code",
   "execution_count": 15,
   "metadata": {},
   "outputs": [
    {
     "data": {
      "text/plain": [
       "'나는 어제 치킨을 먹었다'"
      ]
     },
     "execution_count": 15,
     "metadata": {},
     "output_type": "execute_result"
    }
   ],
   "source": [
    "get_swords(ref, hyp)"
   ]
  },
  {
   "cell_type": "code",
   "execution_count": 16,
   "metadata": {},
   "outputs": [
    {
     "data": {
      "text/plain": [
       "'나는 어제 양념 치킨을 먹었다'"
      ]
     },
     "execution_count": 16,
     "metadata": {},
     "output_type": "execute_result"
    }
   ],
   "source": [
    "ref"
   ]
  },
  {
   "cell_type": "code",
   "execution_count": 17,
   "metadata": {},
   "outputs": [
    {
     "data": {
      "text/plain": [
       "'나는어제  치킨을먹었다'"
      ]
     },
     "execution_count": 17,
     "metadata": {},
     "output_type": "execute_result"
    }
   ],
   "source": [
    "hyp"
   ]
  },
  {
   "cell_type": "code",
   "execution_count": null,
   "metadata": {},
   "outputs": [],
   "source": [
    "file_name = 'hyp_label.csv'\n",
    "hyp_label_df = pd.read_csv(file_name)"
   ]
  },
  {
   "cell_type": "code",
   "execution_count": null,
   "metadata": {},
   "outputs": [],
   "source": [
    "_, hyp_label_df['hyp_n'] = get_norm_text(hyp_label_df['wrd'], hyp_label_df['hyp'])"
   ]
  },
  {
   "cell_type": "code",
   "execution_count": null,
   "metadata": {},
   "outputs": [],
   "source": [
    "hyp_label_df"
   ]
  },
  {
   "cell_type": "code",
   "execution_count": null,
   "metadata": {},
   "outputs": [],
   "source": [
    "pd.options.display.max_rows = 100"
   ]
  },
  {
   "cell_type": "code",
   "execution_count": null,
   "metadata": {},
   "outputs": [],
   "source": [
    "print(hyp_label_df['hyp_n'])"
   ]
  },
  {
   "cell_type": "code",
   "execution_count": null,
   "metadata": {},
   "outputs": [],
   "source": [
    "hyp_label_df['hyp_s'] = ''.join(map(str, hyp_label_df['hyp_n'])).replace('_', ' ')"
   ]
  },
  {
   "cell_type": "code",
   "execution_count": null,
   "metadata": {},
   "outputs": [],
   "source": [
    "(hyp_label_df['hyp_n']).replace('_', ' ')"
   ]
  },
  {
   "cell_type": "code",
   "execution_count": null,
   "metadata": {},
   "outputs": [],
   "source": [
    "wer_test = wer_details_for_batch(hyp_label_df['spk_id'], hyp_label_df['wrd'], hyp_label_df['hyp'])\n",
    "wer_list = [i['WER'] for i in wer_test]"
   ]
  },
  {
   "cell_type": "code",
   "execution_count": null,
   "metadata": {},
   "outputs": [],
   "source": [
    "hyp_label_df['wer'] = wer_list"
   ]
  },
  {
   "cell_type": "code",
   "execution_count": null,
   "metadata": {},
   "outputs": [],
   "source": [
    "hyp_label_df"
   ]
  },
  {
   "cell_type": "code",
   "execution_count": null,
   "metadata": {},
   "outputs": [],
   "source": [
    "# sWER 구현하기"
   ]
  }
 ],
 "metadata": {
  "kernelspec": {
   "display_name": "base",
   "language": "python",
   "name": "python3"
  },
  "language_info": {
   "codemirror_mode": {
    "name": "ipython",
    "version": 3
   },
   "file_extension": ".py",
   "mimetype": "text/x-python",
   "name": "python",
   "nbconvert_exporter": "python",
   "pygments_lexer": "ipython3",
   "version": "3.8.12"
  },
  "orig_nbformat": 4,
  "vscode": {
   "interpreter": {
    "hash": "d4d1e4263499bec80672ea0156c357c1ee493ec2b1c70f0acce89fc37c4a6abe"
   }
  }
 },
 "nbformat": 4,
 "nbformat_minor": 2
}
