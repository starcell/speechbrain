{
 "cells": [
  {
   "cell_type": "code",
   "execution_count": 6,
   "metadata": {},
   "outputs": [],
   "source": [
    "# 원본은 내 pc(Dell)의 deepcell-speechbrain-2 Docker에 있음\n",
    "\n",
    "# import speechbrain\n",
    "# from speechbrain.utils.edit_distance import wer_details_for_batch\n",
    "# import pandas as pd\n",
    "import numpy as np\n",
    "from typing import List"
   ]
  },
  {
   "cell_type": "code",
   "execution_count": 1,
   "metadata": {},
   "outputs": [
    {
     "data": {
      "text/plain": [
       "['/workspace/speechbrain/recipes/KdialectSpeech/ASR/sWER',\n",
       " '/opt/conda/lib/python38.zip',\n",
       " '/opt/conda/lib/python3.8',\n",
       " '/opt/conda/lib/python3.8/lib-dynload',\n",
       " '',\n",
       " '/opt/conda/lib/python3.8/site-packages',\n",
       " '/workspace/speechbrain',\n",
       " '/opt/conda/lib/python3.8/site-packages/IPython/extensions',\n",
       " '/root/.ipython']"
      ]
     },
     "execution_count": 1,
     "metadata": {},
     "output_type": "execute_result"
    }
   ],
   "source": [
    "import sys\n",
    "sys.path"
   ]
  },
  {
   "cell_type": "code",
   "execution_count": 7,
   "metadata": {},
   "outputs": [
    {
     "name": "stdout",
     "output_type": "stream",
     "text": [
      "['나', '는', '_어', '제', '_치', '킨', '을', '_먹', '었', '다']\n"
     ]
    }
   ],
   "source": [
    "# 음절 단위 토큰화, 빈칸을 _로 표시\n",
    "\n",
    "def char_tokenizer(s):\n",
    "    result = []\n",
    "    flag = False\n",
    "    for c in s:\n",
    "        if c == ' ':\n",
    "            flag = True\n",
    "            continue\n",
    "\n",
    "        if flag == True:\n",
    "            c = '_' + c\n",
    "            flag = False\n",
    "\n",
    "        result.append(c)\n",
    "        \n",
    "    return result\n",
    "\n",
    "print(char_tokenizer('나는 어제 치킨을 먹었다'))"
   ]
  },
  {
   "cell_type": "code",
   "execution_count": 3,
   "metadata": {},
   "outputs": [],
   "source": [
    "def remove_space_symbol(s):\n",
    "    return s.replace(' ', '')\n",
    "    \n",
    "# print(remove_space_symbol(ref))"
   ]
  },
  {
   "cell_type": "code",
   "execution_count": 16,
   "metadata": {},
   "outputs": [],
   "source": [
    "def get_norm_text(ref , hyp):\n",
    "    refs = char_tokenizer(ref)\n",
    "    hyps = char_tokenizer(hyp)\n",
    "\n",
    "    ref_nospace = ref.replace(' ', '')\n",
    "    hyp_nospace = hyp.replace(' ', '')\n",
    "    print(f'ref_nospace : {ref_nospace}')\n",
    "    print(f'hyp_nospace : {hyp_nospace}')\n",
    "\n",
    "    rlen = len(refs)\n",
    "    hlen = len(hyps)\n",
    "    print(f'rlen : {rlen} , hlen : {hlen}')\n",
    "\n",
    "    scores =  np.zeros((hlen+1, rlen+1), dtype=np.int32)\n",
    "\n",
    "    # initialize, 공란을 무시하고 음절의 거리 매트릭스 만들기\n",
    "    for r in range(rlen+1):\n",
    "        scores[0, r] = r\n",
    "        \n",
    "    for h in range(1, hlen+1):\n",
    "        scores[h, 0] = scores[h-1, 0] + 1\n",
    "        for r in range(1, rlen+1):\n",
    "            sub_or_cor = scores[h-1, r-1] + (0 if ref_nospace[r-1] == hyp_nospace[h-1] else 1)\n",
    "            insert = scores[h-1, r] + 1\n",
    "            delete = scores[h, r-1] + 1\n",
    "\n",
    "            scores[h, r] = min(sub_or_cor, insert, delete)\n",
    "    print(f'lev scores--------------------------')\n",
    "    print(scores)\n",
    "\n",
    "    # traceback and compute alignment\n",
    "    h, r = hlen, rlen\n",
    "    ref_norm, hyp_norm = [], []\n",
    "\n",
    "    while r > 0 or h > 0:\n",
    "        print('while start *****')\n",
    "        print(f'ref_nospace[r-1] : {ref_nospace[r-1]}')\n",
    "        print(f'hyp_nospace[h-1] : {hyp_nospace[h-1]}')\n",
    "        if h == 0:\n",
    "            last_r = r - 1\n",
    "        elif r == 0:\n",
    "            last_h = h - 1\n",
    "            last_r = r\n",
    "        else:\n",
    "            sub_or_cor = scores[h-1, r-1] + (0 if ref_nospace[r-1] == hyp_nospace[h-1] else 1)\n",
    "            insert = scores[h-1, r] + 1\n",
    "            delete = scores[h, r-1] + 1\n",
    "\n",
    "            if sub_or_cor < min(insert, delete):\n",
    "                last_h, last_r = h - 1, r - 1\n",
    "            else:\n",
    "                last_h, last_r = (h-1, r) if insert < delete else (h, r-1)\n",
    "\n",
    "            print(f'last_h : {last_h}')\n",
    "            print(f'last_r : {last_r}')\n",
    "\n",
    "            c_hyp = hyps[last_h] if last_h == h-1 else ''\n",
    "            c_ref = refs[last_r] if last_r == r-1 else ''\n",
    "            print(f'c_hyp : {c_hyp}')\n",
    "            print(f'c_ref : {c_ref}')\n",
    "\n",
    "            h, r = last_h, last_r\n",
    "\n",
    "            # do word-spacing normalization\n",
    "            if c_hyp.replace('_', '') == c_ref.replace('_', ''):\n",
    "                c_hyp = c_ref\n",
    "\n",
    "        ref_norm.append(c_ref)\n",
    "        hyp_norm.append(c_hyp)\n",
    "        print(f'ref_norm : {ref_norm}')\n",
    "        print(f'hyp_norm : {hyp_norm}')\n",
    "    \n",
    "    return ref_norm[::-1], hyp_norm[::-1]"
   ]
  },
  {
   "cell_type": "code",
   "execution_count": 4,
   "metadata": {},
   "outputs": [],
   "source": [
    "ref = '나는 어제 양념 치킨' # 양념 이란 단어가 ref에만 있으므로 처리에 문제가 있다. \n",
    "hyp = '나는어제  치킨'\n",
    "\n",
    "# ref = '나는 어제 양념 치킨을 먹었다' # 양념 이란 단어가 ref에만 있으므로 처리에 문제가 있다. \n",
    "# hyp = '나는어제  치킨을먹었다'\n",
    "\n",
    "# ref = '음성인식 평가 방법을 소개합니다'\n",
    "# hyp = '어 음성 인식 평가방버블 소개합니다'\n",
    "# -> 어 음성인식 평가 방버블 소개합니다\n",
    "\n",
    "# ref = '음성인식 방법을 소개합니다'\n",
    "# hyp = '음성 인식 방버블 소개합니다'"
   ]
  },
  {
   "cell_type": "code",
   "execution_count": 17,
   "metadata": {},
   "outputs": [
    {
     "name": "stdout",
     "output_type": "stream",
     "text": [
      "ref_nospace : 나는어제양념치킨\n",
      "hyp_nospace : 나는어제치킨\n",
      "rlen : 8 , hlen : 6\n",
      "lev scores--------------------------\n",
      "[[0 1 2 3 4 5 6 7 8]\n",
      " [1 0 1 2 3 4 5 6 7]\n",
      " [2 1 0 1 2 3 4 5 6]\n",
      " [3 2 1 0 1 2 3 4 5]\n",
      " [4 3 2 1 0 1 2 3 4]\n",
      " [5 4 3 2 1 1 2 2 3]\n",
      " [6 5 4 3 2 2 2 3 2]]\n",
      "while start *****\n",
      "ref_nospace[r-1] : 킨\n",
      "hyp_nospace[h-1] : 킨\n",
      "last_h : 5\n",
      "last_r : 7\n",
      "c_hyp : 킨\n",
      "c_ref : 킨\n",
      "ref_norm : ['킨']\n",
      "hyp_norm : ['킨']\n",
      "while start *****\n",
      "ref_nospace[r-1] : 치\n",
      "hyp_nospace[h-1] : 치\n",
      "last_h : 4\n",
      "last_r : 6\n",
      "c_hyp : _치\n",
      "c_ref : _치\n",
      "ref_norm : ['킨', '_치']\n",
      "hyp_norm : ['킨', '_치']\n",
      "while start *****\n",
      "ref_nospace[r-1] : 념\n",
      "hyp_nospace[h-1] : 제\n",
      "last_h : 4\n",
      "last_r : 5\n",
      "c_hyp : \n",
      "c_ref : 념\n",
      "ref_norm : ['킨', '_치', '념']\n",
      "hyp_norm : ['킨', '_치', '']\n",
      "while start *****\n",
      "ref_nospace[r-1] : 양\n",
      "hyp_nospace[h-1] : 제\n",
      "last_h : 4\n",
      "last_r : 4\n",
      "c_hyp : \n",
      "c_ref : _양\n",
      "ref_norm : ['킨', '_치', '념', '_양']\n",
      "hyp_norm : ['킨', '_치', '', '']\n",
      "while start *****\n",
      "ref_nospace[r-1] : 제\n",
      "hyp_nospace[h-1] : 제\n",
      "last_h : 3\n",
      "last_r : 3\n",
      "c_hyp : 제\n",
      "c_ref : 제\n",
      "ref_norm : ['킨', '_치', '념', '_양', '제']\n",
      "hyp_norm : ['킨', '_치', '', '', '제']\n",
      "while start *****\n",
      "ref_nospace[r-1] : 어\n",
      "hyp_nospace[h-1] : 어\n",
      "last_h : 2\n",
      "last_r : 2\n",
      "c_hyp : 어\n",
      "c_ref : _어\n",
      "ref_norm : ['킨', '_치', '념', '_양', '제', '_어']\n",
      "hyp_norm : ['킨', '_치', '', '', '제', '_어']\n",
      "while start *****\n",
      "ref_nospace[r-1] : 는\n",
      "hyp_nospace[h-1] : 는\n",
      "last_h : 1\n",
      "last_r : 1\n",
      "c_hyp : 는\n",
      "c_ref : 는\n",
      "ref_norm : ['킨', '_치', '념', '_양', '제', '_어', '는']\n",
      "hyp_norm : ['킨', '_치', '', '', '제', '_어', '는']\n",
      "while start *****\n",
      "ref_nospace[r-1] : 나\n",
      "hyp_nospace[h-1] : 나\n",
      "last_h : 0\n",
      "last_r : 0\n",
      "c_hyp : 나\n",
      "c_ref : 나\n",
      "ref_norm : ['킨', '_치', '념', '_양', '제', '_어', '는', '나']\n",
      "hyp_norm : ['킨', '_치', '', '', '제', '_어', '는', '나']\n"
     ]
    }
   ],
   "source": [
    "ref_n, hyp_n = get_norm_text(ref, hyp)"
   ]
  },
  {
   "cell_type": "code",
   "execution_count": 18,
   "metadata": {},
   "outputs": [
    {
     "data": {
      "text/plain": [
       "['나', '는', '_어', '제', '', '', '_치', '킨']"
      ]
     },
     "execution_count": 18,
     "metadata": {},
     "output_type": "execute_result"
    }
   ],
   "source": [
    "hyp_n"
   ]
  },
  {
   "cell_type": "code",
   "execution_count": 19,
   "metadata": {},
   "outputs": [
    {
     "data": {
      "text/plain": [
       "['나', '는', '_어', '제', '_양', '념', '_치', '킨']"
      ]
     },
     "execution_count": 19,
     "metadata": {},
     "output_type": "execute_result"
    }
   ],
   "source": [
    "ref_n"
   ]
  },
  {
   "cell_type": "code",
   "execution_count": 21,
   "metadata": {},
   "outputs": [
    {
     "data": {
      "text/plain": [
       "'나는_어제_치킨'"
      ]
     },
     "execution_count": 21,
     "metadata": {},
     "output_type": "execute_result"
    }
   ],
   "source": [
    "result = ''.join(map(str, hyp_n))\n",
    "result"
   ]
  },
  {
   "cell_type": "code",
   "execution_count": 8,
   "metadata": {},
   "outputs": [
    {
     "name": "stdout",
     "output_type": "stream",
     "text": [
      "나는 어제 양념 치킨을 먹었다\n"
     ]
    }
   ],
   "source": [
    "# map(function, iterable)\n",
    "# '구분자'.join(리스트)\n",
    "\n",
    "result = ''.join(map(str, ref_n)).replace('_', ' ')\n",
    "print(result)"
   ]
  },
  {
   "cell_type": "code",
   "execution_count": 9,
   "metadata": {},
   "outputs": [
    {
     "name": "stdout",
     "output_type": "stream",
     "text": [
      "나는 어제 치킨을 먹었다\n"
     ]
    }
   ],
   "source": [
    "result = ''.join(map(str, hyp_n)).replace('_', ' ')\n",
    "print(result)"
   ]
  },
  {
   "cell_type": "code",
   "execution_count": null,
   "metadata": {},
   "outputs": [],
   "source": []
  },
  {
   "cell_type": "code",
   "execution_count": 22,
   "metadata": {},
   "outputs": [],
   "source": [
    "def get_swords(ref , hyp):\n",
    "    refs = char_tokenizer(ref)\n",
    "    hyps = char_tokenizer(hyp)\n",
    "    ref_nospace = ref.replace(' ', '')\n",
    "    hyp_nospace = hyp.replace(' ', '')\n",
    "    rlen = len(refs)\n",
    "    hlen = len(hyps)\n",
    "    scores =  np.zeros((hlen+1, rlen+1), dtype=np.int32)\n",
    "\n",
    "    # initialize, 공란을 무시하고 음절의 거리 매트릭스 만들기\n",
    "    for r in range(rlen+1):\n",
    "        scores[0, r] = r\n",
    "    for h in range(1, hlen+1):\n",
    "        scores[h, 0] = scores[h-1, 0] + 1\n",
    "        for r in range(1, rlen+1):\n",
    "            sub_or_cor = scores[h-1, r-1] + (0 if ref_nospace[r-1] == hyp_nospace[h-1] else 1)\n",
    "            insert = scores[h-1, r] + 1\n",
    "            delete = scores[h, r-1] + 1\n",
    "            scores[h, r] = min(sub_or_cor, insert, delete)\n",
    "\n",
    "    # traceback and compute alignment\n",
    "    h, r = hlen, rlen\n",
    "    ref_norm, hyp_norm = [], []\n",
    "\n",
    "    while r > 0 or h > 0:\n",
    "        if h == 0:\n",
    "            last_r = r - 1\n",
    "        elif r == 0:\n",
    "            last_h = h - 1\n",
    "            last_r = r\n",
    "        else:\n",
    "            sub_or_cor = scores[h-1, r-1] + (0 if ref_nospace[r-1] == hyp_nospace[h-1] else 1)\n",
    "            insert = scores[h-1, r] + 1\n",
    "            delete = scores[h, r-1] + 1\n",
    "\n",
    "            if sub_or_cor < min(insert, delete):\n",
    "                last_h, last_r = h - 1, r - 1\n",
    "            else:\n",
    "                last_h, last_r = (h-1, r) if insert < delete else (h, r-1)\n",
    "\n",
    "            c_hyp = hyps[last_h] if last_h == h-1 else ''\n",
    "            c_ref = refs[last_r] if last_r == r-1 else ''\n",
    "            h, r = last_h, last_r\n",
    "\n",
    "            # do word-spacing normalization\n",
    "            if c_hyp.replace('_', '') == c_ref.replace('_', ''):\n",
    "                c_hyp = c_ref\n",
    "\n",
    "        ref_norm.append(c_ref)\n",
    "        hyp_norm.append(c_hyp)\n",
    "\n",
    "    # ref_norm[::-1], hyp_norm[::-1]\n",
    "    shyp = ''.join(map(str, hyp_norm[::-1])).replace('_', ' ')\n",
    "    return shyp"
   ]
  },
  {
   "cell_type": "code",
   "execution_count": 28,
   "metadata": {},
   "outputs": [],
   "source": [
    "ref = '나는 어제 양념치킨을 먹었다' # 양념 이란 단어가 ref에만 있으므로 처리에 문제가 있다. \n",
    "hyp = '나는어제  치킨을먹었다'\n",
    "\n",
    "# hyp = '나는 어제 양념 치킨을 먹었다' # 양념 이란 단어가 ref에만 있으므로 처리에 문제가 있다. \n",
    "# ref = '나는어제  치킨을먹었다'"
   ]
  },
  {
   "cell_type": "code",
   "execution_count": 29,
   "metadata": {},
   "outputs": [
    {
     "data": {
      "text/plain": [
       "'나는 어제치킨을 먹었다'"
      ]
     },
     "execution_count": 29,
     "metadata": {},
     "output_type": "execute_result"
    }
   ],
   "source": [
    "get_swords(ref, hyp)"
   ]
  },
  {
   "cell_type": "code",
   "execution_count": 24,
   "metadata": {},
   "outputs": [
    {
     "data": {
      "text/plain": [
       "'나는 어제 치킨을 먹었다'"
      ]
     },
     "execution_count": 24,
     "metadata": {},
     "output_type": "execute_result"
    }
   ],
   "source": [
    "get_swords(ref, hyp)"
   ]
  },
  {
   "cell_type": "code",
   "execution_count": 42,
   "metadata": {},
   "outputs": [
    {
     "data": {
      "text/plain": [
       "['나는어제', '치킨을먹었다']"
      ]
     },
     "execution_count": 42,
     "metadata": {},
     "output_type": "execute_result"
    }
   ],
   "source": [
    "hyp.split()"
   ]
  },
  {
   "cell_type": "code",
   "execution_count": 43,
   "metadata": {},
   "outputs": [],
   "source": [
    "ref_list = ref.split()\n",
    "hyp_list = hyp.split()"
   ]
  },
  {
   "cell_type": "code",
   "execution_count": 44,
   "metadata": {},
   "outputs": [
    {
     "data": {
      "text/plain": [
       "['나는어제', '치킨을먹었다']"
      ]
     },
     "execution_count": 44,
     "metadata": {},
     "output_type": "execute_result"
    }
   ],
   "source": [
    "hyp_list"
   ]
  },
  {
   "cell_type": "code",
   "execution_count": 10,
   "metadata": {},
   "outputs": [
    {
     "name": "stdout",
     "output_type": "stream",
     "text": [
      "['잔', '칫', '날', '_아', '칙', '에', '_신', '랑', '이', '_새', '각', '시', '_돌', '레', '_오', '민', '_새', '각', '신', '_고', '부', '랑', '건', '지', '_허', '곡', '_가', '메', '_탕', '_신', '랑', '_집', '이', '_갓', '어']\n"
     ]
    }
   ],
   "source": [
    "# 음절 단위 토큰화, 빈칸을 _로 표시\n",
    "\n",
    "def list_tokenizer(l):\n",
    "    '''\n",
    "    단어들의 리스트를 문자들의 리스트로 만든다. 이 때 단어의 맨 앞의 문자에는 밑줄(_)을 붙인다.\n",
    "\n",
    "    Arguments\n",
    "    ---------\n",
    "    l : list\n",
    "        단어(문자열)들의 리스트\n",
    "\n",
    "    Retrun\n",
    "    ---------\n",
    "    result : list\n",
    "        단어(문자열)들의 리스트\n",
    "    '''\n",
    "    result = []\n",
    "    flag = False\n",
    "    for word in l:\n",
    "        result.append('_' + word[0])\n",
    "        result.extend(list(word[1:]))\n",
    "\n",
    "    result[0] = result[0].replace('_', '')\n",
    "    return result\n",
    "\n",
    "target_word = ['잔칫날', '아칙에', '신랑이', '새각시', '돌레', '오민', '새각신', '고부랑건지', '허곡', '가메', '탕', '신랑', '집이', '갓어']\n",
    "print(list_tokenizer(target_word))"
   ]
  },
  {
   "cell_type": "code",
   "execution_count": 37,
   "metadata": {},
   "outputs": [],
   "source": [
    "def space_normalize_lists(ref_list, hyp_list):\n",
    "    '''\n",
    "    두 개의 단어들의 리스트를 비교하여 띄어쓰기를 맞추어 준다.(space normalize)\n",
    "    ref_list를 기준으로 hyp_list의 띄어쓰기를 맞춘다.\n",
    "\n",
    "    Arguments\n",
    "    ---------\n",
    "    ref_list : list\n",
    "        단어(문자열)들의 리스트\n",
    "        이 리스트를 기준으로 hyp_list의 띄어쓰기를 맞춘다.\n",
    "    hyp_list : list\n",
    "        단어(문자열)들의 리스트\n",
    "\n",
    "    Retrun\n",
    "    ---------\n",
    "    result : list\n",
    "        ref_list에 띄어쓰기를 맞춘 hyp_list의 리스트\n",
    "    '''\n",
    "\n",
    "    ref_nospace = ''.join(ref_list)\n",
    "    hyp_nospace = ''.join(hyp_list)\n",
    "    # print(f'ref_nospace : {ref_nospace}')\n",
    "    # print(f'hyp_nospace : {hyp_nospace}')\n",
    "\n",
    "    refs = list_tokenizer(ref_list)\n",
    "    hyps = list_tokenizer(hyp_list)\n",
    "    # print(f'refs : {refs}')\n",
    "    # print(f'hyps : {hyps}')\n",
    "\n",
    "    rlen = len(refs)\n",
    "    hlen = len(hyps)\n",
    "    scores =  np.zeros((hlen+1, rlen+1), dtype=np.int32)\n",
    "\n",
    "\n",
    "    # initialize, 공란을 무시하고 음절의 거리 매트릭스 만들기\n",
    "    for r in range(rlen+1):\n",
    "        scores[0, r] = r\n",
    "    for h in range(1, hlen+1):\n",
    "        scores[h, 0] = scores[h-1, 0] + 1\n",
    "        for r in range(1, rlen+1):\n",
    "            sub_or_cor = scores[h-1, r-1] + (0 if ref_nospace[r-1] == hyp_nospace[h-1] else 1)\n",
    "            insert = scores[h-1, r] + 1\n",
    "            delete = scores[h, r-1] + 1\n",
    "            scores[h, r] = min(sub_or_cor, insert, delete)\n",
    "    \n",
    "    # print(f'lev scores--------------------------')\n",
    "    # print(scores)\n",
    "\n",
    "    \n",
    "    # traceback and compute alignment\n",
    "    h, r = hlen, rlen\n",
    "    ref_norm, hyp_norm = [], []\n",
    "\n",
    "    while r > 0 or h > 0:\n",
    "        if h == 0:\n",
    "            last_r = r - 1\n",
    "        elif r == 0:\n",
    "            last_h = h - 1\n",
    "            last_r = r\n",
    "        else:\n",
    "            sub_or_cor = scores[h-1, r-1] + (0 if ref_nospace[r-1] == hyp_nospace[h-1] else 1)\n",
    "            insert = scores[h-1, r] + 1\n",
    "            delete = scores[h, r-1] + 1\n",
    "\n",
    "            if sub_or_cor < min(insert, delete):\n",
    "                last_h, last_r = h - 1, r - 1\n",
    "            else:\n",
    "                last_h, last_r = (h-1, r) if insert < delete else (h, r-1)\n",
    "\n",
    "            c_hyp = hyps[last_h] if last_h == h-1 else ''\n",
    "            c_ref = refs[last_r] if last_r == r-1 else ''\n",
    "            h, r = last_h, last_r\n",
    "\n",
    "            # do word-spacing normalization\n",
    "            if c_hyp.replace('_', '') == c_ref.replace('_', ''):\n",
    "                c_hyp = c_ref\n",
    "\n",
    "        ref_norm.append(c_ref)\n",
    "        hyp_norm.append(c_hyp)\n",
    "\n",
    "    while '' in ref_norm:\n",
    "        ref_norm.remove('')\n",
    "    while '' in hyp_norm:\n",
    "        hyp_norm.remove('')\n",
    "    # print(f'norm--------------------------')\n",
    "    # print(f'ref_norm : {ref_norm[::-1]}')\n",
    "    # print(f'hyp_norm : {hyp_norm[::-1]}')\n",
    "\n",
    "    return hyp_norm[::-1]\n",
    "\n",
    "    "
   ]
  },
  {
   "cell_type": "code",
   "execution_count": 35,
   "metadata": {},
   "outputs": [
    {
     "name": "stdout",
     "output_type": "stream",
     "text": [
      "['나는', '어제', '양념치킨을', '먹었다']\n",
      "['나는어제', '치킨을먹었다']\n"
     ]
    }
   ],
   "source": [
    "ref = '나는 어제 양념치킨을 먹었다' # 양념 이란 단어가 ref에만 있으므로 처리에 문제가 있다. \n",
    "hyp = '나는어제  치킨을먹었다'\n",
    "\n",
    "ref_list = ref.split()\n",
    "hyp_list = hyp.split()\n",
    "\n",
    "print(ref_list)\n",
    "print(hyp_list)"
   ]
  },
  {
   "cell_type": "code",
   "execution_count": 38,
   "metadata": {},
   "outputs": [
    {
     "data": {
      "text/plain": [
       "['나', '는', '_어', '제', '치', '킨', '을', '_먹', '었', '다']"
      ]
     },
     "execution_count": 38,
     "metadata": {},
     "output_type": "execute_result"
    }
   ],
   "source": [
    "space_normalize_lists(ref_list, hyp_list)"
   ]
  },
  {
   "cell_type": "code",
   "execution_count": null,
   "metadata": {},
   "outputs": [],
   "source": [
    "file_name = 'hyp_label.csv'\n",
    "hyp_label_df = pd.read_csv(file_name)"
   ]
  },
  {
   "cell_type": "code",
   "execution_count": null,
   "metadata": {},
   "outputs": [],
   "source": [
    "_, hyp_label_df['hyp_n'] = get_norm_text(hyp_label_df['wrd'], hyp_label_df['hyp'])"
   ]
  },
  {
   "cell_type": "code",
   "execution_count": null,
   "metadata": {},
   "outputs": [],
   "source": [
    "hyp_label_df"
   ]
  },
  {
   "cell_type": "code",
   "execution_count": null,
   "metadata": {},
   "outputs": [],
   "source": [
    "pd.options.display.max_rows = 100"
   ]
  },
  {
   "cell_type": "code",
   "execution_count": null,
   "metadata": {},
   "outputs": [],
   "source": [
    "print(hyp_label_df['hyp_n'])"
   ]
  },
  {
   "cell_type": "code",
   "execution_count": null,
   "metadata": {},
   "outputs": [],
   "source": [
    "hyp_label_df['hyp_s'] = ''.join(map(str, hyp_label_df['hyp_n'])).replace('_', ' ')"
   ]
  },
  {
   "cell_type": "code",
   "execution_count": null,
   "metadata": {},
   "outputs": [],
   "source": [
    "(hyp_label_df['hyp_n']).replace('_', ' ')"
   ]
  },
  {
   "cell_type": "code",
   "execution_count": null,
   "metadata": {},
   "outputs": [],
   "source": [
    "wer_test = wer_details_for_batch(hyp_label_df['spk_id'], hyp_label_df['wrd'], hyp_label_df['hyp'])\n",
    "wer_list = [i['WER'] for i in wer_test]"
   ]
  },
  {
   "cell_type": "code",
   "execution_count": null,
   "metadata": {},
   "outputs": [],
   "source": [
    "hyp_label_df['wer'] = wer_list"
   ]
  },
  {
   "cell_type": "code",
   "execution_count": null,
   "metadata": {},
   "outputs": [],
   "source": [
    "hyp_label_df"
   ]
  },
  {
   "cell_type": "code",
   "execution_count": null,
   "metadata": {},
   "outputs": [],
   "source": [
    "# sWER 구현하기"
   ]
  },
  {
   "cell_type": "code",
   "execution_count": 31,
   "metadata": {},
   "outputs": [],
   "source": [
    "predicted_words = [['그', '이제', '그', '이제', '그', '이제', '그', '이제', '그', '이제', '그', '이제', '그', '이제', '그', '이제', '그', '이제', '그', '이제', '그', '이제', '그', '이제', '그', '이제', '그', '이제', '이제', '그', '이제', '그', '이제', '그', '이제', '그', '이제', '그', '이제', '그', '이제', '그', '이제', '그', '이제', '그', '이제', '그']]\n",
    "batch_wrd = ['잔칫날 아칙에 신랑이 새각시 돌레 오민 새각신 고부랑건지 허곡 가메 탕 신랑 집이 갓어']\n",
    "target_words = [['잔칫날', '아칙에', '신랑이', '새각시', '돌레', '오민', '새각신', '고부랑건지', '허곡', '가메', '탕', '신랑', '집이', '갓어']]"
   ]
  },
  {
   "cell_type": "code",
   "execution_count": 33,
   "metadata": {},
   "outputs": [],
   "source": [
    "predicted_word = predicted_words[0]\n",
    "underbar_prepended = ['_' + s for s in predicted_word]"
   ]
  },
  {
   "cell_type": "code",
   "execution_count": 35,
   "metadata": {},
   "outputs": [
    {
     "data": {
      "text/plain": [
       "'_그'"
      ]
     },
     "execution_count": 35,
     "metadata": {},
     "output_type": "execute_result"
    }
   ],
   "source": [
    "underbar_prepended[2]"
   ]
  },
  {
   "cell_type": "code",
   "execution_count": 46,
   "metadata": {},
   "outputs": [
    {
     "data": {
      "text/plain": [
       "'잔칫날아칙에신랑이새각시돌레오민새각신고부랑건지허곡가메탕신랑집이갓어'"
      ]
     },
     "execution_count": 46,
     "metadata": {},
     "output_type": "execute_result"
    }
   ],
   "source": [
    "# shyp = ''.join(map(str, hyp_norm[::-1])).replace('_', ' ')\n",
    "''.join(map(str, target_words[0]))"
   ]
  },
  {
   "cell_type": "code",
   "execution_count": 41,
   "metadata": {},
   "outputs": [
    {
     "name": "stdout",
     "output_type": "stream",
     "text": [
      "0, 1.2\n",
      "1, 2.5\n",
      "2, 3.7\n",
      "3, 4.6\n"
     ]
    }
   ],
   "source": [
    "a = [1.2, 2.5, 3.7, 4.6]\n",
    "# a = list(map(int, a))\n",
    "a\n",
    "for i, v in enumerate(a):\n",
    "    print(f'{i}, {v}')\n"
   ]
  },
  {
   "cell_type": "code",
   "execution_count": 42,
   "metadata": {},
   "outputs": [
    {
     "data": {
      "text/plain": [
       "2.5"
      ]
     },
     "execution_count": 42,
     "metadata": {},
     "output_type": "execute_result"
    }
   ],
   "source": [
    "a[1]"
   ]
  },
  {
   "cell_type": "code",
   "execution_count": 48,
   "metadata": {},
   "outputs": [
    {
     "data": {
      "text/plain": [
       "<map at 0x7fd300328eb0>"
      ]
     },
     "execution_count": 48,
     "metadata": {},
     "output_type": "execute_result"
    }
   ],
   "source": [
    "map(int, a)"
   ]
  },
  {
   "cell_type": "code",
   "execution_count": 49,
   "metadata": {},
   "outputs": [
    {
     "data": {
      "text/plain": [
       "'잔칫날아칙에신랑이새각시돌레오민새각신고부랑건지허곡가메탕신랑집이갓어'"
      ]
     },
     "execution_count": 49,
     "metadata": {},
     "output_type": "execute_result"
    }
   ],
   "source": [
    "''.join(target_words[0])"
   ]
  },
  {
   "cell_type": "code",
   "execution_count": null,
   "metadata": {},
   "outputs": [],
   "source": []
  }
 ],
 "metadata": {
  "kernelspec": {
   "display_name": "base",
   "language": "python",
   "name": "python3"
  },
  "language_info": {
   "codemirror_mode": {
    "name": "ipython",
    "version": 3
   },
   "file_extension": ".py",
   "mimetype": "text/x-python",
   "name": "python",
   "nbconvert_exporter": "python",
   "pygments_lexer": "ipython3",
   "version": "3.8.12"
  },
  "orig_nbformat": 4,
  "vscode": {
   "interpreter": {
    "hash": "d4d1e4263499bec80672ea0156c357c1ee493ec2b1c70f0acce89fc37c4a6abe"
   }
  }
 },
 "nbformat": 4,
 "nbformat_minor": 2
}
