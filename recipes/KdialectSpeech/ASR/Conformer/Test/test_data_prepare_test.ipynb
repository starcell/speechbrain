{
 "cells": [
  {
   "cell_type": "code",
   "execution_count": 3,
   "metadata": {},
   "outputs": [],
   "source": [
    "from pathlib import Path"
   ]
  },
  {
   "cell_type": "code",
   "execution_count": 4,
   "metadata": {},
   "outputs": [],
   "source": [
    "DATA_DIR = Path(\"/data/nia\")"
   ]
  },
  {
   "cell_type": "code",
   "execution_count": 5,
   "metadata": {},
   "outputs": [],
   "source": [
    "\n",
    "WAV_DIR_DIC = {\n",
    "    \"gw\": DATA_DIR / \"139-1.중·노년층 한국어 방언 데이터 (강원도, 경상도)\" / \"07.보완조치\" / \"01.보완완료\" / \"01.원천데이터\" / \"01. 강원도\",\n",
    "    \"gs\": DATA_DIR / \"139-1.중·노년층 한국어 방언 데이터 (강원도, 경상도)\" / \"07.보완조치\" / \"01.보완완료\" / \"01.원천데이터\" / \"03. 경상도\",\n",
    "    \"cc\": DATA_DIR / \"139-2.중·노년층 한국어 방언 데이터 (충청도, 전라도, 제주도)\" / \"07.보완조치\" / \"01.보완완료\" / \"01.원천데이터\" / \"01. 충청도\",\n",
    "    \"jl\": DATA_DIR / \"139-2.중·노년층 한국어 방언 데이터 (충청도, 전라도, 제주도)\" / \"07.보완조치\" / \"01.보완완료\" / \"01.원천데이터\" / \"02. 전라도\",\n",
    "    \"jj\": DATA_DIR / \"139-2.중·노년층 한국어 방언 데이터 (충청도, 전라도, 제주도)\" / \"07.보완조치\" / \"01.보완완료\" / \"01.원천데이터\" / \"03. 제주도\"\n",
    "}"
   ]
  },
  {
   "cell_type": "code",
   "execution_count": 9,
   "metadata": {},
   "outputs": [],
   "source": [
    "province_code = \"cc\""
   ]
  },
  {
   "cell_type": "code",
   "execution_count": 10,
   "metadata": {},
   "outputs": [],
   "source": [
    "wav_dir = WAV_DIR_DIC[province_code]"
   ]
  },
  {
   "cell_type": "code",
   "execution_count": 11,
   "metadata": {},
   "outputs": [
    {
     "data": {
      "text/plain": [
       "PosixPath('/data/nia/139-2.중·노년층 한국어 방언 데이터 (충청도, 전라도, 제주도)/07.보완조치/01.보완완료/01.원천데이터/01. 충청도')"
      ]
     },
     "execution_count": 11,
     "metadata": {},
     "output_type": "execute_result"
    }
   ],
   "source": [
    "wav_dir"
   ]
  }
 ],
 "metadata": {
  "kernelspec": {
   "display_name": "base",
   "language": "python",
   "name": "python3"
  },
  "language_info": {
   "codemirror_mode": {
    "name": "ipython",
    "version": 3
   },
   "file_extension": ".py",
   "mimetype": "text/x-python",
   "name": "python",
   "nbconvert_exporter": "python",
   "pygments_lexer": "ipython3",
   "version": "3.8.12"
  },
  "orig_nbformat": 4
 },
 "nbformat": 4,
 "nbformat_minor": 2
}
