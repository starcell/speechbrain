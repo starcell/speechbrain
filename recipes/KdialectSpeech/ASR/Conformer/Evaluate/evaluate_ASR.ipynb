{
 "cells": [
  {
   "cell_type": "code",
   "execution_count": null,
   "metadata": {},
   "outputs": [],
   "source": [
    "import os\n",
    "import IPython.display as ipd\n",
    "from speechbrain.pretrained import EncoderDecoderASR"
   ]
  },
  {
   "cell_type": "code",
   "execution_count": null,
   "metadata": {},
   "outputs": [],
   "source": [
    "model_dir = \"/workspace/speechbrain/recipes/KdialectSpeech/ASR/Conformer/Inference/pretrained-model-src\""
   ]
  },
  {
   "cell_type": "code",
   "execution_count": null,
   "metadata": {},
   "outputs": [],
   "source": [
    "# ### 강원도\n",
    "# province_code = \"gw\"\n",
    "# source = os.path.join(model_dir, province_code)\n",
    "# savedir = os.path.join(\"savedir\", province_code)\n",
    "# os.makedirs(savedir, exist_ok=True)\n",
    "# test_audio_file = \"/data/aidata/sentence/139-1.중·노년층 한국어 방언 데이터 (강원도, 경상도)/06.품질검증/1.Dataset/1.원천데이터/01. 강원도/01. 1인발화 따라말하기/st_set1_collectorgw191_speakergw1753_30_13-0.wav\"\n",
    "# ### 정답(방언전사) : 텔레비에 보니까 스테비아라는 거이 나왔다던데 그거이 뭐 들크무리한게 좋아하는 사램덜이 설탕 대신 먹는 거래요\n",
    "\n",
    "# ## 경상도\n",
    "# province_code = \"gs\"\n",
    "# source = os.path.join(model_dir, province_code)\n",
    "# savedir = os.path.join(\"savedir\", province_code)\n",
    "# os.makedirs(savedir, exist_ok=True)\n",
    "# test_audio_file = \"/data/aidata/sentence/139-1.중·노년층 한국어 방언 데이터 (강원도, 경상도)/06.품질검증/1.Dataset/1.원천데이터/02. 경상도/03. 2인발화/talk_set3_collectorgs185_speakergs1482_speakergs1483_22_0_102-10.wav\"\n",
    "# ## 정답(방언전사) : 뭐 또 다른 거 뭐 큰 거 저 저 뭐 고기 사가주고 또 뭐 저 고등어 거튼 거는 사가와가 간절해가 먹기도 하고 그렇게 합니다\n",
    "\n",
    "# ### 충청도\n",
    "# province_code = \"cc\"\n",
    "# source = os.path.join(model_dir, province_code)\n",
    "# savedir = os.path.join(\"savedir\", province_code)\n",
    "# os.makedirs(savedir, exist_ok=True)\n",
    "# test_audio_file = \"/data/aidata/sentence/139-2.중·노년층 한국어 방언 데이터 (충청도, 전라도, 제주도)/06.품질검증/1.Dataset/1.원천데이터/01. 충청도/03. 2인발화/talk_set1_collectorcc113_speakercc1597_speakercc1598_8_18_11-0.wav\"\n",
    "# ### 정답(방언전사) : 손자 지집아 낳고는 하도 이쁘고 막 그래서 그거들 기냥 헤 어려서는 돈도 마이 주고 뭐 사주라고 하고 왔는디 지금은 그냥 인젠 똑같이 기냥 똑같이 줘\n",
    "\n",
    "# ### 전라도\n",
    "# province_code = \"jl\"\n",
    "# source = os.path.join(model_dir, province_code)\n",
    "# savedir = os.path.join(\"savedir\", province_code)\n",
    "# os.makedirs(savedir, exist_ok=True)\n",
    "# test_audio_file = \"/data/aidata/sentence/139-2.중·노년층 한국어 방언 데이터 (충청도, 전라도, 제주도)/06.품질검증/1.Dataset/1.원천데이터/02. 전라도/02. 1인발화 질문에답하기/say_set1_collectorjl73_speakerjl1386_33_0_35-3.wav\"\n",
    "# ### 정답(방언전사) : 한 이 년 정도 되았고 올해도 갈라 했더니 수가 차갖고 뭐 그 관광차에서 하니까 그 내장사하고 거시기 저 백양사는 그 차 갈란다 해먼은 사람이 차불어\n",
    "\n",
    "### 제주도\n",
    "province_code = \"jj\"\n",
    "source = os.path.join(model_dir, province_code)\n",
    "savedir = os.path.join(\"savedir\", province_code)\n",
    "os.makedirs(savedir, exist_ok=True)\n",
    "test_audio_file = \"/data/aidata/sentence/139-2.중·노년층 한국어 방언 데이터 (충청도, 전라도, 제주도)/06.품질검증/1.Dataset/1.원천데이터/03. 제주도/01. 1인발화 따라말하기/st_set1_collectorjj87_speakerjj567_8_5-0.wav\"\n",
    "### 정답(방언전사) : 하르방 고만이 싯당 무슨 거렁청한 소릴 햄수과\n"
   ]
  },
  {
   "cell_type": "code",
   "execution_count": null,
   "metadata": {},
   "outputs": [],
   "source": [
    "ipd.Audio(test_audio_file) # load a local WAV file"
   ]
  },
  {
   "cell_type": "code",
   "execution_count": null,
   "metadata": {},
   "outputs": [],
   "source": [
    "asr_model = EncoderDecoderASR.from_hparams(\n",
    "    source=source, \n",
    "    savedir=savedir,\n",
    "    # run_opts={\"device\": \"cuda\"}\n",
    "    )\n",
    "\n",
    "trs = asr_model.transcribe_file(test_audio_file)\n",
    "trs"
   ]
  },
  {
   "cell_type": "code",
   "execution_count": null,
   "metadata": {},
   "outputs": [],
   "source": []
  }
 ],
 "metadata": {
  "kernelspec": {
   "display_name": "base",
   "language": "python",
   "name": "python3"
  },
  "language_info": {
   "codemirror_mode": {
    "name": "ipython",
    "version": 3
   },
   "file_extension": ".py",
   "mimetype": "text/x-python",
   "name": "python",
   "nbconvert_exporter": "python",
   "pygments_lexer": "ipython3",
   "version": "3.8.12"
  },
  "orig_nbformat": 4
 },
 "nbformat": 4,
 "nbformat_minor": 2
}
