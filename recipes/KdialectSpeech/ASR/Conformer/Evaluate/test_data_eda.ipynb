{
 "cells": [
  {
   "cell_type": "code",
   "execution_count": 1,
   "metadata": {},
   "outputs": [
    {
     "name": "stderr",
     "output_type": "stream",
     "text": [
      "Duplicate key in file PosixPath('/opt/conda/lib/python3.8/site-packages/matplotlib/mpl-data/matplotlibrc'), line 257 ('font.family: NanumGothic')\n"
     ]
    }
   ],
   "source": [
    "import numpy as np\n",
    "import pandas as pd\n",
    "import seaborn as sns\n",
    "import librosa\n",
    "from pathlib import Path"
   ]
  },
  {
   "cell_type": "code",
   "execution_count": 4,
   "metadata": {},
   "outputs": [],
   "source": [
    "# total\n",
    "data_file = '/workspace/speechbrain/recipes/KdialectSpeech/Prepare_data/data/total.csv'\n",
    "train_data_file = '/workspace/speechbrain/recipes/KdialectSpeech/Prepare_data/data/total_train.csv'\n",
    "test_data_file = '/workspace/speechbrain/recipes/KdialectSpeech/Prepare_data/data/total_test.csv'\n",
    "# test_data_file = '/workspace/speechbrain/recipes/KdialectSpeech/Prepare_data/data/total_test.csv'"
   ]
  },
  {
   "cell_type": "code",
   "execution_count": 5,
   "metadata": {},
   "outputs": [],
   "source": [
    "# data_df = pd.read_csv(data_file)\n",
    "test_data_df = pd.read_csv(test_data_file)"
   ]
  },
  {
   "cell_type": "code",
   "execution_count": 6,
   "metadata": {},
   "outputs": [
    {
     "name": "stdout",
     "output_type": "stream",
     "text": [
      "토탈 시간 합계 : 304.4873172222222\n"
     ]
    },
    {
     "data": {
      "text/html": [
       "<div>\n",
       "<style scoped>\n",
       "    .dataframe tbody tr th:only-of-type {\n",
       "        vertical-align: middle;\n",
       "    }\n",
       "\n",
       "    .dataframe tbody tr th {\n",
       "        vertical-align: top;\n",
       "    }\n",
       "\n",
       "    .dataframe thead th {\n",
       "        text-align: right;\n",
       "    }\n",
       "</style>\n",
       "<table border=\"1\" class=\"dataframe\">\n",
       "  <thead>\n",
       "    <tr style=\"text-align: right;\">\n",
       "      <th></th>\n",
       "      <th>duration</th>\n",
       "    </tr>\n",
       "  </thead>\n",
       "  <tbody>\n",
       "    <tr>\n",
       "      <th>count</th>\n",
       "      <td>135704.000000</td>\n",
       "    </tr>\n",
       "    <tr>\n",
       "      <th>mean</th>\n",
       "      <td>8.077539</td>\n",
       "    </tr>\n",
       "    <tr>\n",
       "      <th>std</th>\n",
       "      <td>6.582246</td>\n",
       "    </tr>\n",
       "    <tr>\n",
       "      <th>min</th>\n",
       "      <td>0.100000</td>\n",
       "    </tr>\n",
       "    <tr>\n",
       "      <th>25%</th>\n",
       "      <td>3.930000</td>\n",
       "    </tr>\n",
       "    <tr>\n",
       "      <th>50%</th>\n",
       "      <td>6.526000</td>\n",
       "    </tr>\n",
       "    <tr>\n",
       "      <th>75%</th>\n",
       "      <td>10.010000</td>\n",
       "    </tr>\n",
       "    <tr>\n",
       "      <th>max</th>\n",
       "      <td>190.459000</td>\n",
       "    </tr>\n",
       "  </tbody>\n",
       "</table>\n",
       "</div>"
      ],
      "text/plain": [
       "            duration\n",
       "count  135704.000000\n",
       "mean        8.077539\n",
       "std         6.582246\n",
       "min         0.100000\n",
       "25%         3.930000\n",
       "50%         6.526000\n",
       "75%        10.010000\n",
       "max       190.459000"
      ]
     },
     "execution_count": 6,
     "metadata": {},
     "output_type": "execute_result"
    }
   ],
   "source": [
    "print(f'test 시간 합계 : {test_data_df.duration.sum()/3600}')\n",
    "test_data_df.describe()"
   ]
  },
  {
   "cell_type": "code",
   "execution_count": 7,
   "metadata": {},
   "outputs": [],
   "source": [
    "# 강원\n",
    "gw_data_file = '/workspace/speechbrain/recipes/KdialectSpeech/Prepare_data/data/gw.csv'\n",
    "gw_test_data_file = '/workspace/speechbrain/recipes/KdialectSpeech/Prepare_data/data/gw_test.csv'"
   ]
  },
  {
   "cell_type": "code",
   "execution_count": 8,
   "metadata": {},
   "outputs": [],
   "source": [
    "gw_data_df = pd.read_csv(gw_data_file)\n",
    "gw_test_data_df = pd.read_csv(gw_test_data_file)"
   ]
  },
  {
   "cell_type": "code",
   "execution_count": 10,
   "metadata": {},
   "outputs": [
    {
     "name": "stdout",
     "output_type": "stream",
     "text": [
      "test 시간 합계 : 54.423626944444436\n"
     ]
    },
    {
     "data": {
      "text/html": [
       "<div>\n",
       "<style scoped>\n",
       "    .dataframe tbody tr th:only-of-type {\n",
       "        vertical-align: middle;\n",
       "    }\n",
       "\n",
       "    .dataframe tbody tr th {\n",
       "        vertical-align: top;\n",
       "    }\n",
       "\n",
       "    .dataframe thead th {\n",
       "        text-align: right;\n",
       "    }\n",
       "</style>\n",
       "<table border=\"1\" class=\"dataframe\">\n",
       "  <thead>\n",
       "    <tr style=\"text-align: right;\">\n",
       "      <th></th>\n",
       "      <th>duration</th>\n",
       "    </tr>\n",
       "  </thead>\n",
       "  <tbody>\n",
       "    <tr>\n",
       "      <th>count</th>\n",
       "      <td>22979.000000</td>\n",
       "    </tr>\n",
       "    <tr>\n",
       "      <th>mean</th>\n",
       "      <td>8.526266</td>\n",
       "    </tr>\n",
       "    <tr>\n",
       "      <th>std</th>\n",
       "      <td>7.200755</td>\n",
       "    </tr>\n",
       "    <tr>\n",
       "      <th>min</th>\n",
       "      <td>0.100000</td>\n",
       "    </tr>\n",
       "    <tr>\n",
       "      <th>25%</th>\n",
       "      <td>3.639000</td>\n",
       "    </tr>\n",
       "    <tr>\n",
       "      <th>50%</th>\n",
       "      <td>6.730000</td>\n",
       "    </tr>\n",
       "    <tr>\n",
       "      <th>75%</th>\n",
       "      <td>10.973000</td>\n",
       "    </tr>\n",
       "    <tr>\n",
       "      <th>max</th>\n",
       "      <td>96.039000</td>\n",
       "    </tr>\n",
       "  </tbody>\n",
       "</table>\n",
       "</div>"
      ],
      "text/plain": [
       "           duration\n",
       "count  22979.000000\n",
       "mean       8.526266\n",
       "std        7.200755\n",
       "min        0.100000\n",
       "25%        3.639000\n",
       "50%        6.730000\n",
       "75%       10.973000\n",
       "max       96.039000"
      ]
     },
     "execution_count": 10,
     "metadata": {},
     "output_type": "execute_result"
    }
   ],
   "source": [
    "print(f'test 시간 합계 : {gw_test_data_df.duration.sum()/3600}')\n",
    "gw_test_data_df.describe()"
   ]
  },
  {
   "cell_type": "code",
   "execution_count": 15,
   "metadata": {},
   "outputs": [
    {
     "data": {
      "text/html": [
       "<div>\n",
       "<style scoped>\n",
       "    .dataframe tbody tr th:only-of-type {\n",
       "        vertical-align: middle;\n",
       "    }\n",
       "\n",
       "    .dataframe tbody tr th {\n",
       "        vertical-align: top;\n",
       "    }\n",
       "\n",
       "    .dataframe thead th {\n",
       "        text-align: right;\n",
       "    }\n",
       "</style>\n",
       "<table border=\"1\" class=\"dataframe\">\n",
       "  <thead>\n",
       "    <tr style=\"text-align: right;\">\n",
       "      <th></th>\n",
       "      <th>ID</th>\n",
       "      <th>duration</th>\n",
       "      <th>wav</th>\n",
       "      <th>province_code</th>\n",
       "      <th>wrd</th>\n",
       "    </tr>\n",
       "  </thead>\n",
       "  <tbody>\n",
       "    <tr>\n",
       "      <th>18619</th>\n",
       "      <td>talk_set3_collectorgw77_speakergw2325_speakerg...</td>\n",
       "      <td>0.100</td>\n",
       "      <td>/data/MTDATA/fn-2-018/sentence/people/talk/gw/...</td>\n",
       "      <td>gw</td>\n",
       "      <td>응</td>\n",
       "    </tr>\n",
       "    <tr>\n",
       "      <th>17956</th>\n",
       "      <td>talk_set3_collectorgw78_speakergw2040_speakerg...</td>\n",
       "      <td>0.100</td>\n",
       "      <td>/data/MTDATA/fn-2-018/sentence/people/talk/gw/...</td>\n",
       "      <td>gw</td>\n",
       "      <td>응</td>\n",
       "    </tr>\n",
       "    <tr>\n",
       "      <th>7362</th>\n",
       "      <td>talk_set1_collectorgw226_speakergw2865_speaker...</td>\n",
       "      <td>0.100</td>\n",
       "      <td>/data/MTDATA/fn-2-018/sentence/people/talk/gw/...</td>\n",
       "      <td>gw</td>\n",
       "      <td>예</td>\n",
       "    </tr>\n",
       "    <tr>\n",
       "      <th>15497</th>\n",
       "      <td>talk_set1_collectorgw226_speakergw2850_speaker...</td>\n",
       "      <td>0.100</td>\n",
       "      <td>/data/MTDATA/fn-2-018/sentence/people/talk/gw/...</td>\n",
       "      <td>gw</td>\n",
       "      <td>예</td>\n",
       "    </tr>\n",
       "    <tr>\n",
       "      <th>9106</th>\n",
       "      <td>talk_set2_collectorgw94_speakergw1497_speakerg...</td>\n",
       "      <td>0.100</td>\n",
       "      <td>/data/MTDATA/fn-2-018/sentence/people/talk/gw/...</td>\n",
       "      <td>gw</td>\n",
       "      <td>어</td>\n",
       "    </tr>\n",
       "    <tr>\n",
       "      <th>...</th>\n",
       "      <td>...</td>\n",
       "      <td>...</td>\n",
       "      <td>...</td>\n",
       "      <td>...</td>\n",
       "      <td>...</td>\n",
       "    </tr>\n",
       "    <tr>\n",
       "      <th>4303</th>\n",
       "      <td>say_set1_collectorgw179_speakergw989_38_0_26-1</td>\n",
       "      <td>0.619</td>\n",
       "      <td>/data/MTDATA/fn-2-018/sentence/person/say/gw/c...</td>\n",
       "      <td>gw</td>\n",
       "      <td>그져</td>\n",
       "    </tr>\n",
       "    <tr>\n",
       "      <th>21747</th>\n",
       "      <td>say_set1_collectorgw130_speakergw1473_36_0_36-5</td>\n",
       "      <td>0.626</td>\n",
       "      <td>/data/MTDATA/fn-2-018/sentence/person/say/gw/c...</td>\n",
       "      <td>gw</td>\n",
       "      <td>엄마를 했잖아</td>\n",
       "    </tr>\n",
       "    <tr>\n",
       "      <th>22345</th>\n",
       "      <td>talk_set2_collectorgw88_speakergw415_speakergw...</td>\n",
       "      <td>0.626</td>\n",
       "      <td>/data/MTDATA/fn-2-018/sentence/people/talk/gw/...</td>\n",
       "      <td>gw</td>\n",
       "      <td>그래야 돼요 맞아</td>\n",
       "    </tr>\n",
       "    <tr>\n",
       "      <th>7399</th>\n",
       "      <td>talk_set3_collectorgw89_speakergw567_speakergw...</td>\n",
       "      <td>0.627</td>\n",
       "      <td>/data/MTDATA/fn-2-018/sentence/people/talk/gw/...</td>\n",
       "      <td>gw</td>\n",
       "      <td>그렇게 안 아파요</td>\n",
       "    </tr>\n",
       "    <tr>\n",
       "      <th>9813</th>\n",
       "      <td>say_set1_collectorgw82_speakergw683_39_0_26-2</td>\n",
       "      <td>0.630</td>\n",
       "      <td>/data/MTDATA/fn-2-018/sentence/person/say/gw/c...</td>\n",
       "      <td>gw</td>\n",
       "      <td>좀 그래요</td>\n",
       "    </tr>\n",
       "  </tbody>\n",
       "</table>\n",
       "<p>300 rows × 5 columns</p>\n",
       "</div>"
      ],
      "text/plain": [
       "                                                      ID  duration  \\\n",
       "18619  talk_set3_collectorgw77_speakergw2325_speakerg...     0.100   \n",
       "17956  talk_set3_collectorgw78_speakergw2040_speakerg...     0.100   \n",
       "7362   talk_set1_collectorgw226_speakergw2865_speaker...     0.100   \n",
       "15497  talk_set1_collectorgw226_speakergw2850_speaker...     0.100   \n",
       "9106   talk_set2_collectorgw94_speakergw1497_speakerg...     0.100   \n",
       "...                                                  ...       ...   \n",
       "4303      say_set1_collectorgw179_speakergw989_38_0_26-1     0.619   \n",
       "21747    say_set1_collectorgw130_speakergw1473_36_0_36-5     0.626   \n",
       "22345  talk_set2_collectorgw88_speakergw415_speakergw...     0.626   \n",
       "7399   talk_set3_collectorgw89_speakergw567_speakergw...     0.627   \n",
       "9813       say_set1_collectorgw82_speakergw683_39_0_26-2     0.630   \n",
       "\n",
       "                                                     wav province_code  \\\n",
       "18619  /data/MTDATA/fn-2-018/sentence/people/talk/gw/...            gw   \n",
       "17956  /data/MTDATA/fn-2-018/sentence/people/talk/gw/...            gw   \n",
       "7362   /data/MTDATA/fn-2-018/sentence/people/talk/gw/...            gw   \n",
       "15497  /data/MTDATA/fn-2-018/sentence/people/talk/gw/...            gw   \n",
       "9106   /data/MTDATA/fn-2-018/sentence/people/talk/gw/...            gw   \n",
       "...                                                  ...           ...   \n",
       "4303   /data/MTDATA/fn-2-018/sentence/person/say/gw/c...            gw   \n",
       "21747  /data/MTDATA/fn-2-018/sentence/person/say/gw/c...            gw   \n",
       "22345  /data/MTDATA/fn-2-018/sentence/people/talk/gw/...            gw   \n",
       "7399   /data/MTDATA/fn-2-018/sentence/people/talk/gw/...            gw   \n",
       "9813   /data/MTDATA/fn-2-018/sentence/person/say/gw/c...            gw   \n",
       "\n",
       "             wrd  \n",
       "18619          응  \n",
       "17956          응  \n",
       "7362           예  \n",
       "15497          예  \n",
       "9106           어  \n",
       "...          ...  \n",
       "4303          그져  \n",
       "21747    엄마를 했잖아  \n",
       "22345  그래야 돼요 맞아  \n",
       "7399   그렇게 안 아파요  \n",
       "9813       좀 그래요  \n",
       "\n",
       "[300 rows x 5 columns]"
      ]
     },
     "execution_count": 15,
     "metadata": {},
     "output_type": "execute_result"
    }
   ],
   "source": [
    "gw_test_data_df.sort_values(by=['duration']).head(300)"
   ]
  },
  {
   "cell_type": "code",
   "execution_count": 12,
   "metadata": {},
   "outputs": [
    {
     "data": {
      "text/html": [
       "<div>\n",
       "<style scoped>\n",
       "    .dataframe tbody tr th:only-of-type {\n",
       "        vertical-align: middle;\n",
       "    }\n",
       "\n",
       "    .dataframe tbody tr th {\n",
       "        vertical-align: top;\n",
       "    }\n",
       "\n",
       "    .dataframe thead th {\n",
       "        text-align: right;\n",
       "    }\n",
       "</style>\n",
       "<table border=\"1\" class=\"dataframe\">\n",
       "  <thead>\n",
       "    <tr style=\"text-align: right;\">\n",
       "      <th></th>\n",
       "      <th>ID</th>\n",
       "      <th>duration</th>\n",
       "      <th>wav</th>\n",
       "      <th>province_code</th>\n",
       "      <th>wrd</th>\n",
       "    </tr>\n",
       "  </thead>\n",
       "  <tbody>\n",
       "    <tr>\n",
       "      <th>14112</th>\n",
       "      <td>talk_set2_collectorgw95_speakergw1125_speakerg...</td>\n",
       "      <td>96.039</td>\n",
       "      <td>/data/MTDATA/fn-2-018/sentence/people/talk/gw/...</td>\n",
       "      <td>gw</td>\n",
       "      <td>아이고 속이 시끄러울 때 가서 풀을 뽑아 보니까 어느 적엔가 잊어버리고 무념무상이 ...</td>\n",
       "    </tr>\n",
       "    <tr>\n",
       "      <th>6553</th>\n",
       "      <td>talk_set3_collectorgw128_speakergw1076_speaker...</td>\n",
       "      <td>92.659</td>\n",
       "      <td>/data/MTDATA/fn-2-018/sentence/people/talk/gw/...</td>\n",
       "      <td>gw</td>\n",
       "      <td>차례를 꼭 지내야 할 필요는 없다고 생각하는데요 옛날에는 음 그게 예의고 예법이고 ...</td>\n",
       "    </tr>\n",
       "    <tr>\n",
       "      <th>3501</th>\n",
       "      <td>talk_set1_collectorgw226_speakergw2913_speaker...</td>\n",
       "      <td>89.180</td>\n",
       "      <td>/data/MTDATA/fn-2-018/sentence/people/talk/gw/...</td>\n",
       "      <td>gw</td>\n",
       "      <td>왜 글나 하면은 사람이 그 체온이 낮아지문 각종 면역력도 떨어지고 병도 생기고 없던...</td>\n",
       "    </tr>\n",
       "    <tr>\n",
       "      <th>18394</th>\n",
       "      <td>talk_set2_collectorgw87_speakergw1157_speakerg...</td>\n",
       "      <td>82.289</td>\n",
       "      <td>/data/MTDATA/fn-2-018/sentence/people/talk/gw/...</td>\n",
       "      <td>gw</td>\n",
       "      <td>나는 어 기호로 치면은 고기보다는 회를 더 좋아하는 더 좋아해 왜냐하면 어 나는 그...</td>\n",
       "    </tr>\n",
       "    <tr>\n",
       "      <th>17124</th>\n",
       "      <td>talk_set2_collectorgw87_speakergw1157_speakerg...</td>\n",
       "      <td>76.449</td>\n",
       "      <td>/data/MTDATA/fn-2-018/sentence/people/talk/gw/...</td>\n",
       "      <td>gw</td>\n",
       "      <td>난 산하고 바다를 굳이 따지자면 산이야 왜냐하면 난 어렸을 때 항상 바다를 갔었던 ...</td>\n",
       "    </tr>\n",
       "    <tr>\n",
       "      <th>15885</th>\n",
       "      <td>say_set1_collectorgw137_speakergw2427_46_0_73-0</td>\n",
       "      <td>71.779</td>\n",
       "      <td>/data/MTDATA/fn-2-018/sentence/person/say/gw/c...</td>\n",
       "      <td>gw</td>\n",
       "      <td>아이고 온돌방은요 엄청 추워요 온돌방은 아랫문만 딱딱하지 저 위에는 완전히 뭐 차가...</td>\n",
       "    </tr>\n",
       "    <tr>\n",
       "      <th>17829</th>\n",
       "      <td>say_set2_collectorgw103_speakergw461_16_0_71-0</td>\n",
       "      <td>69.669</td>\n",
       "      <td>/data/MTDATA/fn-2-018/sentence/person/say/gw/c...</td>\n",
       "      <td>gw</td>\n",
       "      <td>네 어렸을 때는 온돌방에 살았거든요 그래서 그런지 건강해요 지금 보면 온돌방이 찜질...</td>\n",
       "    </tr>\n",
       "    <tr>\n",
       "      <th>5110</th>\n",
       "      <td>talk_set1_collectorgw74_speakergw1562_speakerg...</td>\n",
       "      <td>67.549</td>\n",
       "      <td>/data/MTDATA/fn-2-018/sentence/people/talk/gw/...</td>\n",
       "      <td>gw</td>\n",
       "      <td>맞는 말인데 옛 엣엣 옛날에는 나이 드신 분들이 당연히 또 젊은 사람들이 힘들 것 ...</td>\n",
       "    </tr>\n",
       "    <tr>\n",
       "      <th>940</th>\n",
       "      <td>talk_set1_collectorgw167_speakergw1911_speaker...</td>\n",
       "      <td>67.363</td>\n",
       "      <td>/data/MTDATA/fn-2-018/sentence/people/talk/gw/...</td>\n",
       "      <td>gw</td>\n",
       "      <td>예 민간 요법이 중요한 게 뭐 많죠 민간 요법이라는 거는 일단 응급 처치 부터 뭐 ...</td>\n",
       "    </tr>\n",
       "    <tr>\n",
       "      <th>18256</th>\n",
       "      <td>talk_set2_collectorgw101_speakergw2078_speaker...</td>\n",
       "      <td>66.029</td>\n",
       "      <td>/data/MTDATA/fn-2-018/sentence/people/talk/gw/...</td>\n",
       "      <td>gw</td>\n",
       "      <td>는 산이 산이 더 좋은데 바다는 기냥 멀리서 보는 것만 좋지 막상 여름에 가면은 바...</td>\n",
       "    </tr>\n",
       "  </tbody>\n",
       "</table>\n",
       "</div>"
      ],
      "text/plain": [
       "                                                      ID  duration  \\\n",
       "14112  talk_set2_collectorgw95_speakergw1125_speakerg...    96.039   \n",
       "6553   talk_set3_collectorgw128_speakergw1076_speaker...    92.659   \n",
       "3501   talk_set1_collectorgw226_speakergw2913_speaker...    89.180   \n",
       "18394  talk_set2_collectorgw87_speakergw1157_speakerg...    82.289   \n",
       "17124  talk_set2_collectorgw87_speakergw1157_speakerg...    76.449   \n",
       "15885    say_set1_collectorgw137_speakergw2427_46_0_73-0    71.779   \n",
       "17829     say_set2_collectorgw103_speakergw461_16_0_71-0    69.669   \n",
       "5110   talk_set1_collectorgw74_speakergw1562_speakerg...    67.549   \n",
       "940    talk_set1_collectorgw167_speakergw1911_speaker...    67.363   \n",
       "18256  talk_set2_collectorgw101_speakergw2078_speaker...    66.029   \n",
       "\n",
       "                                                     wav province_code  \\\n",
       "14112  /data/MTDATA/fn-2-018/sentence/people/talk/gw/...            gw   \n",
       "6553   /data/MTDATA/fn-2-018/sentence/people/talk/gw/...            gw   \n",
       "3501   /data/MTDATA/fn-2-018/sentence/people/talk/gw/...            gw   \n",
       "18394  /data/MTDATA/fn-2-018/sentence/people/talk/gw/...            gw   \n",
       "17124  /data/MTDATA/fn-2-018/sentence/people/talk/gw/...            gw   \n",
       "15885  /data/MTDATA/fn-2-018/sentence/person/say/gw/c...            gw   \n",
       "17829  /data/MTDATA/fn-2-018/sentence/person/say/gw/c...            gw   \n",
       "5110   /data/MTDATA/fn-2-018/sentence/people/talk/gw/...            gw   \n",
       "940    /data/MTDATA/fn-2-018/sentence/people/talk/gw/...            gw   \n",
       "18256  /data/MTDATA/fn-2-018/sentence/people/talk/gw/...            gw   \n",
       "\n",
       "                                                     wrd  \n",
       "14112  아이고 속이 시끄러울 때 가서 풀을 뽑아 보니까 어느 적엔가 잊어버리고 무념무상이 ...  \n",
       "6553   차례를 꼭 지내야 할 필요는 없다고 생각하는데요 옛날에는 음 그게 예의고 예법이고 ...  \n",
       "3501   왜 글나 하면은 사람이 그 체온이 낮아지문 각종 면역력도 떨어지고 병도 생기고 없던...  \n",
       "18394  나는 어 기호로 치면은 고기보다는 회를 더 좋아하는 더 좋아해 왜냐하면 어 나는 그...  \n",
       "17124  난 산하고 바다를 굳이 따지자면 산이야 왜냐하면 난 어렸을 때 항상 바다를 갔었던 ...  \n",
       "15885  아이고 온돌방은요 엄청 추워요 온돌방은 아랫문만 딱딱하지 저 위에는 완전히 뭐 차가...  \n",
       "17829  네 어렸을 때는 온돌방에 살았거든요 그래서 그런지 건강해요 지금 보면 온돌방이 찜질...  \n",
       "5110   맞는 말인데 옛 엣엣 옛날에는 나이 드신 분들이 당연히 또 젊은 사람들이 힘들 것 ...  \n",
       "940    예 민간 요법이 중요한 게 뭐 많죠 민간 요법이라는 거는 일단 응급 처치 부터 뭐 ...  \n",
       "18256  는 산이 산이 더 좋은데 바다는 기냥 멀리서 보는 것만 좋지 막상 여름에 가면은 바...  "
      ]
     },
     "execution_count": 12,
     "metadata": {},
     "output_type": "execute_result"
    }
   ],
   "source": [
    "gw_test_data_df.sort_values(by=['duration'], ascending=False).head(10)"
   ]
  },
  {
   "cell_type": "code",
   "execution_count": 4,
   "metadata": {},
   "outputs": [
    {
     "data": {
      "text/html": [
       "<div>\n",
       "<style scoped>\n",
       "    .dataframe tbody tr th:only-of-type {\n",
       "        vertical-align: middle;\n",
       "    }\n",
       "\n",
       "    .dataframe tbody tr th {\n",
       "        vertical-align: top;\n",
       "    }\n",
       "\n",
       "    .dataframe thead th {\n",
       "        text-align: right;\n",
       "    }\n",
       "</style>\n",
       "<table border=\"1\" class=\"dataframe\">\n",
       "  <thead>\n",
       "    <tr style=\"text-align: right;\">\n",
       "      <th></th>\n",
       "      <th>duration</th>\n",
       "    </tr>\n",
       "  </thead>\n",
       "  <tbody>\n",
       "    <tr>\n",
       "      <th>count</th>\n",
       "      <td>140375.000000</td>\n",
       "    </tr>\n",
       "    <tr>\n",
       "      <th>mean</th>\n",
       "      <td>7.740898</td>\n",
       "    </tr>\n",
       "    <tr>\n",
       "      <th>std</th>\n",
       "      <td>5.947517</td>\n",
       "    </tr>\n",
       "    <tr>\n",
       "      <th>min</th>\n",
       "      <td>0.090000</td>\n",
       "    </tr>\n",
       "    <tr>\n",
       "      <th>25%</th>\n",
       "      <td>3.290000</td>\n",
       "    </tr>\n",
       "    <tr>\n",
       "      <th>50%</th>\n",
       "      <td>6.159000</td>\n",
       "    </tr>\n",
       "    <tr>\n",
       "      <th>75%</th>\n",
       "      <td>10.523500</td>\n",
       "    </tr>\n",
       "    <tr>\n",
       "      <th>max</th>\n",
       "      <td>30.000000</td>\n",
       "    </tr>\n",
       "  </tbody>\n",
       "</table>\n",
       "</div>"
      ],
      "text/plain": [
       "            duration\n",
       "count  140375.000000\n",
       "mean        7.740898\n",
       "std         5.947517\n",
       "min         0.090000\n",
       "25%         3.290000\n",
       "50%         6.159000\n",
       "75%        10.523500\n",
       "max        30.000000"
      ]
     },
     "execution_count": 4,
     "metadata": {},
     "output_type": "execute_result"
    }
   ],
   "source": [
    "train_data_df.describe()"
   ]
  },
  {
   "cell_type": "code",
   "execution_count": 5,
   "metadata": {},
   "outputs": [
    {
     "data": {
      "text/plain": [
       "301.84128444444445"
      ]
     },
     "execution_count": 5,
     "metadata": {},
     "output_type": "execute_result"
    }
   ],
   "source": [
    "train_data_df.duration.sum()/3600"
   ]
  },
  {
   "cell_type": "code",
   "execution_count": 8,
   "metadata": {},
   "outputs": [],
   "source": [
    "# 경상\n",
    "data_file = '/workspace/speechbrain/recipes/KdialectSpeech/Tokenizer/results/data_prepared/gs/total.csv'\n",
    "train_data_file = '/workspace/speechbrain/recipes/KdialectSpeech/Tokenizer/results/data_prepared/gs/train.csv'\n",
    "# Path(data_file).stem"
   ]
  },
  {
   "cell_type": "code",
   "execution_count": 9,
   "metadata": {},
   "outputs": [],
   "source": [
    "data_df = pd.read_csv(data_file)\n",
    "train_data_df = pd.read_csv(train_data_file)"
   ]
  },
  {
   "cell_type": "code",
   "execution_count": 10,
   "metadata": {},
   "outputs": [
    {
     "name": "stdout",
     "output_type": "stream",
     "text": [
      "토탈 시간 합계 : 655.1751263888889\n"
     ]
    },
    {
     "data": {
      "text/html": [
       "<div>\n",
       "<style scoped>\n",
       "    .dataframe tbody tr th:only-of-type {\n",
       "        vertical-align: middle;\n",
       "    }\n",
       "\n",
       "    .dataframe tbody tr th {\n",
       "        vertical-align: top;\n",
       "    }\n",
       "\n",
       "    .dataframe thead th {\n",
       "        text-align: right;\n",
       "    }\n",
       "</style>\n",
       "<table border=\"1\" class=\"dataframe\">\n",
       "  <thead>\n",
       "    <tr style=\"text-align: right;\">\n",
       "      <th></th>\n",
       "      <th>duration</th>\n",
       "    </tr>\n",
       "  </thead>\n",
       "  <tbody>\n",
       "    <tr>\n",
       "      <th>count</th>\n",
       "      <td>290682.000000</td>\n",
       "    </tr>\n",
       "    <tr>\n",
       "      <th>mean</th>\n",
       "      <td>8.114126</td>\n",
       "    </tr>\n",
       "    <tr>\n",
       "      <th>std</th>\n",
       "      <td>5.705776</td>\n",
       "    </tr>\n",
       "    <tr>\n",
       "      <th>min</th>\n",
       "      <td>0.073000</td>\n",
       "    </tr>\n",
       "    <tr>\n",
       "      <th>25%</th>\n",
       "      <td>4.187250</td>\n",
       "    </tr>\n",
       "    <tr>\n",
       "      <th>50%</th>\n",
       "      <td>6.720000</td>\n",
       "    </tr>\n",
       "    <tr>\n",
       "      <th>75%</th>\n",
       "      <td>10.429000</td>\n",
       "    </tr>\n",
       "    <tr>\n",
       "      <th>max</th>\n",
       "      <td>30.000000</td>\n",
       "    </tr>\n",
       "  </tbody>\n",
       "</table>\n",
       "</div>"
      ],
      "text/plain": [
       "            duration\n",
       "count  290682.000000\n",
       "mean        8.114126\n",
       "std         5.705776\n",
       "min         0.073000\n",
       "25%         4.187250\n",
       "50%         6.720000\n",
       "75%        10.429000\n",
       "max        30.000000"
      ]
     },
     "execution_count": 10,
     "metadata": {},
     "output_type": "execute_result"
    }
   ],
   "source": [
    "print(f'토탈 시간 합계 : {data_df.duration.sum()/3600}')\n",
    "data_df.describe()"
   ]
  },
  {
   "cell_type": "code",
   "execution_count": 42,
   "metadata": {},
   "outputs": [
    {
     "data": {
      "text/plain": [
       "[Text(0.5, 1.0, 'gs')]"
      ]
     },
     "execution_count": 42,
     "metadata": {},
     "output_type": "execute_result"
    },
    {
     "data": {
      "image/png": "[encoded data removed]",
      "text/plain": [
       "<Figure size 432x288 with 1 Axes>"
      ]
     },
     "metadata": {
      "needs_background": "light"
     },
     "output_type": "display_data"
    }
   ],
   "source": [
    "hist, edges = np.histogram(train_data_df.duration, 10)\n",
    "sns.histplot(data_df.duration, bins=10, kde=False).set(title='gs')"
   ]
  },
  {
   "cell_type": "code",
   "execution_count": 43,
   "metadata": {},
   "outputs": [
    {
     "data": {
      "text/plain": [
       "[Text(0.5, 1.0, 'gs')]"
      ]
     },
     "execution_count": 43,
     "metadata": {},
     "output_type": "execute_result"
    },
    {
     "data": {
      "image/png": "[encoded data removed]",
      "text/plain": [
       "<Figure size 432x288 with 1 Axes>"
      ]
     },
     "metadata": {
      "needs_background": "light"
     },
     "output_type": "display_data"
    }
   ],
   "source": [
    "sns.boxplot(x = data_df.duration).set(title='gs')"
   ]
  },
  {
   "cell_type": "code",
   "execution_count": 44,
   "metadata": {},
   "outputs": [
    {
     "data": {
      "text/plain": [
       "337.27309527777777"
      ]
     },
     "execution_count": 44,
     "metadata": {},
     "output_type": "execute_result"
    }
   ],
   "source": [
    "data_df.duration.sum()/3600"
   ]
  },
  {
   "cell_type": "code",
   "execution_count": 45,
   "metadata": {},
   "outputs": [
    {
     "data": {
      "text/html": [
       "<div>\n",
       "<style scoped>\n",
       "    .dataframe tbody tr th:only-of-type {\n",
       "        vertical-align: middle;\n",
       "    }\n",
       "\n",
       "    .dataframe tbody tr th {\n",
       "        vertical-align: top;\n",
       "    }\n",
       "\n",
       "    .dataframe thead th {\n",
       "        text-align: right;\n",
       "    }\n",
       "</style>\n",
       "<table border=\"1\" class=\"dataframe\">\n",
       "  <thead>\n",
       "    <tr style=\"text-align: right;\">\n",
       "      <th></th>\n",
       "      <th>duration</th>\n",
       "    </tr>\n",
       "  </thead>\n",
       "  <tbody>\n",
       "    <tr>\n",
       "      <th>count</th>\n",
       "      <td>119642.000000</td>\n",
       "    </tr>\n",
       "    <tr>\n",
       "      <th>mean</th>\n",
       "      <td>8.439290</td>\n",
       "    </tr>\n",
       "    <tr>\n",
       "      <th>std</th>\n",
       "      <td>6.320624</td>\n",
       "    </tr>\n",
       "    <tr>\n",
       "      <th>min</th>\n",
       "      <td>0.100000</td>\n",
       "    </tr>\n",
       "    <tr>\n",
       "      <th>25%</th>\n",
       "      <td>3.590000</td>\n",
       "    </tr>\n",
       "    <tr>\n",
       "      <th>50%</th>\n",
       "      <td>6.795000</td>\n",
       "    </tr>\n",
       "    <tr>\n",
       "      <th>75%</th>\n",
       "      <td>11.650000</td>\n",
       "    </tr>\n",
       "    <tr>\n",
       "      <th>max</th>\n",
       "      <td>30.000000</td>\n",
       "    </tr>\n",
       "  </tbody>\n",
       "</table>\n",
       "</div>"
      ],
      "text/plain": [
       "            duration\n",
       "count  119642.000000\n",
       "mean        8.439290\n",
       "std         6.320624\n",
       "min         0.100000\n",
       "25%         3.590000\n",
       "50%         6.795000\n",
       "75%        11.650000\n",
       "max        30.000000"
      ]
     },
     "execution_count": 45,
     "metadata": {},
     "output_type": "execute_result"
    }
   ],
   "source": [
    "train_data_df.describe()"
   ]
  },
  {
   "cell_type": "code",
   "execution_count": 46,
   "metadata": {},
   "outputs": [
    {
     "data": {
      "text/plain": [
       "280.47042194444447"
      ]
     },
     "execution_count": 46,
     "metadata": {},
     "output_type": "execute_result"
    }
   ],
   "source": [
    "train_data_df.duration.sum()/3600"
   ]
  },
  {
   "cell_type": "code",
   "execution_count": 29,
   "metadata": {},
   "outputs": [],
   "source": [
    "# 전라\n",
    "data_file = '/workspace/speechbrain/recipes/KdialectSpeech/Tokenizer/results/data_prepared/jl/total.csv'\n",
    "train_data_file = '/workspace/speechbrain/recipes/KdialectSpeech/Tokenizer/results/data_prepared/jl/train.csv'"
   ]
  },
  {
   "cell_type": "code",
   "execution_count": 30,
   "metadata": {},
   "outputs": [],
   "source": [
    "data_df = pd.read_csv(data_file)\n",
    "train_data_df = pd.read_csv(train_data_file)"
   ]
  },
  {
   "cell_type": "code",
   "execution_count": 31,
   "metadata": {},
   "outputs": [
    {
     "name": "stdout",
     "output_type": "stream",
     "text": [
      "토탈 시간 합계 : 271.1569672222222\n"
     ]
    },
    {
     "data": {
      "text/html": [
       "<div>\n",
       "<style scoped>\n",
       "    .dataframe tbody tr th:only-of-type {\n",
       "        vertical-align: middle;\n",
       "    }\n",
       "\n",
       "    .dataframe tbody tr th {\n",
       "        vertical-align: top;\n",
       "    }\n",
       "\n",
       "    .dataframe thead th {\n",
       "        text-align: right;\n",
       "    }\n",
       "</style>\n",
       "<table border=\"1\" class=\"dataframe\">\n",
       "  <thead>\n",
       "    <tr style=\"text-align: right;\">\n",
       "      <th></th>\n",
       "      <th>duration</th>\n",
       "    </tr>\n",
       "  </thead>\n",
       "  <tbody>\n",
       "    <tr>\n",
       "      <th>count</th>\n",
       "      <td>127279.000000</td>\n",
       "    </tr>\n",
       "    <tr>\n",
       "      <th>mean</th>\n",
       "      <td>7.669491</td>\n",
       "    </tr>\n",
       "    <tr>\n",
       "      <th>std</th>\n",
       "      <td>5.577207</td>\n",
       "    </tr>\n",
       "    <tr>\n",
       "      <th>min</th>\n",
       "      <td>0.086000</td>\n",
       "    </tr>\n",
       "    <tr>\n",
       "      <th>25%</th>\n",
       "      <td>3.530000</td>\n",
       "    </tr>\n",
       "    <tr>\n",
       "      <th>50%</th>\n",
       "      <td>6.399000</td>\n",
       "    </tr>\n",
       "    <tr>\n",
       "      <th>75%</th>\n",
       "      <td>10.223000</td>\n",
       "    </tr>\n",
       "    <tr>\n",
       "      <th>max</th>\n",
       "      <td>30.000000</td>\n",
       "    </tr>\n",
       "  </tbody>\n",
       "</table>\n",
       "</div>"
      ],
      "text/plain": [
       "            duration\n",
       "count  127279.000000\n",
       "mean        7.669491\n",
       "std         5.577207\n",
       "min         0.086000\n",
       "25%         3.530000\n",
       "50%         6.399000\n",
       "75%        10.223000\n",
       "max        30.000000"
      ]
     },
     "execution_count": 31,
     "metadata": {},
     "output_type": "execute_result"
    }
   ],
   "source": [
    "print(f'토탈 시간 합계 : {data_df.duration.sum()/3600}')\n",
    "data_df.describe()"
   ]
  },
  {
   "cell_type": "code",
   "execution_count": 32,
   "metadata": {},
   "outputs": [
    {
     "data": {
      "text/plain": [
       "[Text(0.5, 1.0, 'jl')]"
      ]
     },
     "execution_count": 32,
     "metadata": {},
     "output_type": "execute_result"
    },
    {
     "data": {
      "image/png": "[encoded data removed]",
      "text/plain": [
       "<Figure size 432x288 with 1 Axes>"
      ]
     },
     "metadata": {
      "needs_background": "light"
     },
     "output_type": "display_data"
    }
   ],
   "source": [
    "hist, edges = np.histogram(train_data_df.duration, 10)\n",
    "sns.histplot(data_df.duration, bins=10, kde=False).set(title='jl')"
   ]
  },
  {
   "cell_type": "code",
   "execution_count": 33,
   "metadata": {},
   "outputs": [
    {
     "data": {
      "text/plain": [
       "[Text(0.5, 1.0, 'jl')]"
      ]
     },
     "execution_count": 33,
     "metadata": {},
     "output_type": "execute_result"
    },
    {
     "data": {
      "image/png": "[encoded data removed]",
      "text/plain": [
       "<Figure size 432x288 with 1 Axes>"
      ]
     },
     "metadata": {
      "needs_background": "light"
     },
     "output_type": "display_data"
    }
   ],
   "source": [
    "sns.boxplot(x = data_df.duration).set(title='jl')"
   ]
  },
  {
   "cell_type": "code",
   "execution_count": 51,
   "metadata": {},
   "outputs": [
    {
     "data": {
      "text/html": [
       "<div>\n",
       "<style scoped>\n",
       "    .dataframe tbody tr th:only-of-type {\n",
       "        vertical-align: middle;\n",
       "    }\n",
       "\n",
       "    .dataframe tbody tr th {\n",
       "        vertical-align: top;\n",
       "    }\n",
       "\n",
       "    .dataframe thead th {\n",
       "        text-align: right;\n",
       "    }\n",
       "</style>\n",
       "<table border=\"1\" class=\"dataframe\">\n",
       "  <thead>\n",
       "    <tr style=\"text-align: right;\">\n",
       "      <th></th>\n",
       "      <th>duration</th>\n",
       "    </tr>\n",
       "  </thead>\n",
       "  <tbody>\n",
       "    <tr>\n",
       "      <th>count</th>\n",
       "      <td>21112.000000</td>\n",
       "    </tr>\n",
       "    <tr>\n",
       "      <th>mean</th>\n",
       "      <td>7.055797</td>\n",
       "    </tr>\n",
       "    <tr>\n",
       "      <th>std</th>\n",
       "      <td>5.524324</td>\n",
       "    </tr>\n",
       "    <tr>\n",
       "      <th>min</th>\n",
       "      <td>0.100000</td>\n",
       "    </tr>\n",
       "    <tr>\n",
       "      <th>25%</th>\n",
       "      <td>2.890000</td>\n",
       "    </tr>\n",
       "    <tr>\n",
       "      <th>50%</th>\n",
       "      <td>5.565500</td>\n",
       "    </tr>\n",
       "    <tr>\n",
       "      <th>75%</th>\n",
       "      <td>9.745000</td>\n",
       "    </tr>\n",
       "    <tr>\n",
       "      <th>max</th>\n",
       "      <td>29.999000</td>\n",
       "    </tr>\n",
       "  </tbody>\n",
       "</table>\n",
       "</div>"
      ],
      "text/plain": [
       "           duration\n",
       "count  21112.000000\n",
       "mean       7.055797\n",
       "std        5.524324\n",
       "min        0.100000\n",
       "25%        2.890000\n",
       "50%        5.565500\n",
       "75%        9.745000\n",
       "max       29.999000"
      ]
     },
     "execution_count": 51,
     "metadata": {},
     "output_type": "execute_result"
    }
   ],
   "source": [
    "train_data_df.describe()"
   ]
  },
  {
   "cell_type": "code",
   "execution_count": 52,
   "metadata": {},
   "outputs": [
    {
     "data": {
      "text/plain": [
       "41.37833166666667"
      ]
     },
     "execution_count": 52,
     "metadata": {},
     "output_type": "execute_result"
    }
   ],
   "source": [
    "train_data_df.duration.sum()/3600"
   ]
  },
  {
   "cell_type": "code",
   "execution_count": 2,
   "metadata": {},
   "outputs": [],
   "source": [
    "# 제주\n",
    "data_file = '/workspace/speechbrain/recipes/KdialectSpeech/Tokenizer/results/data_prepared/jj/total.csv'\n",
    "train_data_file = '/workspace/speechbrain/recipes/KdialectSpeech/Tokenizer/results/data_prepared/jj/train.csv'"
   ]
  },
  {
   "cell_type": "code",
   "execution_count": 3,
   "metadata": {},
   "outputs": [],
   "source": [
    "data_df = pd.read_csv(data_file)\n",
    "train_data_df = pd.read_csv(train_data_file)"
   ]
  },
  {
   "cell_type": "code",
   "execution_count": 4,
   "metadata": {},
   "outputs": [
    {
     "name": "stdout",
     "output_type": "stream",
     "text": [
      "토탈 시간 합계 : 50.77265388888889\n"
     ]
    },
    {
     "data": {
      "text/html": [
       "<div>\n",
       "<style scoped>\n",
       "    .dataframe tbody tr th:only-of-type {\n",
       "        vertical-align: middle;\n",
       "    }\n",
       "\n",
       "    .dataframe tbody tr th {\n",
       "        vertical-align: top;\n",
       "    }\n",
       "\n",
       "    .dataframe thead th {\n",
       "        text-align: right;\n",
       "    }\n",
       "</style>\n",
       "<table border=\"1\" class=\"dataframe\">\n",
       "  <thead>\n",
       "    <tr style=\"text-align: right;\">\n",
       "      <th></th>\n",
       "      <th>duration</th>\n",
       "    </tr>\n",
       "  </thead>\n",
       "  <tbody>\n",
       "    <tr>\n",
       "      <th>count</th>\n",
       "      <td>25848.000000</td>\n",
       "    </tr>\n",
       "    <tr>\n",
       "      <th>mean</th>\n",
       "      <td>7.071400</td>\n",
       "    </tr>\n",
       "    <tr>\n",
       "      <th>std</th>\n",
       "      <td>5.806957</td>\n",
       "    </tr>\n",
       "    <tr>\n",
       "      <th>min</th>\n",
       "      <td>0.100000</td>\n",
       "    </tr>\n",
       "    <tr>\n",
       "      <th>25%</th>\n",
       "      <td>3.210000</td>\n",
       "    </tr>\n",
       "    <tr>\n",
       "      <th>50%</th>\n",
       "      <td>4.712000</td>\n",
       "    </tr>\n",
       "    <tr>\n",
       "      <th>75%</th>\n",
       "      <td>8.980750</td>\n",
       "    </tr>\n",
       "    <tr>\n",
       "      <th>max</th>\n",
       "      <td>29.999000</td>\n",
       "    </tr>\n",
       "  </tbody>\n",
       "</table>\n",
       "</div>"
      ],
      "text/plain": [
       "           duration\n",
       "count  25848.000000\n",
       "mean       7.071400\n",
       "std        5.806957\n",
       "min        0.100000\n",
       "25%        3.210000\n",
       "50%        4.712000\n",
       "75%        8.980750\n",
       "max       29.999000"
      ]
     },
     "execution_count": 4,
     "metadata": {},
     "output_type": "execute_result"
    }
   ],
   "source": [
    "print(f'토탈 시간 합계 : {data_df.duration.sum()/3600}')\n",
    "data_df.describe()"
   ]
  },
  {
   "cell_type": "code",
   "execution_count": 17,
   "metadata": {},
   "outputs": [],
   "source": [
    "# row 생략 없이 출력\n",
    "pd.set_option('display.max_rows', None)"
   ]
  },
  {
   "cell_type": "code",
   "execution_count": 19,
   "metadata": {},
   "outputs": [],
   "source": [
    "# col 생략 없이 출력\n",
    "pd.set_option('display.max_columns', None)"
   ]
  },
  {
   "cell_type": "code",
   "execution_count": null,
   "metadata": {},
   "outputs": [],
   "source": [
    "# with pd.option_context('display.max_rows', None, 'display.max_columns', None):\n",
    "#      print(corpNP[corpNP['사업장명'].str.contains('하나은행')])"
   ]
  },
  {
   "cell_type": "code",
   "execution_count": 21,
   "metadata": {},
   "outputs": [],
   "source": [
    "pd.set_option('display.max.colwidth', None)"
   ]
  },
  {
   "cell_type": "code",
   "execution_count": 22,
   "metadata": {},
   "outputs": [
    {
     "data": {
      "text/plain": [
       "9169     /data/MTDATA/fn-2-018/root/person/say/jj/collectorjj79/say_set3_collectorjj79_speakerjj603_21_0_100-4.wav\n",
       "11506     /data/MTDATA/fn-2-018/root/person/say/jj/collectorjj84/say_set1_collectorjj84_speakerjj523_11_0_37-1.wav\n",
       "8434      /data/MTDATA/fn-2-018/root/person/say/jj/collectorjj79/say_set1_collectorjj79_speakerjj579_34_0_82-1.wav\n",
       "10531     /data/MTDATA/fn-2-018/root/person/say/jj/collectorjj86/say_set2_collectorjj86_speakerjj590_16_0_60-3.wav\n",
       "6461      /data/MTDATA/fn-2-018/root/person/say/jj/collectorjj83/say_set3_collectorjj83_speakerjj535_27_0_51-2.wav\n",
       "7210        /data/MTDATA/fn-2-018/root/person/say/jj/collectorjj58/say_set1_collectorjj58_speakerjj417_14_0_31.wav\n",
       "8214         /data/MTDATA/fn-2-018/root/person/say/jj/collectorjj79/say_set1_collectorjj79_speakerjj561_1_0_31.wav\n",
       "2168        /data/MTDATA/fn-2-018/root/person/say/jj/collectorjj71/say_set2_collectorjj71_speakerjj491_52_0_31.wav\n",
       "11337    /data/MTDATA/fn-2-018/root/person/say/jj/collectorjj86/say_set1_collectorjj86_speakerjj541_12_0_118-3.wav\n",
       "11664        /data/MTDATA/fn-2-018/root/person/say/jj/collectorjj84/say_set1_collectorjj84_speakerjj523_9_0_30.wav\n",
       "Name: wav, dtype: object"
      ]
     },
     "execution_count": 22,
     "metadata": {},
     "output_type": "execute_result"
    }
   ],
   "source": [
    "train_data_df.nlargest(n=10, columns=['duration']).wav"
   ]
  },
  {
   "cell_type": "code",
   "execution_count": 16,
   "metadata": {},
   "outputs": [
    {
     "data": {
      "text/html": [
       "<div>\n",
       "<style scoped>\n",
       "    .dataframe tbody tr th:only-of-type {\n",
       "        vertical-align: middle;\n",
       "    }\n",
       "\n",
       "    .dataframe tbody tr th {\n",
       "        vertical-align: top;\n",
       "    }\n",
       "\n",
       "    .dataframe thead th {\n",
       "        text-align: right;\n",
       "    }\n",
       "</style>\n",
       "<table border=\"1\" class=\"dataframe\">\n",
       "  <thead>\n",
       "    <tr style=\"text-align: right;\">\n",
       "      <th></th>\n",
       "      <th>ID</th>\n",
       "      <th>duration</th>\n",
       "      <th>wav</th>\n",
       "      <th>province_code</th>\n",
       "      <th>wrd</th>\n",
       "    </tr>\n",
       "  </thead>\n",
       "  <tbody>\n",
       "    <tr>\n",
       "      <th>9169</th>\n",
       "      <td>jj-say_set3_collectorjj79_speakerjj603_21_0_100-4</td>\n",
       "      <td>29.999</td>\n",
       "      <td>/data/MTDATA/fn-2-018/root/person/say/jj/colle...</td>\n",
       "      <td>jj</td>\n",
       "      <td>그래서 자꾸 축구 선수 해가지고 축구 감독이 뒛더라면은 지금의 내가 더 나은 생활과...</td>\n",
       "    </tr>\n",
       "    <tr>\n",
       "      <th>11506</th>\n",
       "      <td>jj-say_set1_collectorjj84_speakerjj523_11_0_37-1</td>\n",
       "      <td>29.984</td>\n",
       "      <td>/data/MTDATA/fn-2-018/root/person/say/jj/colle...</td>\n",
       "      <td>jj</td>\n",
       "      <td>무사닌허면은 날씨가 자연이 이 이 자연이 체 거의 뭐 차지한다고 하지만 거기에 또 ...</td>\n",
       "    </tr>\n",
       "    <tr>\n",
       "      <th>8434</th>\n",
       "      <td>jj-say_set1_collectorjj79_speakerjj579_34_0_82-1</td>\n",
       "      <td>29.969</td>\n",
       "      <td>/data/MTDATA/fn-2-018/root/person/say/jj/colle...</td>\n",
       "      <td>jj</td>\n",
       "      <td>경행 빨래 행오민 돈 혼 십원씩 주면 그걸로 삥이엔 해그니 머리핀 요런 거 그런 거...</td>\n",
       "    </tr>\n",
       "    <tr>\n",
       "      <th>10531</th>\n",
       "      <td>jj-say_set2_collectorjj86_speakerjj590_16_0_60-3</td>\n",
       "      <td>29.903</td>\n",
       "      <td>/data/MTDATA/fn-2-018/root/person/say/jj/colle...</td>\n",
       "      <td>jj</td>\n",
       "      <td>솔잎 솔잎인디 그 솔잎 긁어당 영 줄 줄 이렇게 줄 칙 칙 칙이죠 지금 생각하면 그...</td>\n",
       "    </tr>\n",
       "    <tr>\n",
       "      <th>6461</th>\n",
       "      <td>jj-say_set3_collectorjj83_speakerjj535_27_0_51-2</td>\n",
       "      <td>29.889</td>\n",
       "      <td>/data/MTDATA/fn-2-018/root/person/say/jj/colle...</td>\n",
       "      <td>jj</td>\n",
       "      <td>그런데 이제 버스 정류소가 조금 멀어서 이제 안 좋은 것 같고 음 그리고 이제 병원...</td>\n",
       "    </tr>\n",
       "    <tr>\n",
       "      <th>7210</th>\n",
       "      <td>jj-say_set1_collectorjj58_speakerjj417_14_0_31</td>\n",
       "      <td>29.879</td>\n",
       "      <td>/data/MTDATA/fn-2-018/root/person/say/jj/colle...</td>\n",
       "      <td>jj</td>\n",
       "      <td>요자기 한 보름 뒛수다 보름 전에 잔칫집에 가는디 누게 잔치냐면 저기 우리 아주 딸...</td>\n",
       "    </tr>\n",
       "    <tr>\n",
       "      <th>8214</th>\n",
       "      <td>jj-say_set1_collectorjj79_speakerjj561_1_0_31</td>\n",
       "      <td>29.849</td>\n",
       "      <td>/data/MTDATA/fn-2-018/root/person/say/jj/colle...</td>\n",
       "      <td>jj</td>\n",
       "      <td>아이고 지금 사는 아파트에서는 이 지금 한 십년째 살암신디 그전에는 대단지 아파트에...</td>\n",
       "    </tr>\n",
       "    <tr>\n",
       "      <th>2168</th>\n",
       "      <td>jj-say_set2_collectorjj71_speakerjj491_52_0_31</td>\n",
       "      <td>29.839</td>\n",
       "      <td>/data/MTDATA/fn-2-018/root/person/say/jj/colle...</td>\n",
       "      <td>jj</td>\n",
       "      <td>옛날 부엌은 낭불 때고 밥 허곡 국 허고 또 곤로도 써낫고 지금은 집 안에서 서근에...</td>\n",
       "    </tr>\n",
       "    <tr>\n",
       "      <th>11337</th>\n",
       "      <td>jj-say_set1_collectorjj86_speakerjj541_12_0_118-3</td>\n",
       "      <td>29.830</td>\n",
       "      <td>/data/MTDATA/fn-2-018/root/person/say/jj/colle...</td>\n",
       "      <td>jj</td>\n",
       "      <td>이제는 그 집에서는 그 뭐 돼지 삶고 그런 거는 없기 때문에 뼈 사다가 등뼈 나는 ...</td>\n",
       "    </tr>\n",
       "    <tr>\n",
       "      <th>11664</th>\n",
       "      <td>jj-say_set1_collectorjj84_speakerjj523_9_0_30</td>\n",
       "      <td>29.799</td>\n",
       "      <td>/data/MTDATA/fn-2-018/root/person/say/jj/colle...</td>\n",
       "      <td>jj</td>\n",
       "      <td>형제들이랑 사이좋게 지냄신지 말암신지 그거는 모르고 그냥 나 마음으로만 나 모음 속...</td>\n",
       "    </tr>\n",
       "  </tbody>\n",
       "</table>\n",
       "</div>"
      ],
      "text/plain": [
       "                                                      ID  duration  \\\n",
       "9169   jj-say_set3_collectorjj79_speakerjj603_21_0_100-4    29.999   \n",
       "11506   jj-say_set1_collectorjj84_speakerjj523_11_0_37-1    29.984   \n",
       "8434    jj-say_set1_collectorjj79_speakerjj579_34_0_82-1    29.969   \n",
       "10531   jj-say_set2_collectorjj86_speakerjj590_16_0_60-3    29.903   \n",
       "6461    jj-say_set3_collectorjj83_speakerjj535_27_0_51-2    29.889   \n",
       "7210      jj-say_set1_collectorjj58_speakerjj417_14_0_31    29.879   \n",
       "8214       jj-say_set1_collectorjj79_speakerjj561_1_0_31    29.849   \n",
       "2168      jj-say_set2_collectorjj71_speakerjj491_52_0_31    29.839   \n",
       "11337  jj-say_set1_collectorjj86_speakerjj541_12_0_118-3    29.830   \n",
       "11664      jj-say_set1_collectorjj84_speakerjj523_9_0_30    29.799   \n",
       "\n",
       "                                                     wav province_code  \\\n",
       "9169   /data/MTDATA/fn-2-018/root/person/say/jj/colle...            jj   \n",
       "11506  /data/MTDATA/fn-2-018/root/person/say/jj/colle...            jj   \n",
       "8434   /data/MTDATA/fn-2-018/root/person/say/jj/colle...            jj   \n",
       "10531  /data/MTDATA/fn-2-018/root/person/say/jj/colle...            jj   \n",
       "6461   /data/MTDATA/fn-2-018/root/person/say/jj/colle...            jj   \n",
       "7210   /data/MTDATA/fn-2-018/root/person/say/jj/colle...            jj   \n",
       "8214   /data/MTDATA/fn-2-018/root/person/say/jj/colle...            jj   \n",
       "2168   /data/MTDATA/fn-2-018/root/person/say/jj/colle...            jj   \n",
       "11337  /data/MTDATA/fn-2-018/root/person/say/jj/colle...            jj   \n",
       "11664  /data/MTDATA/fn-2-018/root/person/say/jj/colle...            jj   \n",
       "\n",
       "                                                     wrd  \n",
       "9169   그래서 자꾸 축구 선수 해가지고 축구 감독이 뒛더라면은 지금의 내가 더 나은 생활과...  \n",
       "11506  무사닌허면은 날씨가 자연이 이 이 자연이 체 거의 뭐 차지한다고 하지만 거기에 또 ...  \n",
       "8434   경행 빨래 행오민 돈 혼 십원씩 주면 그걸로 삥이엔 해그니 머리핀 요런 거 그런 거...  \n",
       "10531  솔잎 솔잎인디 그 솔잎 긁어당 영 줄 줄 이렇게 줄 칙 칙 칙이죠 지금 생각하면 그...  \n",
       "6461   그런데 이제 버스 정류소가 조금 멀어서 이제 안 좋은 것 같고 음 그리고 이제 병원...  \n",
       "7210   요자기 한 보름 뒛수다 보름 전에 잔칫집에 가는디 누게 잔치냐면 저기 우리 아주 딸...  \n",
       "8214   아이고 지금 사는 아파트에서는 이 지금 한 십년째 살암신디 그전에는 대단지 아파트에...  \n",
       "2168   옛날 부엌은 낭불 때고 밥 허곡 국 허고 또 곤로도 써낫고 지금은 집 안에서 서근에...  \n",
       "11337  이제는 그 집에서는 그 뭐 돼지 삶고 그런 거는 없기 때문에 뼈 사다가 등뼈 나는 ...  \n",
       "11664  형제들이랑 사이좋게 지냄신지 말암신지 그거는 모르고 그냥 나 마음으로만 나 모음 속...  "
      ]
     },
     "execution_count": 16,
     "metadata": {},
     "output_type": "execute_result"
    }
   ],
   "source": [
    "train_data_df.nlargest(n=10, columns=['duration'])"
   ]
  },
  {
   "cell_type": "code",
   "execution_count": 5,
   "metadata": {},
   "outputs": [
    {
     "data": {
      "text/plain": [
       "[Text(0.5, 1.0, 'jj')]"
      ]
     },
     "execution_count": 5,
     "metadata": {},
     "output_type": "execute_result"
    },
    {
     "data": {
      "image/png": "[encoded data removed]",
      "text/plain": [
       "<Figure size 432x288 with 1 Axes>"
      ]
     },
     "metadata": {
      "needs_background": "light"
     },
     "output_type": "display_data"
    }
   ],
   "source": [
    "hist, edges = np.histogram(train_data_df.duration, 10)\n",
    "sns.histplot(data_df.duration, bins=10, kde=False).set(title='jj')"
   ]
  },
  {
   "cell_type": "code",
   "execution_count": 6,
   "metadata": {},
   "outputs": [
    {
     "data": {
      "text/plain": [
       "[Text(0.5, 1.0, 'jj')]"
      ]
     },
     "execution_count": 6,
     "metadata": {},
     "output_type": "execute_result"
    },
    {
     "data": {
      "image/png": "[encoded data removed]",
      "text/plain": [
       "<Figure size 432x288 with 1 Axes>"
      ]
     },
     "metadata": {
      "needs_background": "light"
     },
     "output_type": "display_data"
    }
   ],
   "source": [
    "sns.boxplot(x = data_df.duration).set(title='jj')"
   ]
  },
  {
   "cell_type": "code",
   "execution_count": 7,
   "metadata": {},
   "outputs": [
    {
     "data": {
      "text/html": [
       "<div>\n",
       "<style scoped>\n",
       "    .dataframe tbody tr th:only-of-type {\n",
       "        vertical-align: middle;\n",
       "    }\n",
       "\n",
       "    .dataframe tbody tr th {\n",
       "        vertical-align: top;\n",
       "    }\n",
       "\n",
       "    .dataframe thead th {\n",
       "        text-align: right;\n",
       "    }\n",
       "</style>\n",
       "<table border=\"1\" class=\"dataframe\">\n",
       "  <thead>\n",
       "    <tr style=\"text-align: right;\">\n",
       "      <th></th>\n",
       "      <th>duration</th>\n",
       "    </tr>\n",
       "  </thead>\n",
       "  <tbody>\n",
       "    <tr>\n",
       "      <th>count</th>\n",
       "      <td>20678.000000</td>\n",
       "    </tr>\n",
       "    <tr>\n",
       "      <th>mean</th>\n",
       "      <td>7.853957</td>\n",
       "    </tr>\n",
       "    <tr>\n",
       "      <th>std</th>\n",
       "      <td>6.202036</td>\n",
       "    </tr>\n",
       "    <tr>\n",
       "      <th>min</th>\n",
       "      <td>0.100000</td>\n",
       "    </tr>\n",
       "    <tr>\n",
       "      <th>25%</th>\n",
       "      <td>3.384250</td>\n",
       "    </tr>\n",
       "    <tr>\n",
       "      <th>50%</th>\n",
       "      <td>5.319000</td>\n",
       "    </tr>\n",
       "    <tr>\n",
       "      <th>75%</th>\n",
       "      <td>10.839000</td>\n",
       "    </tr>\n",
       "    <tr>\n",
       "      <th>max</th>\n",
       "      <td>29.999000</td>\n",
       "    </tr>\n",
       "  </tbody>\n",
       "</table>\n",
       "</div>"
      ],
      "text/plain": [
       "           duration\n",
       "count  20678.000000\n",
       "mean       7.853957\n",
       "std        6.202036\n",
       "min        0.100000\n",
       "25%        3.384250\n",
       "50%        5.319000\n",
       "75%       10.839000\n",
       "max       29.999000"
      ]
     },
     "execution_count": 7,
     "metadata": {},
     "output_type": "execute_result"
    }
   ],
   "source": [
    "train_data_df.describe()"
   ]
  },
  {
   "cell_type": "code",
   "execution_count": 58,
   "metadata": {},
   "outputs": [
    {
     "data": {
      "text/plain": [
       "1.6082502777777778"
      ]
     },
     "execution_count": 58,
     "metadata": {},
     "output_type": "execute_result"
    }
   ],
   "source": [
    "train_data_df.duration.sum()/3600"
   ]
  },
  {
   "cell_type": "code",
   "execution_count": 1,
   "metadata": {},
   "outputs": [],
   "source": [
    "# 충청\n",
    "data_file = '/workspace/speechbrain/recipes/KdialectSpeech/Tokenizer/results/data_prepared/cc/total.csv'\n",
    "train_data_file = '/workspace/speechbrain/recipes/KdialectSpeech/Tokenizer/results/data_prepared/cc/train.csv'"
   ]
  },
  {
   "cell_type": "code",
   "execution_count": 4,
   "metadata": {},
   "outputs": [],
   "source": [
    "data_df = pd.read_csv(data_file)\n",
    "train_data_df = pd.read_csv(train_data_file)"
   ]
  },
  {
   "cell_type": "code",
   "execution_count": 5,
   "metadata": {},
   "outputs": [
    {
     "name": "stdout",
     "output_type": "stream",
     "text": [
      "토탈 시간 합계 : 191.36273694444444\n"
     ]
    },
    {
     "data": {
      "text/html": [
       "<div>\n",
       "<style scoped>\n",
       "    .dataframe tbody tr th:only-of-type {\n",
       "        vertical-align: middle;\n",
       "    }\n",
       "\n",
       "    .dataframe tbody tr th {\n",
       "        vertical-align: top;\n",
       "    }\n",
       "\n",
       "    .dataframe thead th {\n",
       "        text-align: right;\n",
       "    }\n",
       "</style>\n",
       "<table border=\"1\" class=\"dataframe\">\n",
       "  <thead>\n",
       "    <tr style=\"text-align: right;\">\n",
       "      <th></th>\n",
       "      <th>duration</th>\n",
       "    </tr>\n",
       "  </thead>\n",
       "  <tbody>\n",
       "    <tr>\n",
       "      <th>count</th>\n",
       "      <td>102881.000000</td>\n",
       "    </tr>\n",
       "    <tr>\n",
       "      <th>mean</th>\n",
       "      <td>6.696143</td>\n",
       "    </tr>\n",
       "    <tr>\n",
       "      <th>std</th>\n",
       "      <td>4.432956</td>\n",
       "    </tr>\n",
       "    <tr>\n",
       "      <th>min</th>\n",
       "      <td>0.100000</td>\n",
       "    </tr>\n",
       "    <tr>\n",
       "      <th>25%</th>\n",
       "      <td>3.659000</td>\n",
       "    </tr>\n",
       "    <tr>\n",
       "      <th>50%</th>\n",
       "      <td>5.979000</td>\n",
       "    </tr>\n",
       "    <tr>\n",
       "      <th>75%</th>\n",
       "      <td>8.459000</td>\n",
       "    </tr>\n",
       "    <tr>\n",
       "      <th>max</th>\n",
       "      <td>29.999000</td>\n",
       "    </tr>\n",
       "  </tbody>\n",
       "</table>\n",
       "</div>"
      ],
      "text/plain": [
       "            duration\n",
       "count  102881.000000\n",
       "mean        6.696143\n",
       "std         4.432956\n",
       "min         0.100000\n",
       "25%         3.659000\n",
       "50%         5.979000\n",
       "75%         8.459000\n",
       "max        29.999000"
      ]
     },
     "execution_count": 5,
     "metadata": {},
     "output_type": "execute_result"
    }
   ],
   "source": [
    "print(f'토탈 시간 합계 : {data_df.duration.sum()/3600}')\n",
    "data_df.describe()"
   ]
  },
  {
   "cell_type": "code",
   "execution_count": 53,
   "metadata": {},
   "outputs": [
    {
     "data": {
      "text/plain": [
       "[Text(0.5, 1.0, 'cc')]"
      ]
     },
     "execution_count": 53,
     "metadata": {},
     "output_type": "execute_result"
    },
    {
     "data": {
      "image/png": "[encoded data removed]",
      "text/plain": [
       "<Figure size 432x288 with 1 Axes>"
      ]
     },
     "metadata": {
      "needs_background": "light"
     },
     "output_type": "display_data"
    }
   ],
   "source": [
    "hist, edges = np.histogram(train_data_df.duration, 10)\n",
    "sns.histplot(data_df.duration, bins=10, kde=False).set(title='cc')"
   ]
  },
  {
   "cell_type": "code",
   "execution_count": 54,
   "metadata": {},
   "outputs": [
    {
     "data": {
      "text/plain": [
       "[Text(0.5, 1.0, 'cc')]"
      ]
     },
     "execution_count": 54,
     "metadata": {},
     "output_type": "execute_result"
    },
    {
     "data": {
      "image/png": "[encoded data removed]",
      "text/plain": [
       "<Figure size 432x288 with 1 Axes>"
      ]
     },
     "metadata": {
      "needs_background": "light"
     },
     "output_type": "display_data"
    }
   ],
   "source": [
    "sns.boxplot(x = data_df.duration).set(title='cc')"
   ]
  },
  {
   "cell_type": "code",
   "execution_count": 63,
   "metadata": {},
   "outputs": [
    {
     "data": {
      "text/html": [
       "<div>\n",
       "<style scoped>\n",
       "    .dataframe tbody tr th:only-of-type {\n",
       "        vertical-align: middle;\n",
       "    }\n",
       "\n",
       "    .dataframe tbody tr th {\n",
       "        vertical-align: top;\n",
       "    }\n",
       "\n",
       "    .dataframe thead th {\n",
       "        text-align: right;\n",
       "    }\n",
       "</style>\n",
       "<table border=\"1\" class=\"dataframe\">\n",
       "  <thead>\n",
       "    <tr style=\"text-align: right;\">\n",
       "      <th></th>\n",
       "      <th>duration</th>\n",
       "    </tr>\n",
       "  </thead>\n",
       "  <tbody>\n",
       "    <tr>\n",
       "      <th>count</th>\n",
       "      <td>19225.000000</td>\n",
       "    </tr>\n",
       "    <tr>\n",
       "      <th>mean</th>\n",
       "      <td>7.010365</td>\n",
       "    </tr>\n",
       "    <tr>\n",
       "      <th>std</th>\n",
       "      <td>5.246368</td>\n",
       "    </tr>\n",
       "    <tr>\n",
       "      <th>min</th>\n",
       "      <td>0.100000</td>\n",
       "    </tr>\n",
       "    <tr>\n",
       "      <th>25%</th>\n",
       "      <td>3.199000</td>\n",
       "    </tr>\n",
       "    <tr>\n",
       "      <th>50%</th>\n",
       "      <td>5.699000</td>\n",
       "    </tr>\n",
       "    <tr>\n",
       "      <th>75%</th>\n",
       "      <td>9.300000</td>\n",
       "    </tr>\n",
       "    <tr>\n",
       "      <th>max</th>\n",
       "      <td>29.963000</td>\n",
       "    </tr>\n",
       "  </tbody>\n",
       "</table>\n",
       "</div>"
      ],
      "text/plain": [
       "           duration\n",
       "count  19225.000000\n",
       "mean       7.010365\n",
       "std        5.246368\n",
       "min        0.100000\n",
       "25%        3.199000\n",
       "50%        5.699000\n",
       "75%        9.300000\n",
       "max       29.963000"
      ]
     },
     "execution_count": 63,
     "metadata": {},
     "output_type": "execute_result"
    }
   ],
   "source": [
    "train_data_df.describe()"
   ]
  },
  {
   "cell_type": "code",
   "execution_count": 64,
   "metadata": {},
   "outputs": [
    {
     "data": {
      "text/plain": [
       "37.43729472222222"
      ]
     },
     "execution_count": 64,
     "metadata": {},
     "output_type": "execute_result"
    }
   ],
   "source": [
    "train_data_df.duration.sum()/3600"
   ]
  },
  {
   "cell_type": "code",
   "execution_count": 42,
   "metadata": {},
   "outputs": [],
   "source": [
    "# KsponSpeech\n",
    "train_data_file = '/workspace/speechbrain/recipes/KsponSpeech/Tokenizer/results/5K_subword_unigram_LM/train.csv'"
   ]
  },
  {
   "cell_type": "code",
   "execution_count": 43,
   "metadata": {},
   "outputs": [],
   "source": [
    "train_data_df = pd.read_csv(train_data_file)"
   ]
  },
  {
   "cell_type": "code",
   "execution_count": 44,
   "metadata": {},
   "outputs": [
    {
     "name": "stdout",
     "output_type": "stream",
     "text": [
      "토탈 시간 합계 : 965.1538041666665\n"
     ]
    },
    {
     "data": {
      "text/html": [
       "<div>\n",
       "<style scoped>\n",
       "    .dataframe tbody tr th:only-of-type {\n",
       "        vertical-align: middle;\n",
       "    }\n",
       "\n",
       "    .dataframe tbody tr th {\n",
       "        vertical-align: top;\n",
       "    }\n",
       "\n",
       "    .dataframe thead th {\n",
       "        text-align: right;\n",
       "    }\n",
       "</style>\n",
       "<table border=\"1\" class=\"dataframe\">\n",
       "  <thead>\n",
       "    <tr style=\"text-align: right;\">\n",
       "      <th></th>\n",
       "      <th>duration</th>\n",
       "      <th>spk_id</th>\n",
       "    </tr>\n",
       "  </thead>\n",
       "  <tbody>\n",
       "    <tr>\n",
       "      <th>count</th>\n",
       "      <td>620000.000000</td>\n",
       "      <td>620000.000000</td>\n",
       "    </tr>\n",
       "    <tr>\n",
       "      <th>mean</th>\n",
       "      <td>5.604119</td>\n",
       "      <td>310000.500000</td>\n",
       "    </tr>\n",
       "    <tr>\n",
       "      <th>std</th>\n",
       "      <td>4.564674</td>\n",
       "      <td>178978.727786</td>\n",
       "    </tr>\n",
       "    <tr>\n",
       "      <th>min</th>\n",
       "      <td>0.998938</td>\n",
       "      <td>1.000000</td>\n",
       "    </tr>\n",
       "    <tr>\n",
       "      <th>25%</th>\n",
       "      <td>2.462000</td>\n",
       "      <td>155000.750000</td>\n",
       "    </tr>\n",
       "    <tr>\n",
       "      <th>50%</th>\n",
       "      <td>4.120000</td>\n",
       "      <td>310000.500000</td>\n",
       "    </tr>\n",
       "    <tr>\n",
       "      <th>75%</th>\n",
       "      <td>7.228000</td>\n",
       "      <td>465000.250000</td>\n",
       "    </tr>\n",
       "    <tr>\n",
       "      <th>max</th>\n",
       "      <td>30.997000</td>\n",
       "      <td>620000.000000</td>\n",
       "    </tr>\n",
       "  </tbody>\n",
       "</table>\n",
       "</div>"
      ],
      "text/plain": [
       "            duration         spk_id\n",
       "count  620000.000000  620000.000000\n",
       "mean        5.604119  310000.500000\n",
       "std         4.564674  178978.727786\n",
       "min         0.998938       1.000000\n",
       "25%         2.462000  155000.750000\n",
       "50%         4.120000  310000.500000\n",
       "75%         7.228000  465000.250000\n",
       "max        30.997000  620000.000000"
      ]
     },
     "execution_count": 44,
     "metadata": {},
     "output_type": "execute_result"
    }
   ],
   "source": [
    "print(f'토탈 시간 합계 : {train_data_df.duration.sum()/3600}')\n",
    "train_data_df.describe()"
   ]
  },
  {
   "cell_type": "code",
   "execution_count": 45,
   "metadata": {},
   "outputs": [
    {
     "data": {
      "text/plain": [
       "[Text(0.5, 1.0, 'KsponSpeech')]"
      ]
     },
     "execution_count": 45,
     "metadata": {},
     "output_type": "execute_result"
    },
    {
     "data": {
      "image/png": "[encoded data removed]",
      "text/plain": [
       "<Figure size 432x288 with 1 Axes>"
      ]
     },
     "metadata": {
      "needs_background": "light"
     },
     "output_type": "display_data"
    }
   ],
   "source": [
    "hist, edges = np.histogram(train_data_df.duration, 10)\n",
    "sns.histplot(train_data_df.duration, bins=10, kde=False).set(title='KsponSpeech')"
   ]
  },
  {
   "cell_type": "code",
   "execution_count": 46,
   "metadata": {},
   "outputs": [
    {
     "data": {
      "text/plain": [
       "[Text(0.5, 1.0, 'KsponSpeech')]"
      ]
     },
     "execution_count": 46,
     "metadata": {},
     "output_type": "execute_result"
    },
    {
     "data": {
      "image/png": "[encoded data removed]",
      "text/plain": [
       "<Figure size 432x288 with 1 Axes>"
      ]
     },
     "metadata": {
      "needs_background": "light"
     },
     "output_type": "display_data"
    }
   ],
   "source": [
    "sns.boxplot(x = train_data_df.duration).set(title='KsponSpeech')"
   ]
  },
  {
   "cell_type": "code",
   "execution_count": 65,
   "metadata": {},
   "outputs": [],
   "source": [
    "# sr_abnormal_list = []\n",
    "# for file_path in data_df.wav:\n",
    "#     frame_rate = librosa.get_samplerate(file_path)\n",
    "#     if frame_rate != 16000:\n",
    "#         # print(f'sample rate {frame_rate} : {file_path}')\n",
    "#         name = Path(file_path).stem\n",
    "#         # if '-' not in name:\n",
    "#         #     print(name)\n",
    "#         #     sr_abnormal_list.append(name)\n",
    "        \n",
    "#         # sr_abnormal_list.append(name)\n",
    "#         sr_abnormal_list.append(file_path)\n",
    "\n",
    "#         # ar_abnormal = f'sample rate {frame_rate} : {file_path}'\n",
    "#         # sr_abnormal_list.append(ar_abnormal)\n",
    "\n",
    "# sr_abnormal_df = pd.DataFrame(sr_abnormal_list)\n",
    "# sr_abnormal_df.to_csv('sr_48k_2.csv')"
   ]
  },
  {
   "cell_type": "code",
   "execution_count": 66,
   "metadata": {},
   "outputs": [],
   "source": [
    "# len(sr_abnormal_list)"
   ]
  },
  {
   "cell_type": "code",
   "execution_count": 67,
   "metadata": {},
   "outputs": [],
   "source": [
    "# sr_abnormal_list[:100]"
   ]
  },
  {
   "cell_type": "code",
   "execution_count": 68,
   "metadata": {},
   "outputs": [],
   "source": [
    "# sr_abnormal_list #[:10]"
   ]
  },
  {
   "cell_type": "code",
   "execution_count": 69,
   "metadata": {},
   "outputs": [],
   "source": [
    "# for sr_abnormal in sr_abnormal_list:\n",
    "#     if '-' not in sr_abnormal:\n",
    "#         print(sr_abnormal)"
   ]
  },
  {
   "cell_type": "code",
   "execution_count": 70,
   "metadata": {},
   "outputs": [],
   "source": [
    "# data_file_2 = '/speechbrain/recipes/KdialectSpeech/Tokenizer/results/2K_subword_unigram_LM/gs/train.csv'"
   ]
  },
  {
   "cell_type": "code",
   "execution_count": 71,
   "metadata": {},
   "outputs": [],
   "source": [
    "# data_df_2 = pd.read_csv(data_file_2)"
   ]
  },
  {
   "cell_type": "code",
   "execution_count": 72,
   "metadata": {},
   "outputs": [],
   "source": [
    "# data_df_2.describe()"
   ]
  }
 ],
 "metadata": {
  "kernelspec": {
   "display_name": "Python 3.8.12 ('base')",
   "language": "python",
   "name": "python3"
  },
  "language_info": {
   "codemirror_mode": {
    "name": "ipython",
    "version": 3
   },
   "file_extension": ".py",
   "mimetype": "text/x-python",
   "name": "python",
   "nbconvert_exporter": "python",
   "pygments_lexer": "ipython3",
   "version": "3.8.12"
  },
  "orig_nbformat": 4,
  "vscode": {
   "interpreter": {
    "hash": "d4d1e4263499bec80672ea0156c357c1ee493ec2b1c70f0acce89fc37c4a6abe"
   }
  }
 },
 "nbformat": 4,
 "nbformat_minor": 2
}
