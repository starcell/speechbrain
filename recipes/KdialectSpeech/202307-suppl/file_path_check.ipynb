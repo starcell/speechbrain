{
 "cells": [
  {
   "cell_type": "code",
   "execution_count": 1,
   "metadata": {},
   "outputs": [],
   "source": [
    "from pathlib import Path"
   ]
  },
  {
   "cell_type": "code",
   "execution_count": 2,
   "metadata": {},
   "outputs": [],
   "source": [
    "list_file = \"충청도_test_1.csv\""
   ]
  },
  {
   "cell_type": "code",
   "execution_count": 3,
   "metadata": {},
   "outputs": [
    {
     "name": "stdout",
     "output_type": "stream",
     "text": [
      "/data/kdialect_annot.csv\n",
      "True\n",
      "/data/nia\n",
      "True\n",
      "/data/nia/139-2.중·노년층 한국어 방언 데이터 (충청도, 전라도, 제주도)/08.최종산출물/01-1.최종데이터(업로드)/3.Test/02.라벨링데이터/01. 충청도/01. 1인발화 따라말하기/st_set1_collectorcc109_speakercc2387_9_5.json\n",
      "True\n",
      "/data/nia/139-2.중·노년층 한국어 방언 데이터 (충청도, 전라도, 제주도)/08.최종산출물/01-1.최종데이터(업로드)/3.Test/02.라벨링데이터/01. 충청도/01. 1인발화 따라말하기/st_set1_collectorcc109_speakercc2387_90_4.json\n",
      "True\n"
     ]
    }
   ],
   "source": [
    "with open(str(list_file), 'r') as list_file:\n",
    "    # total_num_of_line = 0\n",
    "    # num_of_not_exist = 0\n",
    "    for line in list_file:\n",
    "        # total_num_of_line += 1\n",
    "        print(line.strip())\n",
    "        file_path = Path(line.strip())\n",
    "        # print(str(file_path))\n",
    "        print(file_path.exists())"
   ]
  },
  {
   "cell_type": "code",
   "execution_count": 4,
   "metadata": {},
   "outputs": [
    {
     "data": {
      "text/plain": [
       "True"
      ]
     },
     "execution_count": 4,
     "metadata": {},
     "output_type": "execute_result"
    }
   ],
   "source": [
    "Path(\"/data/kdialect_annot.csv\").exists()"
   ]
  },
  {
   "cell_type": "code",
   "execution_count": null,
   "metadata": {},
   "outputs": [],
   "source": []
  }
 ],
 "metadata": {
  "kernelspec": {
   "display_name": "base",
   "language": "python",
   "name": "python3"
  },
  "language_info": {
   "codemirror_mode": {
    "name": "ipython",
    "version": 3
   },
   "file_extension": ".py",
   "mimetype": "text/x-python",
   "name": "python",
   "nbconvert_exporter": "python",
   "pygments_lexer": "ipython3",
   "version": "3.8.12"
  },
  "orig_nbformat": 4
 },
 "nbformat": 4,
 "nbformat_minor": 2
}
