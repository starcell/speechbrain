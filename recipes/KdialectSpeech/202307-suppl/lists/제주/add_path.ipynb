{
 "cells": [
  {
   "cell_type": "code",
   "execution_count": 4,
   "metadata": {},
   "outputs": [],
   "source": [
    "def add_prefix_to_lines(input_file, output_file, prefix):\n",
    "    try:\n",
    "        with open(input_file, 'r') as infile, open(output_file, 'w') as outfile:\n",
    "            for line in infile:\n",
    "                # 각 줄의 앞에 지정된 prefix를 추가하여 수정한 내용을 새로운 파일에 쓴다.\n",
    "                modified_line = prefix + line\n",
    "                outfile.write(modified_line)\n",
    "    except FileNotFoundError:\n",
    "        print(\"파일을 찾을 수 없습니다.\")\n",
    "    except Exception as e:\n",
    "        print(f\"오류가 발생했습니다: {e}\")"
   ]
  },
  {
   "cell_type": "code",
   "execution_count": 5,
   "metadata": {},
   "outputs": [],
   "source": [
    "# # 사용 예시\n",
    "# input_filename = '입력파일.txt'\n",
    "# output_filename = '출력파일.txt'\n",
    "# prefix_to_add = '추가될문자열: '\n",
    "\n",
    "input_file = \"cc_test_file.csv\"\n",
    "output_file = \"cc_test_path.csv\"\n",
    "folder_path = \"/data/nia/139-2.중·노년층 한국어 방언 데이터 (충청도, 전라도, 제주도)/07.보완조치/01.보완완료/02.라벨링데이터/01. 충청도/01. 1인발화 따라말하기/\"\n",
    "\n",
    "\n",
    "add_prefix_to_lines(input_file, output_file, folder_path)"
   ]
  }
 ],
 "metadata": {
  "kernelspec": {
   "display_name": "base",
   "language": "python",
   "name": "python3"
  },
  "language_info": {
   "codemirror_mode": {
    "name": "ipython",
    "version": 3
   },
   "file_extension": ".py",
   "mimetype": "text/x-python",
   "name": "python",
   "nbconvert_exporter": "python",
   "pygments_lexer": "ipython3",
   "version": "3.8.12"
  },
  "orig_nbformat": 4
 },
 "nbformat": 4,
 "nbformat_minor": 2
}
