{
 "cells": [
  {
   "cell_type": "code",
   "execution_count": 1,
   "metadata": {},
   "outputs": [],
   "source": [
    "import torchaudio\n",
    "from speechbrain.pretrained import EncoderClassifier"
   ]
  },
  {
   "cell_type": "code",
   "execution_count": 2,
   "metadata": {},
   "outputs": [
    {
     "name": "stdout",
     "output_type": "stream",
     "text": [
      "{'starting_index': 0}\n"
     ]
    }
   ],
   "source": [
    "province_code = EncoderClassifier.from_hparams(\n",
    "    source=\"pretrained-model-src\", \n",
    "    savedir=\"pretrained-model-save\"\n",
    ")"
   ]
  },
  {
   "cell_type": "code",
   "execution_count": 3,
   "metadata": {},
   "outputs": [
    {
     "name": "stdout",
     "output_type": "stream",
     "text": [
      "(tensor([[-1.1454, -3.3068, -1.4048, -3.6288, -0.9854]]), tensor([-0.9854]), tensor([4]), ['cc: 충청'])\n"
     ]
    }
   ],
   "source": [
    "signal = province_code.load_audio(\"/data/MTDATA/fn-2-018/root/person/st/gw/collectorgw88/st_set1_collectorgw88_speakergw407_8_11.wav\")\n",
    "prediction =  province_code.classify_batch(signal)\n",
    "print(prediction)"
   ]
  },
  {
   "cell_type": "code",
   "execution_count": 6,
   "metadata": {},
   "outputs": [
    {
     "name": "stdout",
     "output_type": "stream",
     "text": [
      "(tensor([[-7.5612, -0.3471, -1.3751, -8.1841, -3.2270]]), tensor([-0.3471]), tensor([1]), ['gs: 경상'])\n"
     ]
    }
   ],
   "source": [
    "signal = province_code.load_audio(\"/data/MTDATA/fn-2-018/root/person/st/gs/collectorgs31/st_set2_collectorgs31_speakergs98_68_6.wav\")\n",
    "prediction =  province_code.classify_batch(signal)\n",
    "print(prediction)"
   ]
  },
  {
   "cell_type": "code",
   "execution_count": 7,
   "metadata": {},
   "outputs": [
    {
     "name": "stdout",
     "output_type": "stream",
     "text": [
      "(tensor([[-1.7571, -3.0018, -1.1641, -2.0058, -1.1056]]), tensor([-1.1056]), tensor([4]), ['cc: 충청'])\n"
     ]
    }
   ],
   "source": [
    "signal = province_code.load_audio(\"/data/MTDATA/fn-2-018/root/person/st/jl/collectorjl20/st_set3_collectorjl20_speakerjl218_31_12.wav\")\n",
    "prediction =  province_code.classify_batch(signal)\n",
    "print(prediction)"
   ]
  },
  {
   "cell_type": "code",
   "execution_count": 8,
   "metadata": {},
   "outputs": [
    {
     "name": "stdout",
     "output_type": "stream",
     "text": [
      "(tensor([[-9.4178e+00, -1.1504e+01, -8.5810e+00, -5.9206e-04, -8.0697e+00]]), tensor([-0.0006]), tensor([3]), ['jj: 제주'])\n"
     ]
    }
   ],
   "source": [
    "signal = province_code.load_audio('/data/MTDATA/fn-2-018/root/person/st/jj/collectorjj10/st_set1_collectorjj10_speakerjj13_81_10.wav')\n",
    "prediction =  province_code.classify_batch(signal)\n",
    "print(prediction)"
   ]
  },
  {
   "cell_type": "code",
   "execution_count": 9,
   "metadata": {},
   "outputs": [
    {
     "name": "stdout",
     "output_type": "stream",
     "text": [
      "(tensor([[-5.4047, -5.3909, -5.1641, -4.6967, -0.0242]]), tensor([-0.0242]), tensor([4]), ['cc: 충청'])\n"
     ]
    }
   ],
   "source": [
    "signal = province_code.load_audio('/data/MTDATA/fn-2-018/root/person/st/cc/collectorcc46/st_set1_collectorcc46_speakercc308_46_7.wav')\n",
    "prediction =  province_code.classify_batch(signal)\n",
    "print(prediction)"
   ]
  },
  {
   "cell_type": "code",
   "execution_count": 14,
   "metadata": {},
   "outputs": [
    {
     "name": "stdout",
     "output_type": "stream",
     "text": [
      "tensor([0.2031])\n"
     ]
    }
   ],
   "source": [
    "print(prediction[1].exp())"
   ]
  },
  {
   "cell_type": "code",
   "execution_count": 19,
   "metadata": {},
   "outputs": [
    {
     "name": "stdout",
     "output_type": "stream",
     "text": [
      "['jl: 전라']\n"
     ]
    }
   ],
   "source": [
    "print(prediction[3])"
   ]
  },
  {
   "cell_type": "code",
   "execution_count": 20,
   "metadata": {},
   "outputs": [],
   "source": [
    "emb =  province_code.encode_batch(signal)"
   ]
  },
  {
   "cell_type": "code",
   "execution_count": 21,
   "metadata": {},
   "outputs": [
    {
     "name": "stdout",
     "output_type": "stream",
     "text": [
      "torch.Size([1, 1, 256])\n"
     ]
    }
   ],
   "source": [
    "print(emb.shape)"
   ]
  }
 ],
 "metadata": {
  "kernelspec": {
   "display_name": "Python 3.8.12 ('base')",
   "language": "python",
   "name": "python3"
  },
  "language_info": {
   "codemirror_mode": {
    "name": "ipython",
    "version": 3
   },
   "file_extension": ".py",
   "mimetype": "text/x-python",
   "name": "python",
   "nbconvert_exporter": "python",
   "pygments_lexer": "ipython3",
   "version": "3.8.12"
  },
  "orig_nbformat": 4,
  "vscode": {
   "interpreter": {
    "hash": "d4d1e4263499bec80672ea0156c357c1ee493ec2b1c70f0acce89fc37c4a6abe"
   }
  }
 },
 "nbformat": 4,
 "nbformat_minor": 2
}
