{
 "cells": [
  {
   "cell_type": "code",
   "execution_count": 1,
   "metadata": {},
   "outputs": [],
   "source": [
    "import torchaudio\n",
    "from speechbrain.pretrained import EncoderClassifier\n",
    "import pandas as pd\n",
    "import seaborn as sn\n",
    "from sklearn import metrics\n",
    "from datetime import datetime"
   ]
  },
  {
   "cell_type": "code",
   "execution_count": 2,
   "metadata": {},
   "outputs": [],
   "source": [
    "province_code = EncoderClassifier.from_hparams(\n",
    "    source=\"pretrained-model-src\", \n",
    "    savedir=\"pretrained-model-save\"\n",
    ")"
   ]
  },
  {
   "cell_type": "code",
   "execution_count": 3,
   "metadata": {},
   "outputs": [
    {
     "name": "stdout",
     "output_type": "stream",
     "text": [
      "(tensor([[-2.7466e-03, -7.1326e+00, -6.3663e+00, -8.3966e+00]]), tensor([-0.0027]), tensor([0]), ['gw: 강원'])\n"
     ]
    }
   ],
   "source": [
    "signal = province_code.load_audio(\"/data/MTDATA/fn-2-018/root/person/st/gw/collectorgw88/st_set1_collectorgw88_speakergw407_8_11.wav\")\n",
    "prediction =  province_code.classify_batch(signal)\n",
    "print(prediction)"
   ]
  },
  {
   "cell_type": "code",
   "execution_count": 4,
   "metadata": {},
   "outputs": [
    {
     "name": "stdout",
     "output_type": "stream",
     "text": [
      "(tensor([[-1.5945e+01, -3.4148e-04, -8.1697e+00, -9.7523e+00]]), tensor([-0.0003]), tensor([1]), ['gs: 경상'])\n"
     ]
    }
   ],
   "source": [
    "signal = province_code.load_audio(\"/data/MTDATA/fn-2-018/root/person/st/gs/collectorgs31/st_set2_collectorgs31_speakergs98_68_6.wav\")\n",
    "prediction =  province_code.classify_batch(signal)\n",
    "print(prediction)"
   ]
  },
  {
   "cell_type": "code",
   "execution_count": 5,
   "metadata": {},
   "outputs": [
    {
     "name": "stdout",
     "output_type": "stream",
     "text": [
      "(tensor([[-3.4452, -6.1406, -0.0613, -3.6723]]), tensor([-0.0613]), tensor([2]), ['jl: 전라'])\n"
     ]
    }
   ],
   "source": [
    "signal = province_code.load_audio(\"/data/MTDATA/fn-2-018/root/person/st/jl/collectorjl20/st_set3_collectorjl20_speakerjl218_31_12.wav\")\n",
    "prediction =  province_code.classify_batch(signal)\n",
    "print(prediction)"
   ]
  },
  {
   "cell_type": "code",
   "execution_count": 6,
   "metadata": {},
   "outputs": [
    {
     "name": "stdout",
     "output_type": "stream",
     "text": [
      "(tensor([[-0.3828, -7.7525, -1.3332, -2.9195]]), tensor([-0.3828]), tensor([0]), ['gw: 강원'])\n"
     ]
    }
   ],
   "source": [
    "signal = province_code.load_audio('/data/MTDATA/fn-2-018/root/person/st/jj/collectorjj10/st_set1_collectorjj10_speakerjj13_81_10.wav')\n",
    "prediction =  province_code.classify_batch(signal)\n",
    "print(prediction)"
   ]
  },
  {
   "cell_type": "code",
   "execution_count": 7,
   "metadata": {},
   "outputs": [
    {
     "name": "stdout",
     "output_type": "stream",
     "text": [
      "(tensor([[-1.4590e+01, -1.2951e+01, -1.5177e+01, -3.0994e-06]]), tensor([-3.0994e-06]), tensor([3]), ['cc: 충청'])\n"
     ]
    }
   ],
   "source": [
    "signal = province_code.load_audio('/data/MTDATA/fn-2-018/root/person/st/cc/collectorcc46/st_set1_collectorcc46_speakercc308_46_7.wav')\n",
    "prediction =  province_code.classify_batch(signal)\n",
    "print(prediction)"
   ]
  },
  {
   "cell_type": "code",
   "execution_count": null,
   "metadata": {},
   "outputs": [],
   "source": [
    "print(prediction[1].exp())"
   ]
  },
  {
   "cell_type": "code",
   "execution_count": null,
   "metadata": {},
   "outputs": [],
   "source": [
    "print(prediction[3])"
   ]
  },
  {
   "cell_type": "code",
   "execution_count": null,
   "metadata": {},
   "outputs": [],
   "source": [
    "emb =  province_code.encode_batch(signal)"
   ]
  },
  {
   "cell_type": "code",
   "execution_count": null,
   "metadata": {},
   "outputs": [],
   "source": [
    "print(emb.shape)"
   ]
  },
  {
   "cell_type": "code",
   "execution_count": 8,
   "metadata": {},
   "outputs": [],
   "source": [
    "test_data = '../classifier_data/test.csv'\n",
    "test_df = pd.read_csv(test_data)\n",
    "test_df = test_df[['wav', 'province_code']]"
   ]
  },
  {
   "cell_type": "code",
   "execution_count": null,
   "metadata": {},
   "outputs": [],
   "source": [
    "test_df"
   ]
  },
  {
   "cell_type": "code",
   "execution_count": 9,
   "metadata": {},
   "outputs": [],
   "source": [
    "# province_code_list = ['gw', 'gs', 'jl', 'jj', 'cc']\n",
    "province_code_list = ['gw', 'gs', 'jl', 'cc']"
   ]
  },
  {
   "cell_type": "code",
   "execution_count": 11,
   "metadata": {},
   "outputs": [
    {
     "data": {
      "text/plain": [
       "3"
      ]
     },
     "execution_count": 11,
     "metadata": {},
     "output_type": "execute_result"
    }
   ],
   "source": [
    "province_code_list.index('cc')"
   ]
  },
  {
   "cell_type": "code",
   "execution_count": 12,
   "metadata": {},
   "outputs": [],
   "source": [
    "test_df['province_id'] = test_df.apply(lambda x : province_code_list.index(x['province_code']), axis=1)"
   ]
  },
  {
   "cell_type": "code",
   "execution_count": 13,
   "metadata": {},
   "outputs": [
    {
     "data": {
      "text/html": [
       "<div>\n",
       "<style scoped>\n",
       "    .dataframe tbody tr th:only-of-type {\n",
       "        vertical-align: middle;\n",
       "    }\n",
       "\n",
       "    .dataframe tbody tr th {\n",
       "        vertical-align: top;\n",
       "    }\n",
       "\n",
       "    .dataframe thead th {\n",
       "        text-align: right;\n",
       "    }\n",
       "</style>\n",
       "<table border=\"1\" class=\"dataframe\">\n",
       "  <thead>\n",
       "    <tr style=\"text-align: right;\">\n",
       "      <th></th>\n",
       "      <th>wav</th>\n",
       "      <th>province_code</th>\n",
       "      <th>province_id</th>\n",
       "    </tr>\n",
       "  </thead>\n",
       "  <tbody>\n",
       "    <tr>\n",
       "      <th>0</th>\n",
       "      <td>/data/MTDATA/fn-2-018/root/person/st/gw/collec...</td>\n",
       "      <td>gw</td>\n",
       "      <td>0</td>\n",
       "    </tr>\n",
       "    <tr>\n",
       "      <th>1</th>\n",
       "      <td>/data/MTDATA/fn-2-018/root/person/st/gw/collec...</td>\n",
       "      <td>gw</td>\n",
       "      <td>0</td>\n",
       "    </tr>\n",
       "    <tr>\n",
       "      <th>2</th>\n",
       "      <td>/data/MTDATA/fn-2-018/root/person/st/gw/collec...</td>\n",
       "      <td>gw</td>\n",
       "      <td>0</td>\n",
       "    </tr>\n",
       "    <tr>\n",
       "      <th>3</th>\n",
       "      <td>/data/MTDATA/fn-2-018/root/person/st/gw/collec...</td>\n",
       "      <td>gw</td>\n",
       "      <td>0</td>\n",
       "    </tr>\n",
       "    <tr>\n",
       "      <th>4</th>\n",
       "      <td>/data/MTDATA/fn-2-018/root/person/st/gw/collec...</td>\n",
       "      <td>gw</td>\n",
       "      <td>0</td>\n",
       "    </tr>\n",
       "    <tr>\n",
       "      <th>...</th>\n",
       "      <td>...</td>\n",
       "      <td>...</td>\n",
       "      <td>...</td>\n",
       "    </tr>\n",
       "    <tr>\n",
       "      <th>6795</th>\n",
       "      <td>/data/MTDATA/fn-2-018/root/person/st/cc/collec...</td>\n",
       "      <td>cc</td>\n",
       "      <td>3</td>\n",
       "    </tr>\n",
       "    <tr>\n",
       "      <th>6796</th>\n",
       "      <td>/data/MTDATA/fn-2-018/root/person/st/cc/collec...</td>\n",
       "      <td>cc</td>\n",
       "      <td>3</td>\n",
       "    </tr>\n",
       "    <tr>\n",
       "      <th>6797</th>\n",
       "      <td>/data/MTDATA/fn-2-018/root/person/st/cc/collec...</td>\n",
       "      <td>cc</td>\n",
       "      <td>3</td>\n",
       "    </tr>\n",
       "    <tr>\n",
       "      <th>6798</th>\n",
       "      <td>/data/MTDATA/fn-2-018/root/person/st/cc/collec...</td>\n",
       "      <td>cc</td>\n",
       "      <td>3</td>\n",
       "    </tr>\n",
       "    <tr>\n",
       "      <th>6799</th>\n",
       "      <td>/data/MTDATA/fn-2-018/root/person/st/cc/collec...</td>\n",
       "      <td>cc</td>\n",
       "      <td>3</td>\n",
       "    </tr>\n",
       "  </tbody>\n",
       "</table>\n",
       "<p>6800 rows × 3 columns</p>\n",
       "</div>"
      ],
      "text/plain": [
       "                                                    wav province_code  \\\n",
       "0     /data/MTDATA/fn-2-018/root/person/st/gw/collec...            gw   \n",
       "1     /data/MTDATA/fn-2-018/root/person/st/gw/collec...            gw   \n",
       "2     /data/MTDATA/fn-2-018/root/person/st/gw/collec...            gw   \n",
       "3     /data/MTDATA/fn-2-018/root/person/st/gw/collec...            gw   \n",
       "4     /data/MTDATA/fn-2-018/root/person/st/gw/collec...            gw   \n",
       "...                                                 ...           ...   \n",
       "6795  /data/MTDATA/fn-2-018/root/person/st/cc/collec...            cc   \n",
       "6796  /data/MTDATA/fn-2-018/root/person/st/cc/collec...            cc   \n",
       "6797  /data/MTDATA/fn-2-018/root/person/st/cc/collec...            cc   \n",
       "6798  /data/MTDATA/fn-2-018/root/person/st/cc/collec...            cc   \n",
       "6799  /data/MTDATA/fn-2-018/root/person/st/cc/collec...            cc   \n",
       "\n",
       "      province_id  \n",
       "0               0  \n",
       "1               0  \n",
       "2               0  \n",
       "3               0  \n",
       "4               0  \n",
       "...           ...  \n",
       "6795            3  \n",
       "6796            3  \n",
       "6797            3  \n",
       "6798            3  \n",
       "6799            3  \n",
       "\n",
       "[6800 rows x 3 columns]"
      ]
     },
     "execution_count": 13,
     "metadata": {},
     "output_type": "execute_result"
    }
   ],
   "source": [
    "test_df"
   ]
  },
  {
   "cell_type": "code",
   "execution_count": 14,
   "metadata": {},
   "outputs": [],
   "source": [
    "def get_province_id(file):\n",
    "    signal = province_code.load_audio(file)\n",
    "    prediction =  province_code.classify_batch(signal)\n",
    "    return int(prediction[2])"
   ]
  },
  {
   "cell_type": "code",
   "execution_count": 15,
   "metadata": {},
   "outputs": [
    {
     "data": {
      "text/plain": [
       "datetime.timedelta(seconds=308, microseconds=490991)"
      ]
     },
     "execution_count": 15,
     "metadata": {},
     "output_type": "execute_result"
    }
   ],
   "source": [
    "start_time = datetime.now()\n",
    "test_df['hyp'] = test_df.apply(lambda x : get_province_id(x['wav']), axis=1)\n",
    "datetime.now() - start_time"
   ]
  },
  {
   "cell_type": "code",
   "execution_count": null,
   "metadata": {},
   "outputs": [],
   "source": [
    "test_df"
   ]
  },
  {
   "cell_type": "code",
   "execution_count": 16,
   "metadata": {},
   "outputs": [
    {
     "name": "stdout",
     "output_type": "stream",
     "text": [
      "Predicted     0     1     2     3\n",
      "Actual                           \n",
      "0          1167   328   112    93\n",
      "1            13  1645    36     6\n",
      "2            29    12  1554   105\n",
      "3            46    13   219  1422\n"
     ]
    }
   ],
   "source": [
    "confusion_matrix = pd.crosstab(test_df['province_id'], test_df['hyp'], rownames=['Actual'], colnames=['Predicted'])\n",
    "print (confusion_matrix)"
   ]
  },
  {
   "cell_type": "code",
   "execution_count": null,
   "metadata": {},
   "outputs": [],
   "source": [
    "confusion_matrix.columns"
   ]
  },
  {
   "cell_type": "code",
   "execution_count": null,
   "metadata": {},
   "outputs": [],
   "source": [
    "confusion_matrix.describe            "
   ]
  },
  {
   "cell_type": "code",
   "execution_count": 17,
   "metadata": {},
   "outputs": [
    {
     "data": {
      "text/plain": [
       "<AxesSubplot:xlabel='Predicted', ylabel='Actual'>"
      ]
     },
     "execution_count": 17,
     "metadata": {},
     "output_type": "execute_result"
    },
    {
     "data": {
      "image/png": "[encoded data removed]",
      "text/plain": [
       "<Figure size 432x288 with 2 Axes>"
      ]
     },
     "metadata": {
      "needs_background": "light"
     },
     "output_type": "display_data"
    }
   ],
   "source": [
    "sn.heatmap(confusion_matrix, annot=True, fmt=\"d\")"
   ]
  },
  {
   "cell_type": "code",
   "execution_count": 18,
   "metadata": {},
   "outputs": [
    {
     "data": {
      "text/plain": [
       "0.8511764705882353"
      ]
     },
     "execution_count": 18,
     "metadata": {},
     "output_type": "execute_result"
    }
   ],
   "source": [
    "Accuracy = metrics.accuracy_score(test_df['province_id'], test_df['hyp'])\n",
    "Accuracy"
   ]
  },
  {
   "cell_type": "code",
   "execution_count": null,
   "metadata": {},
   "outputs": [],
   "source": []
  }
 ],
 "metadata": {
  "kernelspec": {
   "display_name": "Python 3.8.12 ('base')",
   "language": "python",
   "name": "python3"
  },
  "language_info": {
   "codemirror_mode": {
    "name": "ipython",
    "version": 3
   },
   "file_extension": ".py",
   "mimetype": "text/x-python",
   "name": "python",
   "nbconvert_exporter": "python",
   "pygments_lexer": "ipython3",
   "version": "3.8.12"
  },
  "orig_nbformat": 4,
  "vscode": {
   "interpreter": {
    "hash": "d4d1e4263499bec80672ea0156c357c1ee493ec2b1c70f0acce89fc37c4a6abe"
   }
  }
 },
 "nbformat": 4,
 "nbformat_minor": 2
}
