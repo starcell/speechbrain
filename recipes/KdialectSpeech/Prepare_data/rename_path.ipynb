{
 "cells": [
  {
   "cell_type": "code",
   "execution_count": 2,
   "metadata": {},
   "outputs": [],
   "source": [
    "src_file = \"data/total.csv\"\n",
    "tgt_file = \"data/total_data.csv\"\n",
    "\n",
    "src_str = \"/workspace/speechbrain/recipes/KdialectSpeech/Prepare_data/data\"\n",
    "tgt_str = \"/data/MTDATA/fn-2-018/sentence\"\n",
    "\n",
    "with open(src_file, \"rt\") as file:\n",
    "    line = file.read()\n",
    "\n",
    "with open(tgt_file, \"wt\") as file:\n",
    "    line = line.replace(src_str, tgt_str)\n",
    "    file.write(line)"
   ]
  },
  {
   "cell_type": "code",
   "execution_count": 3,
   "metadata": {},
   "outputs": [
    {
     "data": {
      "text/plain": [
       "335616352"
      ]
     },
     "execution_count": 3,
     "metadata": {},
     "output_type": "execute_result"
    }
   ],
   "source": [
    "len(line)"
   ]
  },
  {
   "cell_type": "code",
   "execution_count": null,
   "metadata": {},
   "outputs": [],
   "source": []
  }
 ],
 "metadata": {
  "kernelspec": {
   "display_name": "base",
   "language": "python",
   "name": "python3"
  },
  "language_info": {
   "codemirror_mode": {
    "name": "ipython",
    "version": 3
   },
   "file_extension": ".py",
   "mimetype": "text/x-python",
   "name": "python",
   "nbconvert_exporter": "python",
   "pygments_lexer": "ipython3",
   "version": "3.8.12"
  },
  "orig_nbformat": 4,
  "vscode": {
   "interpreter": {
    "hash": "d4d1e4263499bec80672ea0156c357c1ee493ec2b1c70f0acce89fc37c4a6abe"
   }
  }
 },
 "nbformat": 4,
 "nbformat_minor": 2
}
