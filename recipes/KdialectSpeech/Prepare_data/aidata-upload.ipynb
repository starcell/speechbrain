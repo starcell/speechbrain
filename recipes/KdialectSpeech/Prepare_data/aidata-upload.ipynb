{
 "cells": [
  {
   "cell_type": "code",
   "execution_count": 1,
   "metadata": {},
   "outputs": [],
   "source": [
    "import boto3\n",
    "\n",
    "##### download data from s3 storage\n",
    "def get_s3_object_list(s3, bucket_name, prefix, max_keys):\n",
    "    obj_list = []\n",
    "    response = s3.list_objects(Bucket=bucket_name, MaxKeys=max_keys, Prefix=prefix)\n",
    "\n",
    "    while True:\n",
    "        if response.get('Contents') is not None:\n",
    "\n",
    "            for content in response.get('Contents'):\n",
    "                filename = content.get('Key')\n",
    "                date_info = content.get('LastModified')\n",
    "                \n",
    "                obj_list.append(filename)\n",
    "        \n",
    "            if response.get('IsTruncated'):\n",
    "                response = s3.list_objects(Bucket=bucket_name, MaxKeys=max_keys, Prefix=prefix,\n",
    "                                        Marker=response.get('NextMarker'))\n",
    "            else:\n",
    "                break\n",
    "        \n",
    "        else:\n",
    "            # logger.info(f'{prefix} : there is no data.')\n",
    "            print(f'{prefix} : there is no data.')\n",
    "            break\n",
    "    \n",
    "    return obj_list"
   ]
  },
  {
   "cell_type": "code",
   "execution_count": 2,
   "metadata": {},
   "outputs": [],
   "source": [
    "service_name = 's3'\n",
    "endpoint_url = 'https://kr.object.ncloudstorage.com'\n",
    "region_name = 'kr-standard'\n",
    "access_key = '5CA6DF7F42B860BC5BF6'\n",
    "secret_key = '521AFE59000AEEE6130AA408FD0D12E56D9AB1D7'\n",
    "\n",
    "s3 = boto3.client(service_name, endpoint_url=endpoint_url, aws_access_key_id=access_key,\n",
    "                aws_secret_access_key=secret_key)"
   ]
  },
  {
   "cell_type": "code",
   "execution_count": 3,
   "metadata": {},
   "outputs": [],
   "source": [
    "max_keys = 1000\n",
    "bucket_name = 'aidata-2022-02-018'\n",
    "\n",
    "# prefix = '139-1.중·노년층 한국어 방언 데이터 (강원도, 경상도)/06.품질검증/3.유효성증빙/1.음성인식모델/평가데이터셋/'\n",
    "# response = s3.list_objects(Bucket=bucket_name, MaxKeys=max_keys, Prefix=prefix)\n",
    "# object_list = response.get('Contents')\n",
    "# object_name = object_list[0].get(\"Key\") + \"gw_gs.tar\"\n",
    "# local_file_path = \"/data/aidata/test/gw_gs.tar\"\n",
    "\n",
    "\n",
    "# prefix = '139-2.중·노년층 한국어 방언 데이터 (충청도, 전라도, 제주도)/06.품질검증/3.유효성증빙/1.음성인식모델/평가데이터셋/'\n",
    "# response = s3.list_objects(Bucket=bucket_name, MaxKeys=max_keys, Prefix=prefix)\n",
    "# object_list = response.get('Contents')\n",
    "# object_name = object_list[0].get(\"Key\") + \"cc_jl_jj.tar\"\n",
    "# local_file_path = \"/data/aidata/test/cc_jl_jj.tar\"\n",
    "\n",
    "prefix = '139-1.중·노년층 한국어 방언 데이터 (강원도, 경상도)/06.품질검증/3.유효성증빙/1.음성인식모델/도커이미지/'\n",
    "# prefix = '139-2.중·노년층 한국어 방언 데이터 (충청도, 전라도, 제주도)/06.품질검증/3.유효성증빙/1.음성인식모델/도커이미지/'\n",
    "response = s3.list_objects(Bucket=bucket_name, MaxKeys=max_keys, Prefix=prefix)\n",
    "object_list = response.get('Contents')\n",
    "object_name = object_list[0].get(\"Key\") + \"kdialect-eval.tar\"\n",
    "local_file_path = \"/data/docker/kdialect-eval.tar\"\n",
    "\n",
    "# get_s3_object_list(s3, bucket_name, prefix, max_keys)"
   ]
  },
  {
   "cell_type": "code",
   "execution_count": 4,
   "metadata": {},
   "outputs": [
    {
     "data": {
      "text/plain": [
       "'139-1.중·노년층 한국어 방언 데이터 (강원도, 경상도)/06.품질검증/3.유효성증빙/1.음성인식모델/도커이미지/kdialect-eval.tar'"
      ]
     },
     "execution_count": 4,
     "metadata": {},
     "output_type": "execute_result"
    }
   ],
   "source": [
    "object_name"
   ]
  },
  {
   "cell_type": "code",
   "execution_count": 5,
   "metadata": {},
   "outputs": [
    {
     "data": {
      "text/plain": [
       "'aidata-2022-02-018'"
      ]
     },
     "execution_count": 5,
     "metadata": {},
     "output_type": "execute_result"
    }
   ],
   "source": [
    "bucket_name"
   ]
  },
  {
   "cell_type": "code",
   "execution_count": 6,
   "metadata": {},
   "outputs": [],
   "source": [
    "s3.upload_file(local_file_path, bucket_name, object_name)"
   ]
  },
  {
   "cell_type": "code",
   "execution_count": null,
   "metadata": {},
   "outputs": [],
   "source": [
    "!ls -l /data/docker/kdialect-eval.tar"
   ]
  }
 ],
 "metadata": {
  "kernelspec": {
   "display_name": "base",
   "language": "python",
   "name": "python3"
  },
  "language_info": {
   "codemirror_mode": {
    "name": "ipython",
    "version": 3
   },
   "file_extension": ".py",
   "mimetype": "text/x-python",
   "name": "python",
   "nbconvert_exporter": "python",
   "pygments_lexer": "ipython3",
   "version": "3.8.12"
  },
  "orig_nbformat": 4,
  "vscode": {
   "interpreter": {
    "hash": "d4d1e4263499bec80672ea0156c357c1ee493ec2b1c70f0acce89fc37c4a6abe"
   }
  }
 },
 "nbformat": 4,
 "nbformat_minor": 2
}
