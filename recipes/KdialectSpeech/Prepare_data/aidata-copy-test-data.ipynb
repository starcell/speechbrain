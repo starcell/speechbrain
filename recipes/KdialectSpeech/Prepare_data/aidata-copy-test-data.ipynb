{
 "cells": [
  {
   "cell_type": "code",
   "execution_count": 6,
   "metadata": {},
   "outputs": [],
   "source": [
    "import pandas as pd\n",
    "from shutil import copyfile\n",
    "import os\n",
    "from pathlib import Path"
   ]
  },
  {
   "cell_type": "code",
   "execution_count": 2,
   "metadata": {},
   "outputs": [],
   "source": [
    "# 모든 행을 보기위한 설정\n",
    "pd.set_option('display.max_rows', None)"
   ]
  },
  {
   "cell_type": "code",
   "execution_count": 16,
   "metadata": {},
   "outputs": [],
   "source": [
    "test_csv = \"data/gs_3_30_test.csv\"\n",
    "test_df = pd.read_csv(test_csv)"
   ]
  },
  {
   "cell_type": "code",
   "execution_count": 17,
   "metadata": {},
   "outputs": [],
   "source": [
    "# i = 0\n",
    "for file in test_df[\"wav\"]:\n",
    "    # if i > 5:\n",
    "    #     break\n",
    "    file_to = file.replace(\"sentence\", \"test\")\n",
    "    dir_to = os.path.dirname(file_to)\n",
    "    os.makedirs(dir_to, exist_ok=True)\n",
    "    copyfile(file, file_to)\n",
    "    # i += 1"
   ]
  },
  {
   "cell_type": "code",
   "execution_count": null,
   "metadata": {},
   "outputs": [],
   "source": [
    "# tar -zcvf [파일명.tar.gz] [폴더명]\n",
    "### 거의 압축이 안됨\n",
    "# tar -zcvf gw_gs.tar.gz '139-1.중·노년층 한국어 방언 데이터 (강원도, 경상도)' \n",
    "# tar -zcvf cc_jl_jj.tar.gz '139-2.중·노년층 한국어 방언 데이터 (충청도, 전라도, 제주도)'\n",
    "\n",
    "\n",
    "# tar -cvf gw_gs.tar '139-1.중·노년층 한국어 방언 데이터 (강원도, 경상도)'\n",
    "# tar -cvf cc_jl_jj.tar '139-2.중·노년층 한국어 방언 데이터 (충청도, 전라도, 제주도)'"
   ]
  }
 ],
 "metadata": {
  "kernelspec": {
   "display_name": "base",
   "language": "python",
   "name": "python3"
  },
  "language_info": {
   "codemirror_mode": {
    "name": "ipython",
    "version": 3
   },
   "file_extension": ".py",
   "mimetype": "text/x-python",
   "name": "python",
   "nbconvert_exporter": "python",
   "pygments_lexer": "ipython3",
   "version": "3.8.12"
  },
  "orig_nbformat": 4,
  "vscode": {
   "interpreter": {
    "hash": "d4d1e4263499bec80672ea0156c357c1ee493ec2b1c70f0acce89fc37c4a6abe"
   }
  }
 },
 "nbformat": 4,
 "nbformat_minor": 2
}
