{
 "cells": [
  {
   "cell_type": "code",
   "execution_count": null,
   "metadata": {},
   "outputs": [],
   "source": [
    "import pandas as pd\n",
    "import os"
   ]
  },
  {
   "cell_type": "code",
   "execution_count": null,
   "metadata": {},
   "outputs": [],
   "source": [
    "data_folder = 'results'"
   ]
  },
  {
   "cell_type": "code",
   "execution_count": null,
   "metadata": {},
   "outputs": [],
   "source": [
    "data_file = 'gw.csv'\n",
    "data_file_path = os.path.join(data_folder, data_file)\n",
    "# data_df = pd.read_csv(data_file, index_col=0)\n",
    "data_df = pd.read_csv(data_file_path)"
   ]
  },
  {
   "cell_type": "code",
   "execution_count": null,
   "metadata": {},
   "outputs": [],
   "source": [
    "data_num = len(data_df)\n",
    "data_num"
   ]
  },
  {
   "cell_type": "code",
   "execution_count": null,
   "metadata": {},
   "outputs": [],
   "source": [
    "data_df.index.name = 'ID'"
   ]
  },
  {
   "cell_type": "code",
   "execution_count": null,
   "metadata": {},
   "outputs": [],
   "source": [
    "data_df"
   ]
  },
  {
   "cell_type": "code",
   "execution_count": null,
   "metadata": {},
   "outputs": [],
   "source": [
    "# train : valid : test = 8 : 1 : 1 로 나누기(랜덤하게 섞을 필요 없음)\n",
    "\n",
    "data_ratio = {'tr':0.8, 'va':0.1, 'te':0.1}\n",
    "train_num = round(data_num*data_ratio['tr'])\n",
    "valid_num = round(data_num*data_ratio['va'])\n",
    "test_num = round(data_num*data_ratio['te'])\n",
    "\n",
    "print(f'train : valid : test = {train_num} : {valid_num} : {test_num}')"
   ]
  },
  {
   "cell_type": "code",
   "execution_count": null,
   "metadata": {},
   "outputs": [],
   "source": [
    "train_num + valid_num + test_num"
   ]
  },
  {
   "cell_type": "code",
   "execution_count": null,
   "metadata": {},
   "outputs": [],
   "source": [
    "train_data_df = data_df[:train_num]\n",
    "valid_data_df = data_df[train_num:train_num + valid_num]\n",
    "test_data_df = data_df[train_num + valid_num:]"
   ]
  },
  {
   "cell_type": "code",
   "execution_count": null,
   "metadata": {},
   "outputs": [],
   "source": [
    "train_data_df"
   ]
  },
  {
   "cell_type": "code",
   "execution_count": null,
   "metadata": {},
   "outputs": [],
   "source": [
    "train_data_file = 'train.csv'\n",
    "train_data_path = os.path.join(data_folder, train_data_file)\n",
    "train_data_df[['wrd', '방언 표기', '표준어 표기']].to_csv(train_data_path)"
   ]
  },
  {
   "cell_type": "code",
   "execution_count": null,
   "metadata": {},
   "outputs": [],
   "source": [
    "valid_data_file = 'valid.csv'\n",
    "valid_data_path = os.path.join(data_folder, valid_data_file)\n",
    "valid_data_df[['wrd', '방언 표기', '표준어 표기']].to_csv(valid_data_path)"
   ]
  },
  {
   "cell_type": "code",
   "execution_count": null,
   "metadata": {},
   "outputs": [],
   "source": [
    "test_data_file = 'test.csv'\n",
    "test_data_path = os.path.join(data_folder, test_data_file)\n",
    "test_data_df[['wrd', '방언 표기', '표준어 표기']].to_csv(test_data_path)"
   ]
  }
 ],
 "metadata": {
  "kernelspec": {
   "display_name": "Python 3.8.12 ('base')",
   "language": "python",
   "name": "python3"
  },
  "language_info": {
   "name": "python",
   "version": "3.8.12"
  },
  "orig_nbformat": 4,
  "vscode": {
   "interpreter": {
    "hash": "d4d1e4263499bec80672ea0156c357c1ee493ec2b1c70f0acce89fc37c4a6abe"
   }
  }
 },
 "nbformat": 4,
 "nbformat_minor": 2
}
