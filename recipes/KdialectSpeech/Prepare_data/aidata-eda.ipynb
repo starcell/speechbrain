{
 "cells": [
  {
   "cell_type": "code",
   "execution_count": 1,
   "metadata": {},
   "outputs": [],
   "source": [
    "import os\n",
    "from pathlib import Path\n",
    "import glob\n",
    "import json\n",
    "\n",
    "import pandas as pd"
   ]
  },
  {
   "cell_type": "code",
   "execution_count": 13,
   "metadata": {},
   "outputs": [],
   "source": [
    "base_dir = Path(\"/data/aidata.2\")\n",
    "province_code_list = [\"gw\", \"gs\", \"cc\", \"jl\", \"jj\"]\n",
    "\n",
    "province_dir_dict = {\n",
    "    \"gw\" : {\n",
    "        \"data_dir\" : os.path.join(base_dir, \"139-1.중·노년층 한국어 방언 데이터 (강원도, 경상도)/06.품질검증/1.Dataset/1.원천데이터/01. 강원도\"),\n",
    "        \"label_dir\" : os.path.join(base_dir, \"139-1.중·노년층 한국어 방언 데이터 (강원도, 경상도)/06.품질검증/1.Dataset/2.라벨링데이터/01. 강원도\")\n",
    "        }, \n",
    "    \"gs\" : {\n",
    "        \"data_dir\" : os.path.join(base_dir, \"139-1.중·노년층 한국어 방언 데이터 (강원도, 경상도)/06.품질검증/1.Dataset/1.원천데이터/02. 경상도\"),\n",
    "        \"label_dir\" : os.path.join(base_dir, \"139-1.중·노년층 한국어 방언 데이터 (강원도, 경상도)/06.품질검증/1.Dataset/2.라벨링데이터/02. 경상도\")\n",
    "        }, \n",
    "    \"cc\" : {\n",
    "        \"data_dir\" : os.path.join(base_dir, \"139-2.중·노년층 한국어 방언 데이터 (충청도, 전라도, 제주도)/06.품질검증/1.Dataset/1.원천데이터/01. 충청도\"),\n",
    "        \"label_dir\" : os.path.join(base_dir, \"139-2.중·노년층 한국어 방언 데이터 (충청도, 전라도, 제주도)/06.품질검증/1.Dataset/2.라벨링데이터/01. 충청도\")\n",
    "        }, \n",
    "    \"jl\" : {\n",
    "        \"data_dir\" : os.path.join(base_dir, \"139-2.중·노년층 한국어 방언 데이터 (충청도, 전라도, 제주도)/06.품질검증/1.Dataset/1.원천데이터/02. 전라도\"),\n",
    "        \"label_dir\" : os.path.join(base_dir, \"139-2.중·노년층 한국어 방언 데이터 (충청도, 전라도, 제주도)/06.품질검증/1.Dataset/2.라벨링데이터/02. 전라도\")\n",
    "        }, \n",
    "    \"jj\" : {\n",
    "        \"data_dir\" : os.path.join(base_dir, \"139-2.중·노년층 한국어 방언 데이터 (충청도, 전라도, 제주도)/06.품질검증/1.Dataset/1.원천데이터/03. 제주도\"),\n",
    "        \"label_dir\" : os.path.join(base_dir, \"139-2.중·노년층 한국어 방언 데이터 (충청도, 전라도, 제주도)/06.품질검증/1.Dataset/2.라벨링데이터/03. 제주도\")\n",
    "        }\n",
    "}"
   ]
  },
  {
   "cell_type": "code",
   "execution_count": 3,
   "metadata": {},
   "outputs": [],
   "source": [
    "def dir_of(province):\n",
    "    province_code = province\n",
    "\n",
    "    if province_code == \"gw\":\n",
    "        data_dir = os.path.join(base_dir, \"139-1.중·노년층 한국어 방언 데이터 (강원도, 경상도)/06.품질검증/1.Dataset/1.원천데이터/01. 강원도\")\n",
    "        label_dir = os.path.join(base_dir, \"139-1.중·노년층 한국어 방언 데이터 (강원도, 경상도)/06.품질검증/1.Dataset/2.라벨링데이터/01. 강원도\")\n",
    "    elif province_code == \"gs\":\n",
    "        data_dir = os.path.join(base_dir, \"139-1.중·노년층 한국어 방언 데이터 (강원도, 경상도)/06.품질검증/1.Dataset/1.원천데이터/02. 경상도\")\n",
    "        label_dir = os.path.join(base_dir, \"139-1.중·노년층 한국어 방언 데이터 (강원도, 경상도)/06.품질검증/1.Dataset/2.라벨링데이터/02. 경상도\")\n",
    "    elif province_code == \"cc\":\n",
    "        data_dir = os.path.join(base_dir, \"139-2.중·노년층 한국어 방언 데이터 (충청도, 전라도, 제주도)/06.품질검증/1.Dataset/1.원천데이터/01. 충청도\")\n",
    "        label_dir = os.path.join(base_dir, \"139-2.중·노년층 한국어 방언 데이터 (충청도, 전라도, 제주도)/06.품질검증/1.Dataset/2.라벨링데이터/01. 충청도\")\n",
    "    elif province_code == \"jl\":\n",
    "        data_dir = os.path.join(base_dir, \"139-2.중·노년층 한국어 방언 데이터 (충청도, 전라도, 제주도)/06.품질검증/1.Dataset/1.원천데이터/02. 전라도\")\n",
    "        label_dir = os.path.join(base_dir, \"139-2.중·노년층 한국어 방언 데이터 (충청도, 전라도, 제주도)/06.품질검증/1.Dataset/2.라벨링데이터/02. 전라도\")\n",
    "    elif province_code == \"jj\":\n",
    "        data_dir = os.path.join(base_dir, \"139-2.중·노년층 한국어 방언 데이터 (충청도, 전라도, 제주도)/06.품질검증/1.Dataset/1.원천데이터/03. 제주도\")\n",
    "        label_dir = os.path.join(base_dir, \"139-2.중·노년층 한국어 방언 데이터 (충청도, 전라도, 제주도)/06.품질검증/1.Dataset/2.라벨링데이터/03. 제주도\")\n",
    "    else:\n",
    "        err_msg = (\n",
    "            \"지역 코드를 gw, gs, cc, jl, jj 중 하나를 입력해야 합니다. (gw:강원도, gs:경상도, cc:충청도, jl:전라도, jj:제주도)\"\n",
    "        )\n",
    "        raise OSError(err_msg)\n",
    "    \n",
    "    return data_dir, label_dir"
   ]
  },
  {
   "cell_type": "code",
   "execution_count": 19,
   "metadata": {},
   "outputs": [],
   "source": [
    "def file_list_of(province):\n",
    "    data_dir, label_dir = dir_of(province)\n",
    "    data_file_list = (glob.glob(os.path.join(data_dir, '*/*.' + \"wav\")))\n",
    "    json_file_list = (glob.glob(os.path.join(label_dir, '*/*.' + \"json\")))\n",
    "\n",
    "    return data_file_list, json_file_list"
   ]
  },
  {
   "cell_type": "code",
   "execution_count": 21,
   "metadata": {},
   "outputs": [
    {
     "name": "stdout",
     "output_type": "stream",
     "text": [
      "# of gw data file list :142374\n",
      "# of gw json file list :142374\n",
      "# of gs data file list :236563\n",
      "# of gs json file list :236563\n",
      "# of cc data file list :161415\n",
      "# of cc json file list :161415\n",
      "# of jl data file list :179844\n",
      "# of jl json file list :179844\n",
      "# of jj data file list :56666\n",
      "# of jj json file list :56666\n"
     ]
    }
   ],
   "source": [
    "for province_code in province_code_list:\n",
    "    data_file_list, json_file_list = file_list_of(province_code)\n",
    "    print(f'# of {province_code} data file list :{len(data_file_list)}')\n",
    "    print(f'# of {province_code} json file list :{len(json_file_list)}')"
   ]
  },
  {
   "cell_type": "code",
   "execution_count": 22,
   "metadata": {},
   "outputs": [],
   "source": [
    "province_code = \"jj\"\n",
    "jj_data_file_list, jj_json_file_list = file_list_of(province_code)"
   ]
  },
  {
   "cell_type": "code",
   "execution_count": 24,
   "metadata": {},
   "outputs": [
    {
     "data": {
      "text/plain": [
       "'/data/aidata.2/139-2.중·노년층 한국어 방언 데이터 (충청도, 전라도, 제주도)/06.품질검증/1.Dataset/2.라벨링데이터/03. 제주도/03. 2인발화/talk_set1_collectorjj87_speakerjj1114_speakerjj1115_4_1_82.json'"
      ]
     },
     "execution_count": 24,
     "metadata": {},
     "output_type": "execute_result"
    }
   ],
   "source": [
    "jj_json_file_list[0]"
   ]
  },
  {
   "cell_type": "code",
   "execution_count": 44,
   "metadata": {},
   "outputs": [],
   "source": [
    "def manifest_of(json_file):\n",
    "    data_id = Path(json_file).stem # 확장자 제거\n",
    "    # print(f\"data_id : {data_id}\")\n",
    "\n",
    "    # csv_lines = []\n",
    "    with open(json_file, encoding=\"UTF-8\" ) as json_file :\n",
    "        json_data = json.load(json_file)\n",
    "\n",
    "        recordDuration = json_data[\"audio\"][\"recordDuration\"]\n",
    "        # print(f\"recordDuration : {recordDuration}\")\n",
    "        dialect = json_data[\"transcription\"][\"dialect\"]\n",
    "        # print(f\"dialect : {dialect}\")\n",
    "\n",
    "        \n",
    "    manifest_line = [data_id, recordDuration, dialect]\n",
    "    return manifest_line\n"
   ]
  },
  {
   "cell_type": "code",
   "execution_count": 38,
   "metadata": {},
   "outputs": [],
   "source": [
    "def manifest_of_list(json_file_list):\n",
    "    manifest_lines = []\n",
    "    for json_file in json_file_list:\n",
    "        manifest_line = manifest_of(json_file)\n",
    "        manifest_lines.append(manifest_line)\n",
    "\n",
    "    return manifest_lines\n",
    "        # sentences = json_data[\"transcription\"][\"sentences\"]\n",
    "\n",
    "    #     for idx, sentence in enumerate(sentences) :\n",
    "    #         #data_ duration\n",
    "    #         data_start_time = sentence[\"startTime\"]\n",
    "    #         data_end_time = sentence[\"endTime\"]\n",
    "            \n",
    "    #         start_time = time_convert(data_start_time)\n",
    "    #         end_time = time_convert(data_end_time)\n",
    "    #         duration = end_time - start_time\n",
    "    #         duration = format(duration, '5.3f')\n",
    "            \n",
    "    #         #wrd(dialect)\n",
    "    #         dialect = sentence[\"dialect\"]\n",
    "    #         wrd = normalize(dialect)\n",
    "            \n",
    "    #         sentence_file_id = data_file_name + \"-\" + str(idx)\n",
    "    #         sentence_file_name = sentence_file_id + '.wav'\n",
    "    #         sentence_file_path = os.path.join(sentence_path_dir, sentence_file_name)\n",
    "    #         # print(f'sentence_file_path : {sentence_file_path}')\n",
    "    #         logger.info(f'sentence_file_path : {sentence_file_path}')\n",
    "    #         try:\n",
    "    #             split_wav_file(input_audio, sentence_file_path, start_time, end_time)\n",
    "    #         except:\n",
    "    #             print(f\"wave write to {sentence_file_path} error!\")\n",
    "\n",
    "            \n",
    "    #         id = sentence_file_id\n",
    "\n",
    "    #         # print(f\"id : {id}\")\n",
    "    #         # print(f\"duration : {duration}\")\n",
    "    #         # print(f\"sentence_file_path : {sentence_file_path}\")\n",
    "    #         # print(f\"province_code : {province_code}\")\n",
    "    #         # print(f\"wrd : {wrd}\")\n",
    "\n",
    "    #         line = [id, duration, sentence_file_path, province_code, wrd]\n",
    "    #         csv_lines.append(line)\n",
    "    # return csv_lines"
   ]
  },
  {
   "cell_type": "code",
   "execution_count": 46,
   "metadata": {},
   "outputs": [],
   "source": [
    "jj_manifest_list = manifest_of_list(jj_json_file_list)"
   ]
  },
  {
   "cell_type": "code",
   "execution_count": 47,
   "metadata": {},
   "outputs": [
    {
     "data": {
      "text/plain": [
       "56666"
      ]
     },
     "execution_count": 47,
     "metadata": {},
     "output_type": "execute_result"
    }
   ],
   "source": [
    "len(jj_manifest_list)"
   ]
  },
  {
   "cell_type": "code",
   "execution_count": 48,
   "metadata": {},
   "outputs": [],
   "source": [
    "jj_manifest_df = pd.DataFrame(data=jj_manifest_list, columns=[\"id\", \"recordDuration\", \"dialect\"])"
   ]
  },
  {
   "cell_type": "code",
   "execution_count": 36,
   "metadata": {},
   "outputs": [
    {
     "name": "stdout",
     "output_type": "stream",
     "text": [
      "recordDuration : 125.7\n",
      "dialect : 양보 필요하주마씨게 우리도 이제 나이 들어가고 있고 제가 이제 가끔 뭐 버스 탈 때도 있고 어디 가서 이렇게 자리를 양보해야 될 때가 있는데 그때 어르신들 보면 아 우리 이제 조금씩 조금씩 약간 뭐 뼈도 좀 아파가고 막 그런 나이가 되다 보니까 그 어르신들의 심정이 이젠 충분히 이해가 뒈서예 어디 가면 자꾸 앉고 싶고 그러잖아예 근데 이제 젊은이들은 보면 요즘에는 진짜 양보를 안 하긴 하더라예 그런 거 보면서 좀 안타깝기도 한데 어르신들이 그 힘들어하는 거를 조금만 더 이렇게 생각해서 양보를 하고 좀 그래도 한 살이라도 젊은 사람이 좀 자리 많이 양보해 주면 좋을 것 같다는 생각도 들고예 뭐 경험은 제가 굉장히 그때 몸이 안 좋았을 때 어떻게 해서 그거는 서울에 가 있을 땐데 지하철을 타면 거의 자리가 없잖아예 자리가 없는데 그 젊은이들이 다 앉아서 다 눈을 감고 있던가 자기 휴대폰으로 보고 있던가 막 그런데 나는 막 그때 병원을 가고 있는 때여서 나는 그때 아산병원 치료 다닐 때라서 가고 있는데 그 제주도에서 첫 비행기를 타고 막 그렇게 해서 가면 너무 피곤한데 그 전철을 타고 왜냐하면 버스를 타도 되는데 내가 그 노선을 잘 모르니까 전철을 지하철을 탔는데 젊은 사람들이 젊고 진짜 건장한 남자들도 양보 안 하고 그런데 또 그 사람들도 보기에 또 저를 또 뭐 충분히 서서 갈 수 있는 사람이라고 생각은 했을 거라예 근데 이제 저 같은 경우도 그런데 좀 나이 많은 분들한테는 양보할 필요가 있지 않을까 그런 생각을 조금 더 되새기게 되더라예 제가 너무 그때 힘드니까 어르신들은 오죽 힘들어도 에고 요즘 애들 다 저러쥬 하면서 이제 말도 못 할 거고 그런 거 보면은 그냥 누군가 말을 안 해도 보면서 그 남을 배려해 주고 특히나 어르신들을 좀 배려해 드려서 좀 양보를 하면은 더 좋지 않을까 하는 생각이 들어마씨\n"
     ]
    },
    {
     "data": {
      "text/plain": [
       "['talk_set3_collectorjj87_speakerjj779_speakerjj780_7_1_127',\n",
       " 125.7,\n",
       " '양보 필요하주마씨게 우리도 이제 나이 들어가고 있고 제가 이제 가끔 뭐 버스 탈 때도 있고 어디 가서 이렇게 자리를 양보해야 될 때가 있는데 그때 어르신들 보면 아 우리 이제 조금씩 조금씩 약간 뭐 뼈도 좀 아파가고 막 그런 나이가 되다 보니까 그 어르신들의 심정이 이젠 충분히 이해가 뒈서예 어디 가면 자꾸 앉고 싶고 그러잖아예 근데 이제 젊은이들은 보면 요즘에는 진짜 양보를 안 하긴 하더라예 그런 거 보면서 좀 안타깝기도 한데 어르신들이 그 힘들어하는 거를 조금만 더 이렇게 생각해서 양보를 하고 좀 그래도 한 살이라도 젊은 사람이 좀 자리 많이 양보해 주면 좋을 것 같다는 생각도 들고예 뭐 경험은 제가 굉장히 그때 몸이 안 좋았을 때 어떻게 해서 그거는 서울에 가 있을 땐데 지하철을 타면 거의 자리가 없잖아예 자리가 없는데 그 젊은이들이 다 앉아서 다 눈을 감고 있던가 자기 휴대폰으로 보고 있던가 막 그런데 나는 막 그때 병원을 가고 있는 때여서 나는 그때 아산병원 치료 다닐 때라서 가고 있는데 그 제주도에서 첫 비행기를 타고 막 그렇게 해서 가면 너무 피곤한데 그 전철을 타고 왜냐하면 버스를 타도 되는데 내가 그 노선을 잘 모르니까 전철을 지하철을 탔는데 젊은 사람들이 젊고 진짜 건장한 남자들도 양보 안 하고 그런데 또 그 사람들도 보기에 또 저를 또 뭐 충분히 서서 갈 수 있는 사람이라고 생각은 했을 거라예 근데 이제 저 같은 경우도 그런데 좀 나이 많은 분들한테는 양보할 필요가 있지 않을까 그런 생각을 조금 더 되새기게 되더라예 제가 너무 그때 힘드니까 어르신들은 오죽 힘들어도 에고 요즘 애들 다 저러쥬 하면서 이제 말도 못 할 거고 그런 거 보면은 그냥 누군가 말을 안 해도 보면서 그 남을 배려해 주고 특히나 어르신들을 좀 배려해 드려서 좀 양보를 하면은 더 좋지 않을까 하는 생각이 들어마씨']"
      ]
     },
     "execution_count": 36,
     "metadata": {},
     "output_type": "execute_result"
    }
   ],
   "source": [
    "json_file = \"/data/aidata.2/139-2.중·노년층 한국어 방언 데이터 (충청도, 전라도, 제주도)/06.품질검증/1.Dataset/2.라벨링데이터/03. 제주도/03. 2인발화/talk_set3_collectorjj87_speakerjj779_speakerjj780_7_1_127.json\"\n",
    "manifest_of(json_file)"
   ]
  },
  {
   "cell_type": "code",
   "execution_count": 49,
   "metadata": {},
   "outputs": [
    {
     "data": {
      "text/html": [
       "<div>\n",
       "<style scoped>\n",
       "    .dataframe tbody tr th:only-of-type {\n",
       "        vertical-align: middle;\n",
       "    }\n",
       "\n",
       "    .dataframe tbody tr th {\n",
       "        vertical-align: top;\n",
       "    }\n",
       "\n",
       "    .dataframe thead th {\n",
       "        text-align: right;\n",
       "    }\n",
       "</style>\n",
       "<table border=\"1\" class=\"dataframe\">\n",
       "  <thead>\n",
       "    <tr style=\"text-align: right;\">\n",
       "      <th></th>\n",
       "      <th>id</th>\n",
       "      <th>recordDuration</th>\n",
       "      <th>dialect</th>\n",
       "    </tr>\n",
       "  </thead>\n",
       "  <tbody>\n",
       "    <tr>\n",
       "      <th>0</th>\n",
       "      <td>talk_set1_collectorjj87_speakerjj1114_speakerj...</td>\n",
       "      <td>80.9</td>\n",
       "      <td>그 귀농 게메 우리가 농사가 테레비에서 봣주하는 농사가 은 에 아주 낭만적으로 보이...</td>\n",
       "    </tr>\n",
       "    <tr>\n",
       "      <th>1</th>\n",
       "      <td>talk_set3_collectorjj87_speakerjj716_speakerjj...</td>\n",
       "      <td>147.0</td>\n",
       "      <td>우리 시아주부버님이 이 제사 차례 지내는 거나 조상 모시는 거나 너무 잘 이렇게 섬...</td>\n",
       "    </tr>\n",
       "    <tr>\n",
       "      <th>2</th>\n",
       "      <td>talk_set1_collectorjj86_speakerjj509_speakerjj...</td>\n",
       "      <td>55.3</td>\n",
       "      <td>아파트고 단독이고 뭐 필요 엇이 그냥 장사하는 가게 옆에 그냥 아파트를 했는데 지금...</td>\n",
       "    </tr>\n",
       "    <tr>\n",
       "      <th>3</th>\n",
       "      <td>talk_set2_collectorjj87_speakerjj777_speakerjj...</td>\n",
       "      <td>81.3</td>\n",
       "      <td>난 이제까지 삼 층만 살안예 삼층만 하니깐 나도 모르게 어느 순간 그냥 좀 뷰가 좋...</td>\n",
       "    </tr>\n",
       "    <tr>\n",
       "      <th>4</th>\n",
       "      <td>talk_set1_collectorjj79_speakerjj596_speakerjj...</td>\n",
       "      <td>58.6</td>\n",
       "      <td>제가 여기 시내에서 살기는 하지만 여기 가까운 그 봉개 쪽에를 오래 이렇게 좀 살고...</td>\n",
       "    </tr>\n",
       "  </tbody>\n",
       "</table>\n",
       "</div>"
      ],
      "text/plain": [
       "                                                  id  recordDuration  \\\n",
       "0  talk_set1_collectorjj87_speakerjj1114_speakerj...            80.9   \n",
       "1  talk_set3_collectorjj87_speakerjj716_speakerjj...           147.0   \n",
       "2  talk_set1_collectorjj86_speakerjj509_speakerjj...            55.3   \n",
       "3  talk_set2_collectorjj87_speakerjj777_speakerjj...            81.3   \n",
       "4  talk_set1_collectorjj79_speakerjj596_speakerjj...            58.6   \n",
       "\n",
       "                                             dialect  \n",
       "0  그 귀농 게메 우리가 농사가 테레비에서 봣주하는 농사가 은 에 아주 낭만적으로 보이...  \n",
       "1  우리 시아주부버님이 이 제사 차례 지내는 거나 조상 모시는 거나 너무 잘 이렇게 섬...  \n",
       "2  아파트고 단독이고 뭐 필요 엇이 그냥 장사하는 가게 옆에 그냥 아파트를 했는데 지금...  \n",
       "3  난 이제까지 삼 층만 살안예 삼층만 하니깐 나도 모르게 어느 순간 그냥 좀 뷰가 좋...  \n",
       "4  제가 여기 시내에서 살기는 하지만 여기 가까운 그 봉개 쪽에를 오래 이렇게 좀 살고...  "
      ]
     },
     "execution_count": 49,
     "metadata": {},
     "output_type": "execute_result"
    }
   ],
   "source": [
    "jj_manifest_df.head()"
   ]
  },
  {
   "cell_type": "code",
   "execution_count": 51,
   "metadata": {},
   "outputs": [
    {
     "data": {
      "text/plain": [
       "185.69694444444445"
      ]
     },
     "execution_count": 51,
     "metadata": {},
     "output_type": "execute_result"
    }
   ],
   "source": [
    "jj_manifest_df[\"recordDuration\"].sum()/3600"
   ]
  },
  {
   "cell_type": "code",
   "execution_count": 2,
   "metadata": {},
   "outputs": [
    {
     "data": {
      "text/html": [
       "<div>\n",
       "<style scoped>\n",
       "    .dataframe tbody tr th:only-of-type {\n",
       "        vertical-align: middle;\n",
       "    }\n",
       "\n",
       "    .dataframe tbody tr th {\n",
       "        vertical-align: top;\n",
       "    }\n",
       "\n",
       "    .dataframe thead th {\n",
       "        text-align: right;\n",
       "    }\n",
       "</style>\n",
       "<table border=\"1\" class=\"dataframe\">\n",
       "  <thead>\n",
       "    <tr style=\"text-align: right;\">\n",
       "      <th></th>\n",
       "      <th>speechStartTime</th>\n",
       "      <th>recordDuration</th>\n",
       "    </tr>\n",
       "  </thead>\n",
       "  <tbody>\n",
       "    <tr>\n",
       "      <th>count</th>\n",
       "      <td>179844.000000</td>\n",
       "      <td>179844.000000</td>\n",
       "    </tr>\n",
       "    <tr>\n",
       "      <th>mean</th>\n",
       "      <td>0.570261</td>\n",
       "      <td>18.902286</td>\n",
       "    </tr>\n",
       "    <tr>\n",
       "      <th>std</th>\n",
       "      <td>0.295171</td>\n",
       "      <td>24.834444</td>\n",
       "    </tr>\n",
       "    <tr>\n",
       "      <th>min</th>\n",
       "      <td>0.000000</td>\n",
       "      <td>0.000000</td>\n",
       "    </tr>\n",
       "    <tr>\n",
       "      <th>25%</th>\n",
       "      <td>0.381000</td>\n",
       "      <td>6.300000</td>\n",
       "    </tr>\n",
       "    <tr>\n",
       "      <th>50%</th>\n",
       "      <td>0.510000</td>\n",
       "      <td>8.500000</td>\n",
       "    </tr>\n",
       "    <tr>\n",
       "      <th>75%</th>\n",
       "      <td>0.640000</td>\n",
       "      <td>18.400000</td>\n",
       "    </tr>\n",
       "    <tr>\n",
       "      <th>max</th>\n",
       "      <td>11.881000</td>\n",
       "      <td>585.900000</td>\n",
       "    </tr>\n",
       "  </tbody>\n",
       "</table>\n",
       "</div>"
      ],
      "text/plain": [
       "       speechStartTime  recordDuration\n",
       "count    179844.000000   179844.000000\n",
       "mean          0.570261       18.902286\n",
       "std           0.295171       24.834444\n",
       "min           0.000000        0.000000\n",
       "25%           0.381000        6.300000\n",
       "50%           0.510000        8.500000\n",
       "75%           0.640000       18.400000\n",
       "max          11.881000      585.900000"
      ]
     },
     "execution_count": 2,
     "metadata": {},
     "output_type": "execute_result"
    }
   ],
   "source": [
    "jl_csv = \"data/jl_json.csv\"\n",
    "jl_df = pd.read_csv(jl_csv)\n",
    "jl_df.describe()"
   ]
  },
  {
   "cell_type": "code",
   "execution_count": 17,
   "metadata": {},
   "outputs": [
    {
     "data": {
      "text/html": [
       "<div>\n",
       "<style scoped>\n",
       "    .dataframe tbody tr th:only-of-type {\n",
       "        vertical-align: middle;\n",
       "    }\n",
       "\n",
       "    .dataframe tbody tr th {\n",
       "        vertical-align: top;\n",
       "    }\n",
       "\n",
       "    .dataframe thead th {\n",
       "        text-align: right;\n",
       "    }\n",
       "</style>\n",
       "<table border=\"1\" class=\"dataframe\">\n",
       "  <thead>\n",
       "    <tr style=\"text-align: right;\">\n",
       "      <th></th>\n",
       "      <th>speechStartTime</th>\n",
       "      <th>recordDuration</th>\n",
       "    </tr>\n",
       "  </thead>\n",
       "  <tbody>\n",
       "    <tr>\n",
       "      <th>count</th>\n",
       "      <td>179844.000000</td>\n",
       "      <td>179844.000000</td>\n",
       "    </tr>\n",
       "    <tr>\n",
       "      <th>mean</th>\n",
       "      <td>0.570261</td>\n",
       "      <td>18.902286</td>\n",
       "    </tr>\n",
       "    <tr>\n",
       "      <th>std</th>\n",
       "      <td>0.295171</td>\n",
       "      <td>24.834444</td>\n",
       "    </tr>\n",
       "    <tr>\n",
       "      <th>min</th>\n",
       "      <td>0.000000</td>\n",
       "      <td>0.000000</td>\n",
       "    </tr>\n",
       "    <tr>\n",
       "      <th>25%</th>\n",
       "      <td>0.381000</td>\n",
       "      <td>6.300000</td>\n",
       "    </tr>\n",
       "    <tr>\n",
       "      <th>50%</th>\n",
       "      <td>0.510000</td>\n",
       "      <td>8.500000</td>\n",
       "    </tr>\n",
       "    <tr>\n",
       "      <th>75%</th>\n",
       "      <td>0.640000</td>\n",
       "      <td>18.400000</td>\n",
       "    </tr>\n",
       "    <tr>\n",
       "      <th>max</th>\n",
       "      <td>11.881000</td>\n",
       "      <td>585.900000</td>\n",
       "    </tr>\n",
       "  </tbody>\n",
       "</table>\n",
       "</div>"
      ],
      "text/plain": [
       "       speechStartTime  recordDuration\n",
       "count    179844.000000   179844.000000\n",
       "mean          0.570261       18.902286\n",
       "std           0.295171       24.834444\n",
       "min           0.000000        0.000000\n",
       "25%           0.381000        6.300000\n",
       "50%           0.510000        8.500000\n",
       "75%           0.640000       18.400000\n",
       "max          11.881000      585.900000"
      ]
     },
     "execution_count": 17,
     "metadata": {},
     "output_type": "execute_result"
    }
   ],
   "source": [
    "jl_csv = \"data/jl_json.csv\"\n",
    "jl_df = pd.read_csv(jl_csv)\n",
    "jl_df.describe()"
   ]
  },
  {
   "cell_type": "code",
   "execution_count": 3,
   "metadata": {},
   "outputs": [
    {
     "data": {
      "text/plain": [
       "28.488355"
      ]
     },
     "execution_count": 3,
     "metadata": {},
     "output_type": "execute_result"
    }
   ],
   "source": [
    "jl_df[\"speechStartTime\"].sum()/3600"
   ]
  },
  {
   "cell_type": "code",
   "execution_count": 4,
   "metadata": {},
   "outputs": [
    {
     "data": {
      "text/plain": [
       "944.2951944444445"
      ]
     },
     "execution_count": 4,
     "metadata": {},
     "output_type": "execute_result"
    }
   ],
   "source": [
    "jl_df[\"recordDuration\"].sum()/3600"
   ]
  },
  {
   "cell_type": "code",
   "execution_count": 5,
   "metadata": {},
   "outputs": [
    {
     "data": {
      "text/html": [
       "<div>\n",
       "<style scoped>\n",
       "    .dataframe tbody tr th:only-of-type {\n",
       "        vertical-align: middle;\n",
       "    }\n",
       "\n",
       "    .dataframe tbody tr th {\n",
       "        vertical-align: top;\n",
       "    }\n",
       "\n",
       "    .dataframe thead th {\n",
       "        text-align: right;\n",
       "    }\n",
       "</style>\n",
       "<table border=\"1\" class=\"dataframe\">\n",
       "  <thead>\n",
       "    <tr style=\"text-align: right;\">\n",
       "      <th></th>\n",
       "      <th>speechStartTime</th>\n",
       "      <th>recordDuration</th>\n",
       "    </tr>\n",
       "  </thead>\n",
       "  <tbody>\n",
       "    <tr>\n",
       "      <th>count</th>\n",
       "      <td>56666.000000</td>\n",
       "      <td>56666.000000</td>\n",
       "    </tr>\n",
       "    <tr>\n",
       "      <th>mean</th>\n",
       "      <td>0.545689</td>\n",
       "      <td>11.797356</td>\n",
       "    </tr>\n",
       "    <tr>\n",
       "      <th>std</th>\n",
       "      <td>0.249571</td>\n",
       "      <td>22.080004</td>\n",
       "    </tr>\n",
       "    <tr>\n",
       "      <th>min</th>\n",
       "      <td>0.001000</td>\n",
       "      <td>0.700000</td>\n",
       "    </tr>\n",
       "    <tr>\n",
       "      <th>25%</th>\n",
       "      <td>0.381000</td>\n",
       "      <td>3.100000</td>\n",
       "    </tr>\n",
       "    <tr>\n",
       "      <th>50%</th>\n",
       "      <td>0.481000</td>\n",
       "      <td>4.100000</td>\n",
       "    </tr>\n",
       "    <tr>\n",
       "      <th>75%</th>\n",
       "      <td>0.630000</td>\n",
       "      <td>6.300000</td>\n",
       "    </tr>\n",
       "    <tr>\n",
       "      <th>max</th>\n",
       "      <td>8.131000</td>\n",
       "      <td>262.700000</td>\n",
       "    </tr>\n",
       "  </tbody>\n",
       "</table>\n",
       "</div>"
      ],
      "text/plain": [
       "       speechStartTime  recordDuration\n",
       "count     56666.000000    56666.000000\n",
       "mean          0.545689       11.797356\n",
       "std           0.249571       22.080004\n",
       "min           0.001000        0.700000\n",
       "25%           0.381000        3.100000\n",
       "50%           0.481000        4.100000\n",
       "75%           0.630000        6.300000\n",
       "max           8.131000      262.700000"
      ]
     },
     "execution_count": 5,
     "metadata": {},
     "output_type": "execute_result"
    }
   ],
   "source": [
    "jj_csv = \"jj_json.csv\"\n",
    "jj_df = pd.read_csv(jj_csv)\n",
    "jj_df.describe()"
   ]
  },
  {
   "cell_type": "code",
   "execution_count": 19,
   "metadata": {},
   "outputs": [
    {
     "data": {
      "text/html": [
       "<div>\n",
       "<style scoped>\n",
       "    .dataframe tbody tr th:only-of-type {\n",
       "        vertical-align: middle;\n",
       "    }\n",
       "\n",
       "    .dataframe tbody tr th {\n",
       "        vertical-align: top;\n",
       "    }\n",
       "\n",
       "    .dataframe thead th {\n",
       "        text-align: right;\n",
       "    }\n",
       "</style>\n",
       "<table border=\"1\" class=\"dataframe\">\n",
       "  <thead>\n",
       "    <tr style=\"text-align: right;\">\n",
       "      <th></th>\n",
       "      <th>speechStartTime</th>\n",
       "      <th>recordDuration</th>\n",
       "    </tr>\n",
       "  </thead>\n",
       "  <tbody>\n",
       "    <tr>\n",
       "      <th>count</th>\n",
       "      <td>56666.000000</td>\n",
       "      <td>56666.000000</td>\n",
       "    </tr>\n",
       "    <tr>\n",
       "      <th>mean</th>\n",
       "      <td>0.545689</td>\n",
       "      <td>11.797356</td>\n",
       "    </tr>\n",
       "    <tr>\n",
       "      <th>std</th>\n",
       "      <td>0.249571</td>\n",
       "      <td>22.080004</td>\n",
       "    </tr>\n",
       "    <tr>\n",
       "      <th>min</th>\n",
       "      <td>0.001000</td>\n",
       "      <td>0.700000</td>\n",
       "    </tr>\n",
       "    <tr>\n",
       "      <th>25%</th>\n",
       "      <td>0.381000</td>\n",
       "      <td>3.100000</td>\n",
       "    </tr>\n",
       "    <tr>\n",
       "      <th>50%</th>\n",
       "      <td>0.481000</td>\n",
       "      <td>4.100000</td>\n",
       "    </tr>\n",
       "    <tr>\n",
       "      <th>75%</th>\n",
       "      <td>0.630000</td>\n",
       "      <td>6.300000</td>\n",
       "    </tr>\n",
       "    <tr>\n",
       "      <th>max</th>\n",
       "      <td>8.131000</td>\n",
       "      <td>262.700000</td>\n",
       "    </tr>\n",
       "  </tbody>\n",
       "</table>\n",
       "</div>"
      ],
      "text/plain": [
       "       speechStartTime  recordDuration\n",
       "count     56666.000000    56666.000000\n",
       "mean          0.545689       11.797356\n",
       "std           0.249571       22.080004\n",
       "min           0.001000        0.700000\n",
       "25%           0.381000        3.100000\n",
       "50%           0.481000        4.100000\n",
       "75%           0.630000        6.300000\n",
       "max           8.131000      262.700000"
      ]
     },
     "execution_count": 19,
     "metadata": {},
     "output_type": "execute_result"
    }
   ],
   "source": [
    "jj_csv = \"data/jj_json.csv\"\n",
    "jj_df = pd.read_csv(jj_csv)\n",
    "jj_df.describe()"
   ]
  },
  {
   "cell_type": "code",
   "execution_count": 6,
   "metadata": {},
   "outputs": [
    {
     "data": {
      "text/plain": [
       "8.589440277777777"
      ]
     },
     "execution_count": 6,
     "metadata": {},
     "output_type": "execute_result"
    }
   ],
   "source": [
    "jj_df[\"speechStartTime\"].sum()/3600"
   ]
  },
  {
   "cell_type": "code",
   "execution_count": 7,
   "metadata": {},
   "outputs": [
    {
     "data": {
      "text/plain": [
       "185.69694444444445"
      ]
     },
     "execution_count": 7,
     "metadata": {},
     "output_type": "execute_result"
    }
   ],
   "source": [
    "jj_df[\"recordDuration\"].sum()/3600"
   ]
  },
  {
   "cell_type": "code",
   "execution_count": 21,
   "metadata": {},
   "outputs": [
    {
     "data": {
      "text/html": [
       "<div>\n",
       "<style scoped>\n",
       "    .dataframe tbody tr th:only-of-type {\n",
       "        vertical-align: middle;\n",
       "    }\n",
       "\n",
       "    .dataframe tbody tr th {\n",
       "        vertical-align: top;\n",
       "    }\n",
       "\n",
       "    .dataframe thead th {\n",
       "        text-align: right;\n",
       "    }\n",
       "</style>\n",
       "<table border=\"1\" class=\"dataframe\">\n",
       "  <thead>\n",
       "    <tr style=\"text-align: right;\">\n",
       "      <th></th>\n",
       "      <th>speechStartTime</th>\n",
       "      <th>recordDuration</th>\n",
       "    </tr>\n",
       "  </thead>\n",
       "  <tbody>\n",
       "    <tr>\n",
       "      <th>count</th>\n",
       "      <td>236563.000000</td>\n",
       "      <td>236563.000000</td>\n",
       "    </tr>\n",
       "    <tr>\n",
       "      <th>mean</th>\n",
       "      <td>0.507577</td>\n",
       "      <td>17.027209</td>\n",
       "    </tr>\n",
       "    <tr>\n",
       "      <th>std</th>\n",
       "      <td>0.235917</td>\n",
       "      <td>20.219056</td>\n",
       "    </tr>\n",
       "    <tr>\n",
       "      <th>min</th>\n",
       "      <td>0.001000</td>\n",
       "      <td>0.200000</td>\n",
       "    </tr>\n",
       "    <tr>\n",
       "      <th>25%</th>\n",
       "      <td>0.381000</td>\n",
       "      <td>6.300000</td>\n",
       "    </tr>\n",
       "    <tr>\n",
       "      <th>50%</th>\n",
       "      <td>0.431000</td>\n",
       "      <td>8.100000</td>\n",
       "    </tr>\n",
       "    <tr>\n",
       "      <th>75%</th>\n",
       "      <td>0.581000</td>\n",
       "      <td>24.200000</td>\n",
       "    </tr>\n",
       "    <tr>\n",
       "      <th>max</th>\n",
       "      <td>11.781000</td>\n",
       "      <td>281.300000</td>\n",
       "    </tr>\n",
       "  </tbody>\n",
       "</table>\n",
       "</div>"
      ],
      "text/plain": [
       "       speechStartTime  recordDuration\n",
       "count    236563.000000   236563.000000\n",
       "mean          0.507577       17.027209\n",
       "std           0.235917       20.219056\n",
       "min           0.001000        0.200000\n",
       "25%           0.381000        6.300000\n",
       "50%           0.431000        8.100000\n",
       "75%           0.581000       24.200000\n",
       "max          11.781000      281.300000"
      ]
     },
     "execution_count": 21,
     "metadata": {},
     "output_type": "execute_result"
    }
   ],
   "source": [
    "gs_df = pd.read_csv(\"data/bakup_20230324/gs_json.csv\")\n",
    "gs_df.describe()"
   ]
  },
  {
   "cell_type": "code",
   "execution_count": 20,
   "metadata": {},
   "outputs": [
    {
     "data": {
      "text/html": [
       "<div>\n",
       "<style scoped>\n",
       "    .dataframe tbody tr th:only-of-type {\n",
       "        vertical-align: middle;\n",
       "    }\n",
       "\n",
       "    .dataframe tbody tr th {\n",
       "        vertical-align: top;\n",
       "    }\n",
       "\n",
       "    .dataframe thead th {\n",
       "        text-align: right;\n",
       "    }\n",
       "</style>\n",
       "<table border=\"1\" class=\"dataframe\">\n",
       "  <thead>\n",
       "    <tr style=\"text-align: right;\">\n",
       "      <th></th>\n",
       "      <th>speechStartTime</th>\n",
       "      <th>recordDuration</th>\n",
       "    </tr>\n",
       "  </thead>\n",
       "  <tbody>\n",
       "    <tr>\n",
       "      <th>count</th>\n",
       "      <td>236563.000000</td>\n",
       "      <td>236563.000000</td>\n",
       "    </tr>\n",
       "    <tr>\n",
       "      <th>mean</th>\n",
       "      <td>0.507577</td>\n",
       "      <td>17.027209</td>\n",
       "    </tr>\n",
       "    <tr>\n",
       "      <th>std</th>\n",
       "      <td>0.235917</td>\n",
       "      <td>20.219056</td>\n",
       "    </tr>\n",
       "    <tr>\n",
       "      <th>min</th>\n",
       "      <td>0.001000</td>\n",
       "      <td>0.200000</td>\n",
       "    </tr>\n",
       "    <tr>\n",
       "      <th>25%</th>\n",
       "      <td>0.381000</td>\n",
       "      <td>6.300000</td>\n",
       "    </tr>\n",
       "    <tr>\n",
       "      <th>50%</th>\n",
       "      <td>0.431000</td>\n",
       "      <td>8.100000</td>\n",
       "    </tr>\n",
       "    <tr>\n",
       "      <th>75%</th>\n",
       "      <td>0.581000</td>\n",
       "      <td>24.200000</td>\n",
       "    </tr>\n",
       "    <tr>\n",
       "      <th>max</th>\n",
       "      <td>11.781000</td>\n",
       "      <td>281.300000</td>\n",
       "    </tr>\n",
       "  </tbody>\n",
       "</table>\n",
       "</div>"
      ],
      "text/plain": [
       "       speechStartTime  recordDuration\n",
       "count    236563.000000   236563.000000\n",
       "mean          0.507577       17.027209\n",
       "std           0.235917       20.219056\n",
       "min           0.001000        0.200000\n",
       "25%           0.381000        6.300000\n",
       "50%           0.431000        8.100000\n",
       "75%           0.581000       24.200000\n",
       "max          11.781000      281.300000"
      ]
     },
     "execution_count": 20,
     "metadata": {},
     "output_type": "execute_result"
    }
   ],
   "source": [
    "gs_df = pd.read_csv(\"data/gs_json.csv\")\n",
    "gs_df.describe()"
   ]
  },
  {
   "cell_type": "code",
   "execution_count": 9,
   "metadata": {},
   "outputs": [
    {
     "data": {
      "text/plain": [
       "33.353902500000004"
      ]
     },
     "execution_count": 9,
     "metadata": {},
     "output_type": "execute_result"
    }
   ],
   "source": [
    "gs_df[\"speechStartTime\"].sum()/3600"
   ]
  },
  {
   "cell_type": "code",
   "execution_count": 10,
   "metadata": {},
   "outputs": [
    {
     "data": {
      "text/plain": [
       "1118.8910277777777"
      ]
     },
     "execution_count": 10,
     "metadata": {},
     "output_type": "execute_result"
    }
   ],
   "source": [
    "gs_df[\"recordDuration\"].sum()/3600"
   ]
  },
  {
   "cell_type": "code",
   "execution_count": 11,
   "metadata": {},
   "outputs": [
    {
     "data": {
      "text/html": [
       "<div>\n",
       "<style scoped>\n",
       "    .dataframe tbody tr th:only-of-type {\n",
       "        vertical-align: middle;\n",
       "    }\n",
       "\n",
       "    .dataframe tbody tr th {\n",
       "        vertical-align: top;\n",
       "    }\n",
       "\n",
       "    .dataframe thead th {\n",
       "        text-align: right;\n",
       "    }\n",
       "</style>\n",
       "<table border=\"1\" class=\"dataframe\">\n",
       "  <thead>\n",
       "    <tr style=\"text-align: right;\">\n",
       "      <th></th>\n",
       "      <th>speechStartTime</th>\n",
       "      <th>recordDuration</th>\n",
       "    </tr>\n",
       "  </thead>\n",
       "  <tbody>\n",
       "    <tr>\n",
       "      <th>count</th>\n",
       "      <td>142374.000000</td>\n",
       "      <td>142374.000000</td>\n",
       "    </tr>\n",
       "    <tr>\n",
       "      <th>mean</th>\n",
       "      <td>0.528205</td>\n",
       "      <td>18.967550</td>\n",
       "    </tr>\n",
       "    <tr>\n",
       "      <th>std</th>\n",
       "      <td>0.253462</td>\n",
       "      <td>20.521366</td>\n",
       "    </tr>\n",
       "    <tr>\n",
       "      <th>min</th>\n",
       "      <td>0.001000</td>\n",
       "      <td>0.500000</td>\n",
       "    </tr>\n",
       "    <tr>\n",
       "      <th>25%</th>\n",
       "      <td>0.381000</td>\n",
       "      <td>7.800000</td>\n",
       "    </tr>\n",
       "    <tr>\n",
       "      <th>50%</th>\n",
       "      <td>0.431000</td>\n",
       "      <td>10.700000</td>\n",
       "    </tr>\n",
       "    <tr>\n",
       "      <th>75%</th>\n",
       "      <td>0.610000</td>\n",
       "      <td>25.100000</td>\n",
       "    </tr>\n",
       "    <tr>\n",
       "      <th>max</th>\n",
       "      <td>11.531000</td>\n",
       "      <td>193.200000</td>\n",
       "    </tr>\n",
       "  </tbody>\n",
       "</table>\n",
       "</div>"
      ],
      "text/plain": [
       "       speechStartTime  recordDuration\n",
       "count    142374.000000   142374.000000\n",
       "mean          0.528205       18.967550\n",
       "std           0.253462       20.521366\n",
       "min           0.001000        0.500000\n",
       "25%           0.381000        7.800000\n",
       "50%           0.431000       10.700000\n",
       "75%           0.610000       25.100000\n",
       "max          11.531000      193.200000"
      ]
     },
     "execution_count": 11,
     "metadata": {},
     "output_type": "execute_result"
    }
   ],
   "source": [
    "gw_df = pd.read_csv(\"gw_json.csv\")\n",
    "gw_df.describe()"
   ]
  },
  {
   "cell_type": "code",
   "execution_count": 22,
   "metadata": {},
   "outputs": [
    {
     "data": {
      "text/html": [
       "<div>\n",
       "<style scoped>\n",
       "    .dataframe tbody tr th:only-of-type {\n",
       "        vertical-align: middle;\n",
       "    }\n",
       "\n",
       "    .dataframe tbody tr th {\n",
       "        vertical-align: top;\n",
       "    }\n",
       "\n",
       "    .dataframe thead th {\n",
       "        text-align: right;\n",
       "    }\n",
       "</style>\n",
       "<table border=\"1\" class=\"dataframe\">\n",
       "  <thead>\n",
       "    <tr style=\"text-align: right;\">\n",
       "      <th></th>\n",
       "      <th>speechStartTime</th>\n",
       "      <th>recordDuration</th>\n",
       "    </tr>\n",
       "  </thead>\n",
       "  <tbody>\n",
       "    <tr>\n",
       "      <th>count</th>\n",
       "      <td>142374.000000</td>\n",
       "      <td>142374.000000</td>\n",
       "    </tr>\n",
       "    <tr>\n",
       "      <th>mean</th>\n",
       "      <td>0.528205</td>\n",
       "      <td>18.967550</td>\n",
       "    </tr>\n",
       "    <tr>\n",
       "      <th>std</th>\n",
       "      <td>0.253462</td>\n",
       "      <td>20.521366</td>\n",
       "    </tr>\n",
       "    <tr>\n",
       "      <th>min</th>\n",
       "      <td>0.001000</td>\n",
       "      <td>0.500000</td>\n",
       "    </tr>\n",
       "    <tr>\n",
       "      <th>25%</th>\n",
       "      <td>0.381000</td>\n",
       "      <td>7.800000</td>\n",
       "    </tr>\n",
       "    <tr>\n",
       "      <th>50%</th>\n",
       "      <td>0.431000</td>\n",
       "      <td>10.700000</td>\n",
       "    </tr>\n",
       "    <tr>\n",
       "      <th>75%</th>\n",
       "      <td>0.610000</td>\n",
       "      <td>25.100000</td>\n",
       "    </tr>\n",
       "    <tr>\n",
       "      <th>max</th>\n",
       "      <td>11.531000</td>\n",
       "      <td>193.200000</td>\n",
       "    </tr>\n",
       "  </tbody>\n",
       "</table>\n",
       "</div>"
      ],
      "text/plain": [
       "       speechStartTime  recordDuration\n",
       "count    142374.000000   142374.000000\n",
       "mean          0.528205       18.967550\n",
       "std           0.253462       20.521366\n",
       "min           0.001000        0.500000\n",
       "25%           0.381000        7.800000\n",
       "50%           0.431000       10.700000\n",
       "75%           0.610000       25.100000\n",
       "max          11.531000      193.200000"
      ]
     },
     "execution_count": 22,
     "metadata": {},
     "output_type": "execute_result"
    }
   ],
   "source": [
    "gw_df = pd.read_csv(\"data/gw_json.csv\")\n",
    "gw_df.describe()"
   ]
  },
  {
   "cell_type": "code",
   "execution_count": 12,
   "metadata": {},
   "outputs": [
    {
     "data": {
      "text/plain": [
       "20.889609444444442"
      ]
     },
     "execution_count": 12,
     "metadata": {},
     "output_type": "execute_result"
    }
   ],
   "source": [
    "gw_df[\"speechStartTime\"].sum()/3600"
   ]
  },
  {
   "cell_type": "code",
   "execution_count": 13,
   "metadata": {},
   "outputs": [
    {
     "data": {
      "text/plain": [
       "750.135"
      ]
     },
     "execution_count": 13,
     "metadata": {},
     "output_type": "execute_result"
    }
   ],
   "source": [
    "gw_df[\"recordDuration\"].sum()/3600"
   ]
  },
  {
   "cell_type": "code",
   "execution_count": 14,
   "metadata": {},
   "outputs": [
    {
     "data": {
      "text/html": [
       "<div>\n",
       "<style scoped>\n",
       "    .dataframe tbody tr th:only-of-type {\n",
       "        vertical-align: middle;\n",
       "    }\n",
       "\n",
       "    .dataframe tbody tr th {\n",
       "        vertical-align: top;\n",
       "    }\n",
       "\n",
       "    .dataframe thead th {\n",
       "        text-align: right;\n",
       "    }\n",
       "</style>\n",
       "<table border=\"1\" class=\"dataframe\">\n",
       "  <thead>\n",
       "    <tr style=\"text-align: right;\">\n",
       "      <th></th>\n",
       "      <th>speechStartTime</th>\n",
       "      <th>recordDuration</th>\n",
       "    </tr>\n",
       "  </thead>\n",
       "  <tbody>\n",
       "    <tr>\n",
       "      <th>count</th>\n",
       "      <td>161415.000000</td>\n",
       "      <td>161415.000000</td>\n",
       "    </tr>\n",
       "    <tr>\n",
       "      <th>mean</th>\n",
       "      <td>0.570066</td>\n",
       "      <td>16.689590</td>\n",
       "    </tr>\n",
       "    <tr>\n",
       "      <th>std</th>\n",
       "      <td>0.283967</td>\n",
       "      <td>21.090589</td>\n",
       "    </tr>\n",
       "    <tr>\n",
       "      <th>min</th>\n",
       "      <td>0.001000</td>\n",
       "      <td>0.400000</td>\n",
       "    </tr>\n",
       "    <tr>\n",
       "      <th>25%</th>\n",
       "      <td>0.381000</td>\n",
       "      <td>6.100000</td>\n",
       "    </tr>\n",
       "    <tr>\n",
       "      <th>50%</th>\n",
       "      <td>0.510000</td>\n",
       "      <td>8.000000</td>\n",
       "    </tr>\n",
       "    <tr>\n",
       "      <th>75%</th>\n",
       "      <td>0.650000</td>\n",
       "      <td>18.600000</td>\n",
       "    </tr>\n",
       "    <tr>\n",
       "      <th>max</th>\n",
       "      <td>10.860000</td>\n",
       "      <td>590.000000</td>\n",
       "    </tr>\n",
       "  </tbody>\n",
       "</table>\n",
       "</div>"
      ],
      "text/plain": [
       "       speechStartTime  recordDuration\n",
       "count    161415.000000   161415.000000\n",
       "mean          0.570066       16.689590\n",
       "std           0.283967       21.090589\n",
       "min           0.001000        0.400000\n",
       "25%           0.381000        6.100000\n",
       "50%           0.510000        8.000000\n",
       "75%           0.650000       18.600000\n",
       "max          10.860000      590.000000"
      ]
     },
     "execution_count": 14,
     "metadata": {},
     "output_type": "execute_result"
    }
   ],
   "source": [
    "cc_df = pd.read_csv(\"cc_json.csv\")\n",
    "cc_df.describe()"
   ]
  },
  {
   "cell_type": "code",
   "execution_count": 23,
   "metadata": {},
   "outputs": [
    {
     "data": {
      "text/html": [
       "<div>\n",
       "<style scoped>\n",
       "    .dataframe tbody tr th:only-of-type {\n",
       "        vertical-align: middle;\n",
       "    }\n",
       "\n",
       "    .dataframe tbody tr th {\n",
       "        vertical-align: top;\n",
       "    }\n",
       "\n",
       "    .dataframe thead th {\n",
       "        text-align: right;\n",
       "    }\n",
       "</style>\n",
       "<table border=\"1\" class=\"dataframe\">\n",
       "  <thead>\n",
       "    <tr style=\"text-align: right;\">\n",
       "      <th></th>\n",
       "      <th>speechStartTime</th>\n",
       "      <th>recordDuration</th>\n",
       "    </tr>\n",
       "  </thead>\n",
       "  <tbody>\n",
       "    <tr>\n",
       "      <th>count</th>\n",
       "      <td>161415.000000</td>\n",
       "      <td>161415.000000</td>\n",
       "    </tr>\n",
       "    <tr>\n",
       "      <th>mean</th>\n",
       "      <td>0.570066</td>\n",
       "      <td>16.689590</td>\n",
       "    </tr>\n",
       "    <tr>\n",
       "      <th>std</th>\n",
       "      <td>0.283967</td>\n",
       "      <td>21.090589</td>\n",
       "    </tr>\n",
       "    <tr>\n",
       "      <th>min</th>\n",
       "      <td>0.001000</td>\n",
       "      <td>0.400000</td>\n",
       "    </tr>\n",
       "    <tr>\n",
       "      <th>25%</th>\n",
       "      <td>0.381000</td>\n",
       "      <td>6.100000</td>\n",
       "    </tr>\n",
       "    <tr>\n",
       "      <th>50%</th>\n",
       "      <td>0.510000</td>\n",
       "      <td>8.000000</td>\n",
       "    </tr>\n",
       "    <tr>\n",
       "      <th>75%</th>\n",
       "      <td>0.650000</td>\n",
       "      <td>18.600000</td>\n",
       "    </tr>\n",
       "    <tr>\n",
       "      <th>max</th>\n",
       "      <td>10.860000</td>\n",
       "      <td>590.000000</td>\n",
       "    </tr>\n",
       "  </tbody>\n",
       "</table>\n",
       "</div>"
      ],
      "text/plain": [
       "       speechStartTime  recordDuration\n",
       "count    161415.000000   161415.000000\n",
       "mean          0.570066       16.689590\n",
       "std           0.283967       21.090589\n",
       "min           0.001000        0.400000\n",
       "25%           0.381000        6.100000\n",
       "50%           0.510000        8.000000\n",
       "75%           0.650000       18.600000\n",
       "max          10.860000      590.000000"
      ]
     },
     "execution_count": 23,
     "metadata": {},
     "output_type": "execute_result"
    }
   ],
   "source": [
    "cc_df = pd.read_csv(\"data/cc_json.csv\")\n",
    "cc_df.describe()"
   ]
  },
  {
   "cell_type": "code",
   "execution_count": 15,
   "metadata": {},
   "outputs": [
    {
     "data": {
      "text/plain": [
       "25.560332500000005"
      ]
     },
     "execution_count": 15,
     "metadata": {},
     "output_type": "execute_result"
    }
   ],
   "source": [
    "cc_df[\"speechStartTime\"].sum()/3600"
   ]
  },
  {
   "cell_type": "code",
   "execution_count": 16,
   "metadata": {},
   "outputs": [
    {
     "data": {
      "text/plain": [
       "748.3195000000001"
      ]
     },
     "execution_count": 16,
     "metadata": {},
     "output_type": "execute_result"
    }
   ],
   "source": [
    "cc_df[\"recordDuration\"].sum()/3600"
   ]
  }
 ],
 "metadata": {
  "kernelspec": {
   "display_name": "base",
   "language": "python",
   "name": "python3"
  },
  "language_info": {
   "codemirror_mode": {
    "name": "ipython",
    "version": 3
   },
   "file_extension": ".py",
   "mimetype": "text/x-python",
   "name": "python",
   "nbconvert_exporter": "python",
   "pygments_lexer": "ipython3",
   "version": "3.8.12"
  },
  "orig_nbformat": 4
 },
 "nbformat": 4,
 "nbformat_minor": 2
}
