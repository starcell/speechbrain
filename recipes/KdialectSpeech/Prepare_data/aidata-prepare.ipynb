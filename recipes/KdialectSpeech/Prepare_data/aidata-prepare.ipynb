{
 "cells": [
  {
   "cell_type": "code",
   "execution_count": 1,
   "metadata": {},
   "outputs": [
    {
     "name": "stderr",
     "output_type": "stream",
     "text": [
      "Duplicate key in file PosixPath('/opt/conda/lib/python3.8/site-packages/matplotlib/mpl-data/matplotlibrc'), line 257 ('font.family: NanumGothic')\n"
     ]
    }
   ],
   "source": [
    "import pandas as pd\n",
    "\n",
    "# 그래프에서 한글을 표시하기 위해 한글 폰트 필요\n",
    "# 아래는 리눅스용이므로 위도우에서 사용할 경우 안될 수 있습니다. 그러면 윈도우에서의 설정 방법을 찾아서 해야 합니다.\n",
    "# apt-get install -y fonts-nanum\n",
    "\n",
    "# https://dasom.net/108\n",
    "\n",
    "import matplotlib.pyplot as plt\n",
    "plt.rc('axes', unicode_minus=False)\n",
    "plt.rcParams[\"font.family\"] = \"NanumGothic\""
   ]
  },
  {
   "cell_type": "code",
   "execution_count": 2,
   "metadata": {},
   "outputs": [],
   "source": [
    "# 모든 행을 보기위한 설정\n",
    "pd.set_option('display.max_rows', None)"
   ]
  },
  {
   "cell_type": "code",
   "execution_count": 3,
   "metadata": {},
   "outputs": [],
   "source": [
    "gw_file = \"/data/aidata/sentence/gw.csv\"\n",
    "gw_df = pd.read_csv(gw_file)\n",
    "\n",
    "gs_file = \"/data/aidata/sentence/gs.csv\"\n",
    "gs_df = pd.read_csv(gs_file)\n",
    "\n",
    "jl_file = \"/data/aidata/sentence/jl.csv\"\n",
    "jl_df = pd.read_csv(jl_file)\n",
    "\n",
    "jj_file = \"/data/aidata/sentence/jj.csv\"\n",
    "jj_df = pd.read_csv(jj_file)\n",
    "\n",
    "cc_file = \"/data/aidata/sentence/cc.csv\"\n",
    "cc_df = pd.read_csv(cc_file)\n"
   ]
  },
  {
   "cell_type": "code",
   "execution_count": 4,
   "metadata": {},
   "outputs": [
    {
     "data": {
      "text/html": [
       "<div>\n",
       "<style scoped>\n",
       "    .dataframe tbody tr th:only-of-type {\n",
       "        vertical-align: middle;\n",
       "    }\n",
       "\n",
       "    .dataframe tbody tr th {\n",
       "        vertical-align: top;\n",
       "    }\n",
       "\n",
       "    .dataframe thead th {\n",
       "        text-align: right;\n",
       "    }\n",
       "</style>\n",
       "<table border=\"1\" class=\"dataframe\">\n",
       "  <thead>\n",
       "    <tr style=\"text-align: right;\">\n",
       "      <th></th>\n",
       "      <th>duration</th>\n",
       "    </tr>\n",
       "  </thead>\n",
       "  <tbody>\n",
       "    <tr>\n",
       "      <th>count</th>\n",
       "      <td>303859.000000</td>\n",
       "    </tr>\n",
       "    <tr>\n",
       "      <th>mean</th>\n",
       "      <td>8.592264</td>\n",
       "    </tr>\n",
       "    <tr>\n",
       "      <th>std</th>\n",
       "      <td>6.393483</td>\n",
       "    </tr>\n",
       "    <tr>\n",
       "      <th>min</th>\n",
       "      <td>0.090000</td>\n",
       "    </tr>\n",
       "    <tr>\n",
       "      <th>25%</th>\n",
       "      <td>4.470000</td>\n",
       "    </tr>\n",
       "    <tr>\n",
       "      <th>50%</th>\n",
       "      <td>7.459000</td>\n",
       "    </tr>\n",
       "    <tr>\n",
       "      <th>75%</th>\n",
       "      <td>10.679000</td>\n",
       "    </tr>\n",
       "    <tr>\n",
       "      <th>max</th>\n",
       "      <td>160.030000</td>\n",
       "    </tr>\n",
       "  </tbody>\n",
       "</table>\n",
       "</div>"
      ],
      "text/plain": [
       "            duration\n",
       "count  303859.000000\n",
       "mean        8.592264\n",
       "std         6.393483\n",
       "min         0.090000\n",
       "25%         4.470000\n",
       "50%         7.459000\n",
       "75%        10.679000\n",
       "max       160.030000"
      ]
     },
     "execution_count": 4,
     "metadata": {},
     "output_type": "execute_result"
    }
   ],
   "source": [
    "gw_df.describe()"
   ]
  },
  {
   "cell_type": "code",
   "execution_count": 5,
   "metadata": {},
   "outputs": [
    {
     "data": {
      "text/html": [
       "<div>\n",
       "<style scoped>\n",
       "    .dataframe tbody tr th:only-of-type {\n",
       "        vertical-align: middle;\n",
       "    }\n",
       "\n",
       "    .dataframe tbody tr th {\n",
       "        vertical-align: top;\n",
       "    }\n",
       "\n",
       "    .dataframe thead th {\n",
       "        text-align: right;\n",
       "    }\n",
       "</style>\n",
       "<table border=\"1\" class=\"dataframe\">\n",
       "  <thead>\n",
       "    <tr style=\"text-align: right;\">\n",
       "      <th></th>\n",
       "      <th>ID</th>\n",
       "      <th>duration</th>\n",
       "      <th>wav</th>\n",
       "      <th>province_code</th>\n",
       "      <th>wrd</th>\n",
       "    </tr>\n",
       "  </thead>\n",
       "  <tbody>\n",
       "    <tr>\n",
       "      <th>0</th>\n",
       "      <td>talk_set1_collectorgw99_speakergw459_speakergw...</td>\n",
       "      <td>4.151</td>\n",
       "      <td>/data/aidata/sentence/139-1.중·노년층 한국어 방언 데이터 (...</td>\n",
       "      <td>gw</td>\n",
       "      <td>어머 자기는 뭐 좋아해 나는 회가 난 굉장히 좋아하거든</td>\n",
       "    </tr>\n",
       "    <tr>\n",
       "      <th>1</th>\n",
       "      <td>talk_set1_collectorgw99_speakergw459_speakergw...</td>\n",
       "      <td>1.948</td>\n",
       "      <td>/data/aidata/sentence/139-1.중·노년층 한국어 방언 데이터 (...</td>\n",
       "      <td>gw</td>\n",
       "      <td>회를 좋아해요 어머 나 회 싫어해</td>\n",
       "    </tr>\n",
       "    <tr>\n",
       "      <th>2</th>\n",
       "      <td>talk_set1_collectorgw99_speakergw459_speakergw...</td>\n",
       "      <td>0.817</td>\n",
       "      <td>/data/aidata/sentence/139-1.중·노년층 한국어 방언 데이터 (...</td>\n",
       "      <td>gw</td>\n",
       "      <td>어머 어머 어머 그래</td>\n",
       "    </tr>\n",
       "    <tr>\n",
       "      <th>3</th>\n",
       "      <td>talk_set1_collectorgw99_speakergw459_speakergw...</td>\n",
       "      <td>4.779</td>\n",
       "      <td>/data/aidata/sentence/139-1.중·노년층 한국어 방언 데이터 (...</td>\n",
       "      <td>gw</td>\n",
       "      <td>왜냐하면은 그 날 것에 대해서 별로 안 좋은 기억이 있어가지고</td>\n",
       "    </tr>\n",
       "    <tr>\n",
       "      <th>4</th>\n",
       "      <td>talk_set1_collectorgw99_speakergw459_speakergw...</td>\n",
       "      <td>0.386</td>\n",
       "      <td>/data/aidata/sentence/139-1.중·노년층 한국어 방언 데이터 (...</td>\n",
       "      <td>gw</td>\n",
       "      <td>어</td>\n",
       "    </tr>\n",
       "  </tbody>\n",
       "</table>\n",
       "</div>"
      ],
      "text/plain": [
       "                                                  ID  duration  \\\n",
       "0  talk_set1_collectorgw99_speakergw459_speakergw...     4.151   \n",
       "1  talk_set1_collectorgw99_speakergw459_speakergw...     1.948   \n",
       "2  talk_set1_collectorgw99_speakergw459_speakergw...     0.817   \n",
       "3  talk_set1_collectorgw99_speakergw459_speakergw...     4.779   \n",
       "4  talk_set1_collectorgw99_speakergw459_speakergw...     0.386   \n",
       "\n",
       "                                                 wav province_code  \\\n",
       "0  /data/aidata/sentence/139-1.중·노년층 한국어 방언 데이터 (...            gw   \n",
       "1  /data/aidata/sentence/139-1.중·노년층 한국어 방언 데이터 (...            gw   \n",
       "2  /data/aidata/sentence/139-1.중·노년층 한국어 방언 데이터 (...            gw   \n",
       "3  /data/aidata/sentence/139-1.중·노년층 한국어 방언 데이터 (...            gw   \n",
       "4  /data/aidata/sentence/139-1.중·노년층 한국어 방언 데이터 (...            gw   \n",
       "\n",
       "                                  wrd  \n",
       "0      어머 자기는 뭐 좋아해 나는 회가 난 굉장히 좋아하거든  \n",
       "1                  회를 좋아해요 어머 나 회 싫어해  \n",
       "2                         어머 어머 어머 그래  \n",
       "3  왜냐하면은 그 날 것에 대해서 별로 안 좋은 기억이 있어가지고  \n",
       "4                                   어  "
      ]
     },
     "execution_count": 5,
     "metadata": {},
     "output_type": "execute_result"
    }
   ],
   "source": [
    "gw_df.head()"
   ]
  },
  {
   "cell_type": "code",
   "execution_count": 5,
   "metadata": {},
   "outputs": [
    {
     "name": "stdout",
     "output_type": "stream",
     "text": [
      "강원 시간 합계 : 725.2324433333332\n",
      "경상 시간 합계 : 1085.9429852777778\n",
      "전라 시간 합계 : 911.6785638888888\n",
      "제주 시간 합계 : 181.05086138888888\n",
      "충청 시간 합계 : 713.2700569444444\n"
     ]
    }
   ],
   "source": [
    "print(f'강원 시간 합계 : {gw_df.duration.sum()/3600}')\n",
    "print(f'경상 시간 합계 : {gs_df.duration.sum()/3600}')\n",
    "print(f'전라 시간 합계 : {jl_df.duration.sum()/3600}')\n",
    "print(f'제주 시간 합계 : {jj_df.duration.sum()/3600}')\n",
    "print(f'충청 시간 합계 : {cc_df.duration.sum()/3600}')"
   ]
  },
  {
   "cell_type": "code",
   "execution_count": 6,
   "metadata": {},
   "outputs": [],
   "source": [
    "gw_short_1000_df = gw_df.sort_values(by=['duration']).head(1000)\n",
    "gw_short_1000_file = \"/data/aidata/sentence/gw_short_1000.csv\"\n",
    "gw_short_1000_df.to_csv(gw_short_1000_file, index=False)\n",
    "# gw_short_1000_df"
   ]
  },
  {
   "cell_type": "code",
   "execution_count": 7,
   "metadata": {},
   "outputs": [],
   "source": [
    "gs_short_1000_df = gs_df.sort_values(by=['duration']).head(1000)\n",
    "gs_short_1000_file = \"/data/aidata/sentence/gs_short_1000.csv\"\n",
    "gs_short_1000_df.to_csv(gs_short_1000_file, index=False)\n",
    "# gs_short_1000_df"
   ]
  },
  {
   "cell_type": "code",
   "execution_count": 8,
   "metadata": {},
   "outputs": [],
   "source": [
    "cc_short_1000_df = cc_df.sort_values(by=['duration']).head(1000)\n",
    "cc_short_1000_file = \"/data/aidata/sentence/cc_short_1000.csv\"\n",
    "cc_short_1000_df.to_csv(cc_short_1000_file, index=False)\n",
    "# cc_short_1000_df"
   ]
  },
  {
   "cell_type": "code",
   "execution_count": 9,
   "metadata": {},
   "outputs": [],
   "source": [
    "jl_short_1000_df = jl_df.sort_values(by=['duration']).head(1000)\n",
    "jl_short_1000_file = \"/data/aidata/sentence/jl_short_1000.csv\"\n",
    "jl_short_1000_df.to_csv(jl_short_1000_file, index=False)"
   ]
  },
  {
   "cell_type": "code",
   "execution_count": 10,
   "metadata": {},
   "outputs": [],
   "source": [
    "jj_short_1000_df = jj_df.sort_values(by=['duration']).head(1000)\n",
    "jj_short_1000_file = \"/data/aidata/sentence/jj_short_1000.csv\"\n",
    "jj_short_1000_df.to_csv(jj_short_1000_file, index=False)"
   ]
  },
  {
   "cell_type": "code",
   "execution_count": 11,
   "metadata": {},
   "outputs": [
    {
     "data": {
      "text/plain": [
       "1619810"
      ]
     },
     "execution_count": 11,
     "metadata": {},
     "output_type": "execute_result"
    }
   ],
   "source": [
    "len(gw_df) \\\n",
    "+ len(gs_df) \\\n",
    "+ len(jl_df) \\\n",
    "+ len(jj_df) \\\n",
    "+ len(cc_df)"
   ]
  },
  {
   "cell_type": "code",
   "execution_count": 12,
   "metadata": {},
   "outputs": [],
   "source": [
    "total_df = pd.concat([gw_df, gs_df, jl_df, jj_df, cc_df])"
   ]
  },
  {
   "cell_type": "code",
   "execution_count": 13,
   "metadata": {},
   "outputs": [
    {
     "data": {
      "text/plain": [
       "1619810"
      ]
     },
     "execution_count": 13,
     "metadata": {},
     "output_type": "execute_result"
    }
   ],
   "source": [
    "len(total_df)"
   ]
  },
  {
   "cell_type": "code",
   "execution_count": 23,
   "metadata": {},
   "outputs": [
    {
     "data": {
      "text/html": [
       "<div>\n",
       "<style scoped>\n",
       "    .dataframe tbody tr th:only-of-type {\n",
       "        vertical-align: middle;\n",
       "    }\n",
       "\n",
       "    .dataframe tbody tr th {\n",
       "        vertical-align: top;\n",
       "    }\n",
       "\n",
       "    .dataframe thead th {\n",
       "        text-align: right;\n",
       "    }\n",
       "</style>\n",
       "<table border=\"1\" class=\"dataframe\">\n",
       "  <thead>\n",
       "    <tr style=\"text-align: right;\">\n",
       "      <th></th>\n",
       "      <th>ID</th>\n",
       "      <th>duration</th>\n",
       "      <th>wav</th>\n",
       "      <th>province_code</th>\n",
       "      <th>wrd</th>\n",
       "    </tr>\n",
       "  </thead>\n",
       "  <tbody>\n",
       "    <tr>\n",
       "      <th>0</th>\n",
       "      <td>talk_set1_collectorgw99_speakergw459_speakergw...</td>\n",
       "      <td>4.151</td>\n",
       "      <td>/data/aidata/sentence/139-1.중·노년층 한국어 방언 데이터 (...</td>\n",
       "      <td>gw</td>\n",
       "      <td>어머 자기는 뭐 좋아해 나는 회가 난 굉장히 좋아하거든</td>\n",
       "    </tr>\n",
       "    <tr>\n",
       "      <th>1</th>\n",
       "      <td>talk_set1_collectorgw99_speakergw459_speakergw...</td>\n",
       "      <td>1.948</td>\n",
       "      <td>/data/aidata/sentence/139-1.중·노년층 한국어 방언 데이터 (...</td>\n",
       "      <td>gw</td>\n",
       "      <td>회를 좋아해요 어머 나 회 싫어해</td>\n",
       "    </tr>\n",
       "    <tr>\n",
       "      <th>2</th>\n",
       "      <td>talk_set1_collectorgw99_speakergw459_speakergw...</td>\n",
       "      <td>0.817</td>\n",
       "      <td>/data/aidata/sentence/139-1.중·노년층 한국어 방언 데이터 (...</td>\n",
       "      <td>gw</td>\n",
       "      <td>어머 어머 어머 그래</td>\n",
       "    </tr>\n",
       "    <tr>\n",
       "      <th>3</th>\n",
       "      <td>talk_set1_collectorgw99_speakergw459_speakergw...</td>\n",
       "      <td>4.779</td>\n",
       "      <td>/data/aidata/sentence/139-1.중·노년층 한국어 방언 데이터 (...</td>\n",
       "      <td>gw</td>\n",
       "      <td>왜냐하면은 그 날 것에 대해서 별로 안 좋은 기억이 있어가지고</td>\n",
       "    </tr>\n",
       "    <tr>\n",
       "      <th>4</th>\n",
       "      <td>talk_set1_collectorgw99_speakergw459_speakergw...</td>\n",
       "      <td>0.386</td>\n",
       "      <td>/data/aidata/sentence/139-1.중·노년층 한국어 방언 데이터 (...</td>\n",
       "      <td>gw</td>\n",
       "      <td>어</td>\n",
       "    </tr>\n",
       "  </tbody>\n",
       "</table>\n",
       "</div>"
      ],
      "text/plain": [
       "                                                  ID  duration  \\\n",
       "0  talk_set1_collectorgw99_speakergw459_speakergw...     4.151   \n",
       "1  talk_set1_collectorgw99_speakergw459_speakergw...     1.948   \n",
       "2  talk_set1_collectorgw99_speakergw459_speakergw...     0.817   \n",
       "3  talk_set1_collectorgw99_speakergw459_speakergw...     4.779   \n",
       "4  talk_set1_collectorgw99_speakergw459_speakergw...     0.386   \n",
       "\n",
       "                                                 wav province_code  \\\n",
       "0  /data/aidata/sentence/139-1.중·노년층 한국어 방언 데이터 (...            gw   \n",
       "1  /data/aidata/sentence/139-1.중·노년층 한국어 방언 데이터 (...            gw   \n",
       "2  /data/aidata/sentence/139-1.중·노년층 한국어 방언 데이터 (...            gw   \n",
       "3  /data/aidata/sentence/139-1.중·노년층 한국어 방언 데이터 (...            gw   \n",
       "4  /data/aidata/sentence/139-1.중·노년층 한국어 방언 데이터 (...            gw   \n",
       "\n",
       "                                  wrd  \n",
       "0      어머 자기는 뭐 좋아해 나는 회가 난 굉장히 좋아하거든  \n",
       "1                  회를 좋아해요 어머 나 회 싫어해  \n",
       "2                         어머 어머 어머 그래  \n",
       "3  왜냐하면은 그 날 것에 대해서 별로 안 좋은 기억이 있어가지고  \n",
       "4                                   어  "
      ]
     },
     "execution_count": 23,
     "metadata": {},
     "output_type": "execute_result"
    }
   ],
   "source": [
    "# total_df.head()"
   ]
  },
  {
   "cell_type": "code",
   "execution_count": 14,
   "metadata": {},
   "outputs": [],
   "source": [
    "total_shuffled_df = total_df.sample(frac=1, random_state=7774)\n",
    "# total_shuffled_df.head()"
   ]
  },
  {
   "cell_type": "code",
   "execution_count": 15,
   "metadata": {},
   "outputs": [],
   "source": [
    "total_file = \"/data/aidata/sentence/total.csv\"\n",
    "total_shuffled_df.to_csv(total_file, index=False)"
   ]
  },
  {
   "cell_type": "code",
   "execution_count": 23,
   "metadata": {},
   "outputs": [],
   "source": [
    "total_random_100 = total_df.sample(n=100, # number of items from axis to return.\n",
    "          random_state=7774) # seed for random number generator for reproducibility"
   ]
  },
  {
   "cell_type": "code",
   "execution_count": 11,
   "metadata": {},
   "outputs": [
    {
     "data": {
      "text/html": [
       "<div>\n",
       "<style scoped>\n",
       "    .dataframe tbody tr th:only-of-type {\n",
       "        vertical-align: middle;\n",
       "    }\n",
       "\n",
       "    .dataframe tbody tr th {\n",
       "        vertical-align: top;\n",
       "    }\n",
       "\n",
       "    .dataframe thead th {\n",
       "        text-align: right;\n",
       "    }\n",
       "</style>\n",
       "<table border=\"1\" class=\"dataframe\">\n",
       "  <thead>\n",
       "    <tr style=\"text-align: right;\">\n",
       "      <th></th>\n",
       "      <th>ID</th>\n",
       "      <th>duration</th>\n",
       "      <th>wav</th>\n",
       "      <th>province_code</th>\n",
       "      <th>wrd</th>\n",
       "    </tr>\n",
       "  </thead>\n",
       "  <tbody>\n",
       "    <tr>\n",
       "      <th>397325</th>\n",
       "      <td>total-say_set1_collectorgs65_speakergs2211_27_...</td>\n",
       "      <td>5.599</td>\n",
       "      <td>/data/MTDATA/fn-2-018/root/person/say/gs/colle...</td>\n",
       "      <td>total</td>\n",
       "      <td>그래 누가 어디 가서 이야기 아들이라 카더라고요 그래 낳아 보니 진짜 아들이더라고예</td>\n",
       "    </tr>\n",
       "    <tr>\n",
       "      <th>206458</th>\n",
       "      <td>total-talk_set1_collectorjl186_speakerjl2307_s...</td>\n",
       "      <td>3.589</td>\n",
       "      <td>/data/MTDATA/fn-2-018/root/people/talk/jl/coll...</td>\n",
       "      <td>total</td>\n",
       "      <td>그먼 좋기는 좋지만은 나는 현찰이 필요하요야</td>\n",
       "    </tr>\n",
       "    <tr>\n",
       "      <th>425627</th>\n",
       "      <td>total-say_set1_collectorgs384_speakergs3749_15...</td>\n",
       "      <td>4.530</td>\n",
       "      <td>/data/MTDATA/fn-2-018/root/person/say/gs/colle...</td>\n",
       "      <td>total</td>\n",
       "      <td>꽃보다 단풍이 더 좋은 것 겉더라 꽃도 좋아하는데</td>\n",
       "    </tr>\n",
       "    <tr>\n",
       "      <th>334724</th>\n",
       "      <td>total-say_set1_collectorgs436_speakergs4107_64...</td>\n",
       "      <td>4.610</td>\n",
       "      <td>/data/MTDATA/fn-2-018/root/person/say/gs/colle...</td>\n",
       "      <td>total</td>\n",
       "      <td>옛날에는 뜨거운 물 사용할라면은 힘들었어요</td>\n",
       "    </tr>\n",
       "    <tr>\n",
       "      <th>800537</th>\n",
       "      <td>total-say_set3_collectorjl124_speakerjl1249_40...</td>\n",
       "      <td>12.511</td>\n",
       "      <td>/data/MTDATA/fn-2-018/root/person/say/jl/colle...</td>\n",
       "      <td>total</td>\n",
       "      <td>그러니까 이 년도 안된 에어컨이 중고상에 내놓으라니까 한 육 칠십 만 원밖에 안 되...</td>\n",
       "    </tr>\n",
       "    <tr>\n",
       "      <th>1004435</th>\n",
       "      <td>total-say_set1_collectorgw197_speakergw1410_47...</td>\n",
       "      <td>14.609</td>\n",
       "      <td>/data/MTDATA/fn-2-018/root/person/say/gw/colle...</td>\n",
       "      <td>total</td>\n",
       "      <td>가장 힘든 거야 뭐 내가 볼 때 가장 힘들 때가 여름에 무더울 때 김 내고 이럴 때...</td>\n",
       "    </tr>\n",
       "    <tr>\n",
       "      <th>419430</th>\n",
       "      <td>total-say_set1_collectorgs348_speakergs2670_41...</td>\n",
       "      <td>3.350</td>\n",
       "      <td>/data/MTDATA/fn-2-018/root/person/say/gs/colle...</td>\n",
       "      <td>total</td>\n",
       "      <td>물려 입는 것에 대해 좋다꼬 생각합니다</td>\n",
       "    </tr>\n",
       "  </tbody>\n",
       "</table>\n",
       "</div>"
      ],
      "text/plain": [
       "                                                        ID  duration  \\\n",
       "397325   total-say_set1_collectorgs65_speakergs2211_27_...     5.599   \n",
       "206458   total-talk_set1_collectorjl186_speakerjl2307_s...     3.589   \n",
       "425627   total-say_set1_collectorgs384_speakergs3749_15...     4.530   \n",
       "334724   total-say_set1_collectorgs436_speakergs4107_64...     4.610   \n",
       "800537   total-say_set3_collectorjl124_speakerjl1249_40...    12.511   \n",
       "1004435  total-say_set1_collectorgw197_speakergw1410_47...    14.609   \n",
       "419430   total-say_set1_collectorgs348_speakergs2670_41...     3.350   \n",
       "\n",
       "                                                       wav province_code  \\\n",
       "397325   /data/MTDATA/fn-2-018/root/person/say/gs/colle...         total   \n",
       "206458   /data/MTDATA/fn-2-018/root/people/talk/jl/coll...         total   \n",
       "425627   /data/MTDATA/fn-2-018/root/person/say/gs/colle...         total   \n",
       "334724   /data/MTDATA/fn-2-018/root/person/say/gs/colle...         total   \n",
       "800537   /data/MTDATA/fn-2-018/root/person/say/jl/colle...         total   \n",
       "1004435  /data/MTDATA/fn-2-018/root/person/say/gw/colle...         total   \n",
       "419430   /data/MTDATA/fn-2-018/root/person/say/gs/colle...         total   \n",
       "\n",
       "                                                       wrd  \n",
       "397325      그래 누가 어디 가서 이야기 아들이라 카더라고요 그래 낳아 보니 진짜 아들이더라고예  \n",
       "206458                            그먼 좋기는 좋지만은 나는 현찰이 필요하요야  \n",
       "425627                         꽃보다 단풍이 더 좋은 것 겉더라 꽃도 좋아하는데  \n",
       "334724                             옛날에는 뜨거운 물 사용할라면은 힘들었어요  \n",
       "800537   그러니까 이 년도 안된 에어컨이 중고상에 내놓으라니까 한 육 칠십 만 원밖에 안 되...  \n",
       "1004435  가장 힘든 거야 뭐 내가 볼 때 가장 힘들 때가 여름에 무더울 때 김 내고 이럴 때...  \n",
       "419430                               물려 입는 것에 대해 좋다꼬 생각합니다  "
      ]
     },
     "execution_count": 11,
     "metadata": {},
     "output_type": "execute_result"
    }
   ],
   "source": [
    "total_df.sample(frac=0.000005, # fraction of axis items to return.\n",
    "          random_state=7774)"
   ]
  },
  {
   "cell_type": "code",
   "execution_count": 12,
   "metadata": {},
   "outputs": [
    {
     "data": {
      "text/plain": [
       "397325     5.599\n",
       "206458     3.589\n",
       "425627     4.530\n",
       "334724     4.610\n",
       "800537    12.511\n",
       "Name: duration, dtype: float64"
      ]
     },
     "execution_count": 12,
     "metadata": {},
     "output_type": "execute_result"
    }
   ],
   "source": [
    "total_df['duration'].sample(n=5, random_state=7774)"
   ]
  },
  {
   "cell_type": "code",
   "execution_count": null,
   "metadata": {},
   "outputs": [],
   "source": [
    "say_talk_df[\"gender\"].value_counts().sort_index().plot(kind=\"bar\")"
   ]
  },
  {
   "cell_type": "code",
   "execution_count": null,
   "metadata": {},
   "outputs": [],
   "source": []
  }
 ],
 "metadata": {
  "kernelspec": {
   "display_name": "base",
   "language": "python",
   "name": "python3"
  },
  "language_info": {
   "codemirror_mode": {
    "name": "ipython",
    "version": 3
   },
   "file_extension": ".py",
   "mimetype": "text/x-python",
   "name": "python",
   "nbconvert_exporter": "python",
   "pygments_lexer": "ipython3",
   "version": "3.8.12"
  },
  "orig_nbformat": 4,
  "vscode": {
   "interpreter": {
    "hash": "d4d1e4263499bec80672ea0156c357c1ee493ec2b1c70f0acce89fc37c4a6abe"
   }
  }
 },
 "nbformat": 4,
 "nbformat_minor": 2
}
